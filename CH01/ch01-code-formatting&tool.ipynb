{
 "cells": [
  {
   "attachments": {},
   "cell_type": "markdown",
   "metadata": {},
   "source": [
    "# CH01.소개 및 코드 포매팅과 도구"
   ]
  },
  {
   "attachments": {},
   "cell_type": "markdown",
   "metadata": {},
   "source": [
    "### Meaning of Clean Code\n",
    "- 프로그래밍 언어의 진정한 의미는 아이디어를 다른 개발자에게 전달하는 것\n",
    "- 클린코드인지 아닌지는 다른 엔지니어가 코드를 읽고 유지 관리할 수 있는지 여부에 달려 있다"
   ]
  },
  {
   "attachments": {},
   "cell_type": "markdown",
   "metadata": {},
   "source": [
    "### Importance of Clean Code\n",
    "\n",
    "- 대부분 유지보수성 향상\n",
    "- 기술 부채의 감소,\n",
    "- 애자일 개발을 통한 효과적인 작업 진행 ,성공적인 프로젝트 관리로 이어짐\n",
    "\n",
    "- 기술부채: 나쁜 결정이나 적당한 타협의 결과로 생긴 소프트웨어적 결함\n",
    "    - 과거의 방향(현재 문제가 과거의 타협에서 발생)과 미래의 방향(미래 문제의 원인을 제공)\n",
    "    - 언제나 돌발 변수가 생길 수 있음\n",
    "\n",
    "#### 클린 코드에서 코드 포매팅의 역할\n",
    "\n",
    "- 클린코드는 코드 포매팅 그 이상의 것을 의미하면 유지보수성이나 소프트웨어 품질에 관한 것\n",
    "\n",
    "- PEP-8 준수와 같은 것과 않으나 작업의 효율화를 위해 중요\n",
    "- PEP-8 : https://b.luavis.kr/python/python-convention\n",
    "\n",
    "\n",
    "#### 프로젝트 코딩 스타일 가이드 준수\n",
    "\n",
    "- 좋은 코드 레이아웃에서 필요한 특성 \"일관성\"\n",
    "\n",
    "- PEP-8 파이썬의 좋은 표준!!\n"
   ]
  },
  {
   "cell_type": "code",
   "execution_count": null,
   "metadata": {},
   "outputs": [],
   "source": [
    "! grep -nr \"location =\"."
   ]
  },
  {
   "cell_type": "code",
   "execution_count": null,
   "metadata": {},
   "outputs": [],
   "source": [
    "! grep -nr \"location =\" ."
   ]
  },
  {
   "attachments": {},
   "cell_type": "markdown",
   "metadata": {},
   "source": [
    "###  Docstring & Annotation\n",
    "\n",
    "- 주석은 되도록 지양, Docstring로 대체\n",
    "- Annotation 파이썬 동적 타입으로 인한 모호성을 개선하고, Mypy 같은 동구의 자동화 검증\n",
    "    수단으로 활용\n",
    "\n",
    "#### Docstring\n",
    "- 소스 코드에 포함된 문서이며 코멘트가 아님\n",
    "- 가능한 많은 docstring을 추가하는 것을 권장함\n",
    "- Docstring하면 사용할 때 이해가 쉽다\n",
    "\n"
   ]
  },
  {
   "cell_type": "code",
   "execution_count": 9,
   "metadata": {},
   "outputs": [
    {
     "name": "stdout",
     "output_type": "stream",
     "text": [
      "<method 'update' of 'dict' objects>\n",
      "D.update([E, ]**F) -> None.  Update D from dict/iterable E and F.\n",
      "If E is present and has a .keys() method, then does:  for k in E: D[k] = E[k]\n",
      "If E is present and lacks a .keys() method, then does:  for k, v in E: D[k] = v\n",
      "In either case, this is followed by: for k in F:  D[k] = F[k]\n"
     ]
    }
   ],
   "source": [
    "print(dict.update)\n",
    "print(dict.update.__doc__)  #__doc__ -> Docstring   "
   ]
  },
  {
   "cell_type": "code",
   "execution_count": 10,
   "metadata": {},
   "outputs": [
    {
     "name": "stdout",
     "output_type": "stream",
     "text": [
      "{1: 'one', 2: 'two'}\n",
      "{1: 'one', 2: 'two', 3: 'three', 4: 'four'}\n"
     ]
    }
   ],
   "source": [
    "# use dictionary update\n",
    "d = {}\n",
    "d.update({1:\"one\", 2: \"two\"})\n",
    "print(d)\n",
    "\n",
    "\n",
    "# iterable update\n",
    "d.update([(3, \"three\"), (4, \"four\")])\n",
    "print(d)"
   ]
  },
  {
   "cell_type": "code",
   "execution_count": 11,
   "metadata": {},
   "outputs": [
    {
     "data": {
      "text/plain": [
       "'임의의 계산 수행'"
      ]
     },
     "execution_count": 11,
     "metadata": {},
     "output_type": "execute_result"
    }
   ],
   "source": [
    "\"\"\"write docstring\"\"\"\n",
    "\n",
    "def my_functions():\n",
    "    \"\"\"임의의 계산 수행\"\"\"\n",
    "    return None\n",
    "\n",
    "my_functions.__doc__"
   ]
  },
  {
   "attachments": {},
   "cell_type": "markdown",
   "metadata": {},
   "source": [
    "#### Annotation\n",
    "\n",
    "- 코드 사용자에게 함수 인자로 어떤 값이 와야 하는지 힌트 제공\n",
    "- 파이썬이 타입을 검사하거나 강제하지는 않음\n",
    "- __annotations__이라는 특수한 속성 생김\n"
   ]
  },
  {
   "cell_type": "code",
   "execution_count": 13,
   "metadata": {},
   "outputs": [
    {
     "data": {
      "text/plain": [
       "{'lattitude': float, 'longitude': float, 'return': __main__.Point}"
      ]
     },
     "execution_count": 13,
     "metadata": {},
     "output_type": "execute_result"
    }
   ],
   "source": [
    "\n",
    "\"\"\"Annotation을 사용해 변수의 예상타입을 지정할 수 있다.\n",
    "실제로는 타입 뿐 아니라 변수를 이해하는데 도음이 되는 \n",
    "어떤 형태의 메타데이터랑도 지정할 수 있음\"\"\"\n",
    "\n",
    "\"\"\"usage\"\"\"\n",
    "\n",
    "\n",
    "class Point:\n",
    "    def __init__(self, lat, long):\n",
    "        self.lat = lat\n",
    "        self.long = long\n",
    "\n",
    "def locate(lattitude: float, longitude: float) -> Point:\n",
    "    pass\n",
    "\n",
    "locate.__annotations__"
   ]
  },
  {
   "cell_type": "code",
   "execution_count": 14,
   "metadata": {},
   "outputs": [
    {
     "data": {
      "text/plain": [
       "{'lat': float, 'long': float}"
      ]
     },
     "execution_count": 14,
     "metadata": {},
     "output_type": "execute_result"
    }
   ],
   "source": [
    "\"\"\"변수 타입에 적용 가능\"\"\"\n",
    "\n",
    "class Point:\n",
    "    lat:float\n",
    "    long:float\n",
    "    \n",
    "    \n",
    "    \n",
    "Point.__annotations__"
   ]
  },
  {
   "attachments": {},
   "cell_type": "markdown",
   "metadata": {},
   "source": [
    "#### Annotation은 docstring 을 대체??\n",
    "- 일부 대체 가능 but 보다 나은 문서화를 위한 여지를 남겨두어야함\n",
    "- docstring으로 예외 시 설명을 기술"
   ]
  },
  {
   "attachments": {},
   "cell_type": "markdown",
   "metadata": {},
   "source": [
    "#### 기술 품질 향상을 위한 도구 설정\n",
    "\n",
    "- 이 코드를 동료 개발자가 쉽게 이해 가능?\n",
    "- 업무 도메인에 대해서 말하고 있는가?\n",
    "- 팀에 새로 합류하는 사람도 쉽게 이해하고 효과적으로 작업하게!\n",
    "\n",
    "- mypy: 프로젝트의 모든 파일 분석하여  타입 불일치를 검사\n",
    "- Pylint: PEP-8(pycodestyle) 준수 여부 검사\n",
    "- black : PEP-8 준수여부 검사 후 자동으로 바꿈\n",
    "    - https://black.readthedocs.io/en/stable/\n",
    "    - https://github.com/psf/black\n"
   ]
  },
  {
   "cell_type": "code",
   "execution_count": null,
   "metadata": {},
   "outputs": [],
   "source": []
  },
  {
   "cell_type": "code",
   "execution_count": null,
   "metadata": {},
   "outputs": [],
   "source": []
  },
  {
   "cell_type": "code",
   "execution_count": null,
   "metadata": {},
   "outputs": [],
   "source": []
  },
  {
   "cell_type": "code",
   "execution_count": null,
   "metadata": {},
   "outputs": [],
   "source": []
  },
  {
   "cell_type": "code",
   "execution_count": null,
   "metadata": {},
   "outputs": [],
   "source": []
  },
  {
   "cell_type": "code",
   "execution_count": null,
   "metadata": {},
   "outputs": [],
   "source": []
  },
  {
   "cell_type": "code",
   "execution_count": null,
   "metadata": {},
   "outputs": [],
   "source": []
  }
 ],
 "metadata": {
  "kernelspec": {
   "display_name": "Python 3",
   "language": "python",
   "name": "python3"
  },
  "language_info": {
   "codemirror_mode": {
    "name": "ipython",
    "version": 3
   },
   "file_extension": ".py",
   "mimetype": "text/x-python",
   "name": "python",
   "nbconvert_exporter": "python",
   "pygments_lexer": "ipython3",
   "version": "3.11.3"
  },
  "orig_nbformat": 4
 },
 "nbformat": 4,
 "nbformat_minor": 2
}
