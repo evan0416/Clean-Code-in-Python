{
 "cells": [
  {
   "cell_type": "markdown",
   "metadata": {},
   "source": [
    "# CH02 Pythonic Code"
   ]
  },
  {
   "cell_type": "markdown",
   "metadata": {},
   "source": [
    "(파이썬스럽다  == pythonic)"
   ]
  },
  {
   "cell_type": "markdown",
   "metadata": {},
   "source": [
    "- 목표\n",
    "    - 인덱스와 슬라이스 이해하고 인덱싱 가능한 객체를 올바른 방식으로 구현하기\n",
    "    - 시퀀스와 이터러블 구현하기\n",
    "    - 컨텍스트 관리자를 만드는 모범 사례 연구\n",
    "    - 매직 매서드를 사용해 보다 관용적인 코드 구현\n",
    "    - 파이썬에서 부작용을 유발하는 흔한 실수 피하기"
   ]
  },
  {
   "cell_type": "markdown",
   "metadata": {},
   "source": [
    "##### index&slice"
   ]
  },
  {
   "cell_type": "code",
   "execution_count": 1,
   "metadata": {},
   "outputs": [
    {
     "name": "stdout",
     "output_type": "stream",
     "text": [
      "negative index : 9 5\n",
      "slice : (2, 3, 5)\n",
      "slice : (1, 1, 2)\n",
      "slice : (3, 5, 8, 13, 21)\n",
      "slice : (21, 13, 8, 5, 3, 2, 1, 1)\n",
      "slice : (1, 1, 2, 3, 5, 8, 13, 21)\n",
      "slice : (1, 3, 8)\n",
      "slice use var interval (1, 3, 8)\n",
      "True\n"
     ]
    },
    {
     "data": {
      "text/plain": [
       "'Tip:tuple, string, list의 특정요소를 가져오려한다면 for문보다는 이와 같은 방법 추천'"
      ]
     },
     "execution_count": 1,
     "metadata": {},
     "output_type": "execute_result"
    }
   ],
   "source": [
    "my_numbers = (4, 5, 3, 9)       #tuple : hashable\n",
    "\n",
    "print(\"negative index :\", my_numbers[-1], my_numbers[-3])\n",
    "\n",
    "my_numbers = (1, 1, 2, 3, 5, 8, 13 , 21)\n",
    "print(\"slice :\", my_numbers[2:5])\n",
    "print(\"slice :\", my_numbers[:3])\n",
    "print(\"slice :\", my_numbers[3:])\n",
    "print(\"slice :\", my_numbers[::-1])\n",
    "\n",
    "print(\"slice :\", my_numbers[::])\n",
    "\n",
    "print(\"slice :\", my_numbers[1:7:2])\n",
    "\n",
    "interval = slice(1, 7, 2)\n",
    "print(\"slice use var interval\",my_numbers[interval])\n",
    "\n",
    "interval = slice(None, 3)\n",
    "print(my_numbers[interval] == my_numbers[:3])\n",
    "\n",
    "\"\"\"Tip:tuple, string, list의 특정요소를 가져오려한다면 for문보다는 이와 같은 방법 추천\"\"\""
   ]
  },
  {
   "attachments": {},
   "cell_type": "markdown",
   "metadata": {},
   "source": [
    "#### 자체 시퀀스 생성\n",
    "- 범위로 덱싱하는 결과는 해당 클래스와 같은 타입의 인스턴스여야 한다\n",
    "- slice에 의해 제공된 범위는 파이썬이 하는 것처럼 마지막 요소는 제외해야 한다\n"
   ]
  },
  {
   "cell_type": "code",
   "execution_count": 2,
   "metadata": {},
   "outputs": [],
   "source": [
    "\"\"\"None\"\"\"\n",
    "class Item:\n",
    "    def __init__(self, *values):\n",
    "        self._values = list(values)\n",
    "        \n",
    "    def __len__(self):\n",
    "        return len(self._values)\n",
    "    \n",
    "    def __getitem__(self, item):\n",
    "        return self._values.__getitem__(item)\n",
    "        "
   ]
  },
  {
   "cell_type": "code",
   "execution_count": 3,
   "metadata": {},
   "outputs": [
    {
     "name": "stdout",
     "output_type": "stream",
     "text": [
      "3\n",
      "[4, 5]\n",
      "<class 'list'>\n"
     ]
    }
   ],
   "source": [
    "item = Item(3, 4, 5)\n",
    "print(len(item))\n",
    "print(item[1:])\n",
    "print(type(item[1:]))"
   ]
  },
  {
   "cell_type": "code",
   "execution_count": 4,
   "metadata": {},
   "outputs": [
    {
     "data": {
      "text/plain": [
       "range(26, 51)"
      ]
     },
     "execution_count": 4,
     "metadata": {},
     "output_type": "execute_result"
    }
   ],
   "source": [
    "\"\"\"range의 간격을 지정하면 당연하게도 리스트가 아닌 새로운 range를 얻게 된다.\"\"\"\n",
    "range(1, 100)[25:50]"
   ]
  },
  {
   "attachments": {},
   "cell_type": "markdown",
   "metadata": {},
   "source": [
    "#### Context manager(컨텍스트 관리자)\n",
    "- enter__와 __exit 두 개의 매직 메서드로 구성됨\n",
    "- with 문은 enter 메서드를 호출하고 이 메서드가 무엇을 반환하든 as 이후에 지정된 변수에 할당됨\n",
    "- 해당 블록에 대한 마지막 문장이 끝나면 Context 종료되며 exit 메서드 호출\n",
    "- 블록 내에 예외 또는 오류가 있는 경우에도 exit 메서드가 여전히 호출되며, 예외는 파라미터로 확인가능\n",
    "    - True를 반환하면 잠재적으로 발생한 예외를 호출자에게 전파하지 않고 정지함을 의미하나  \n",
    "         좋지 않은 습관"
   ]
  },
  {
   "cell_type": "code",
   "execution_count": 5,
   "metadata": {},
   "outputs": [
    {
     "ename": "NameError",
     "evalue": "name 'process_file' is not defined",
     "output_type": "error",
     "traceback": [
      "\u001b[0;31m---------------------------------------------------------------------------\u001b[0m",
      "\u001b[0;31mNameError\u001b[0m                                 Traceback (most recent call last)",
      "Cell \u001b[0;32mIn[5], line 4\u001b[0m\n\u001b[1;32m      2\u001b[0m fd \u001b[39m=\u001b[39m\u001b[39mopen\u001b[39m(filename)\n\u001b[1;32m      3\u001b[0m \u001b[39mtry\u001b[39;00m:\n\u001b[0;32m----> 4\u001b[0m     process_file(fd)\n\u001b[1;32m      5\u001b[0m \u001b[39mfinally\u001b[39;00m:\n\u001b[1;32m      6\u001b[0m     fd\u001b[39m.\u001b[39mclose()\n",
      "\u001b[0;31mNameError\u001b[0m: name 'process_file' is not defined"
     ]
    }
   ],
   "source": [
    "filename = \"temp.txt\"\n",
    "fd =open(filename)\n",
    "try:\n",
    "    process_file(fd)\n",
    "finally:\n",
    "    fd.close()\n"
   ]
  },
  {
   "cell_type": "code",
   "execution_count": 6,
   "metadata": {},
   "outputs": [
    {
     "name": "stdout",
     "output_type": "stream",
     "text": [
      "systemctl stop postgresql.service\n",
      "pg_dump database\n",
      "systemctl start postgresql.service\n"
     ]
    }
   ],
   "source": [
    "\"\"\" Context Manager using in DB Dump\"\"\"\n",
    "\n",
    "def stop_database():\n",
    "    print(\"systemctl stop postgresql.service\")\n",
    "    \n",
    "def start_database():\n",
    "    print(\"systemctl start postgresql.service\")\n",
    "    \n",
    "class DBHandler:\n",
    "    def __enter__(self):\n",
    "        stop_database()\n",
    "        return self\n",
    "    \n",
    "    def __exit__(self, exc_type, ex_value, ex_traceback):\n",
    "        start_database()\n",
    "        \n",
    "def db_backup():\n",
    "    print(\"pg_dump database\")\n",
    "\n",
    "def main():\n",
    "    with DBHandler():\n",
    "        db_backup()\n",
    "main()"
   ]
  },
  {
   "attachments": {},
   "cell_type": "markdown",
   "metadata": {},
   "source": [
    "#### Context manager Implement\n",
    "- contextlib 모듈을 활용한 Context Manager 구현 가능\n",
    "    - contextlib.contextmanager decorater를 적용하면 해당 함수의 코드를 Context Manger 로 변환함\n",
    "    - contextlib.ContextDecorater 를 사용하면 with문 없이 완전히 독립적인 실행 o\n",
    "        - 컨텍스트 관리자 내부에서 사용하고자 하느 객체를 얻을 수 없는 단점\n",
    "        - e.g.) with offline_back() as bp : 처럼 사용할 수 없음\n",
    "\n",
    "    - with contextlib.suppress(DataConversionException) 은 로직 자체적으로 처리하고 있음을 에외임을 명시하고 실패하지 않도록 함"
   ]
  },
  {
   "cell_type": "code",
   "execution_count": 7,
   "metadata": {},
   "outputs": [
    {
     "name": "stdout",
     "output_type": "stream",
     "text": [
      "systemctl stop postgresql.service\n",
      "pg_dump database\n",
      "systemctl start postgresql.service\n"
     ]
    }
   ],
   "source": [
    "import contextlib\n",
    "\n",
    "@contextlib.contextmanager\n",
    "def db_handler():\n",
    "    stop_database()\n",
    "    yield               #아무것도 반환하지 않음\n",
    "    start_database()\n",
    "    \n",
    "        \n",
    "def main():\n",
    "    with db_handler():\n",
    "        db_backup()\n",
    "    \n",
    "main()"
   ]
  },
  {
   "cell_type": "code",
   "execution_count": 8,
   "metadata": {},
   "outputs": [],
   "source": [
    "import contextlib\n",
    "\n",
    "class db_handler_decorater(contextlib.ContextDecorator):\n",
    "    def __enter__(self):\n",
    "        stop_database()\n",
    "        \n",
    "    def __exit__(self, ext_type, ex_value, ex_traceback):\n",
    "        start_database()\n",
    "\n",
    "@db_handler_decorater()\n",
    "def offline_backup():\n",
    "    print(\"pg_dump database\")"
   ]
  },
  {
   "attachments": {},
   "cell_type": "markdown",
   "metadata": {},
   "source": [
    "#### 프로퍼티, 속성과 객체 매서드의 다른 타입들\n",
    "- 파이썬 객체의 모든 프로퍼티오 함수는 public\n",
    "- 밑줄로 시작하는 속성은 해당 객체에 대해 private을 의미하며,  \n",
    "     외부에서 호출하지 않기를 기대하는것"
   ]
  },
  {
   "attachments": {},
   "cell_type": "markdown",
   "metadata": {},
   "source": [
    "##### 파이썬에서의 밑줄\n",
    "- 이중 밑줄은 여러번 확장되는 클래스의 메서드를 이름 충돌 없이  \n",
    "  오버라이드하기 위해 만들어짐\n",
    "- 이중 밑줄이 아닌 하나의 밑줄을 사용하는 파이썬의 관습을 지킬 것"
   ]
  },
  {
   "cell_type": "code",
   "execution_count": 9,
   "metadata": {},
   "outputs": [
    {
     "name": "stdout",
     "output_type": "stream",
     "text": [
      "postgresql://localhost\n",
      "{'source': 'postgresql://localhost', '_timeout': 70}\n"
     ]
    }
   ],
   "source": [
    "class Connecter:\n",
    "    def __init__(self, source):\n",
    "        self.source = source\n",
    "        self._timeout = 60  #하나의 밑줄\n",
    "        \n",
    "conn = Connecter(\"postgresql://localhost\")\n",
    "\n",
    "conn._timeout   = 70\n",
    "print(conn.source)\n",
    "print(conn.__dict__)"
   ]
  },
  {
   "cell_type": "code",
   "execution_count": 10,
   "metadata": {},
   "outputs": [
    {
     "ename": "AttributeError",
     "evalue": "'Connecter' object has no attribute '__timeout'",
     "output_type": "error",
     "traceback": [
      "\u001b[0;31m---------------------------------------------------------------------------\u001b[0m",
      "\u001b[0;31mAttributeError\u001b[0m                            Traceback (most recent call last)",
      "Cell \u001b[0;32mIn[10], line 8\u001b[0m\n\u001b[1;32m      4\u001b[0m         \u001b[39mself\u001b[39m\u001b[39m.\u001b[39m__timeout \u001b[39m=\u001b[39m \u001b[39m60\u001b[39m     \u001b[39m# 두 개의 밑줄\u001b[39;00m\n\u001b[1;32m      6\u001b[0m conn \u001b[39m=\u001b[39m Connecter(\u001b[39m\"\u001b[39m\u001b[39mpostgresql://localhost\u001b[39m\u001b[39m\"\u001b[39m)\n\u001b[0;32m----> 8\u001b[0m conn\u001b[39m.\u001b[39;49m__timeout\n\u001b[1;32m      9\u001b[0m \u001b[39m#AttributeError: 'Connecter' object has no attribute '__timeout'\u001b[39;00m\n",
      "\u001b[0;31mAttributeError\u001b[0m: 'Connecter' object has no attribute '__timeout'"
     ]
    }
   ],
   "source": [
    "class Connecter:\n",
    "    def __init__(self, source):\n",
    "        self.source = source\n",
    "        self.__timeout = 60     # 두 개의 밑줄\n",
    "        \n",
    "conn = Connecter(\"postgresql://localhost\")\n",
    "\n",
    "conn.__timeout\n",
    "#AttributeError: 'Connecter' object has no attribute '__timeout'"
   ]
  },
  {
   "cell_type": "code",
   "execution_count": 11,
   "metadata": {},
   "outputs": [
    {
     "name": "stdout",
     "output_type": "stream",
     "text": [
      "{'source': 'postgresql://localhost', '_Connecter__timeout': 60, '_Connector__timeout': 80}\n"
     ]
    }
   ],
   "source": [
    "conn._Connector__timeout =80\n",
    "print(conn.__dict__)"
   ]
  },
  {
   "cell_type": "code",
   "execution_count": 12,
   "metadata": {},
   "outputs": [
    {
     "name": "stdout",
     "output_type": "stream",
     "text": [
      "{'source': 'postgresql://localhost', '_Connecter__timeout': 60, '_Connector__timeout': 80}\n",
      "60\n"
     ]
    }
   ],
   "source": [
    "print(vars(conn))\n",
    "print(conn._Connecter__timeout)"
   ]
  },
  {
   "attachments": {},
   "cell_type": "markdown",
   "metadata": {},
   "source": [
    "##### 프로퍼티\n",
    "- 객체의 어떤 속성에 대한 접근을 제어하려는 경우 사용\n",
    "- 자바는 접근 메서드(getter/setter) 파이썬은 프로퍼티"
   ]
  },
  {
   "cell_type": "code",
   "execution_count": 13,
   "metadata": {},
   "outputs": [
    {
     "ename": "ValueError",
     "evalue": "유효한 이메일이 아니므로 shyeon.kang@ 값을 사용할 수 없음",
     "output_type": "error",
     "traceback": [
      "\u001b[0;31m---------------------------------------------------------------------------\u001b[0m",
      "\u001b[0;31mValueError\u001b[0m                                Traceback (most recent call last)",
      "Cell \u001b[0;32mIn[13], line 27\u001b[0m\n\u001b[1;32m     24\u001b[0m         \u001b[39mself\u001b[39m\u001b[39m.\u001b[39m_email \u001b[39m=\u001b[39m new_email\n\u001b[1;32m     26\u001b[0m user \u001b[39m=\u001b[39m User(\u001b[39m\"\u001b[39m\u001b[39mshyeon.kang\u001b[39m\u001b[39m\"\u001b[39m)\n\u001b[0;32m---> 27\u001b[0m user\u001b[39m.\u001b[39;49memail \u001b[39m=\u001b[39m \u001b[39m\"\u001b[39m\u001b[39mshyeon.kang@\u001b[39m\u001b[39m\"\u001b[39m\n",
      "Cell \u001b[0;32mIn[13], line 23\u001b[0m, in \u001b[0;36mUser.email\u001b[0;34m(self, new_email)\u001b[0m\n\u001b[1;32m     20\u001b[0m \u001b[39m@email\u001b[39m\u001b[39m.\u001b[39msetter\n\u001b[1;32m     21\u001b[0m \u001b[39mdef\u001b[39;00m \u001b[39memail\u001b[39m(\u001b[39mself\u001b[39m, new_email):\n\u001b[1;32m     22\u001b[0m     \u001b[39mif\u001b[39;00m \u001b[39mnot\u001b[39;00m is_valid_email(new_email):\n\u001b[0;32m---> 23\u001b[0m         \u001b[39mraise\u001b[39;00m \u001b[39mValueError\u001b[39;00m(\u001b[39mf\u001b[39m\u001b[39m\"\u001b[39m\u001b[39m유효한 이메일이 아니므로 \u001b[39m\u001b[39m{\u001b[39;00mnew_email\u001b[39m}\u001b[39;00m\u001b[39m 값을 사용할 수 없음\u001b[39m\u001b[39m\"\u001b[39m)\n\u001b[1;32m     24\u001b[0m     \u001b[39mself\u001b[39m\u001b[39m.\u001b[39m_email \u001b[39m=\u001b[39m new_email\n",
      "\u001b[0;31mValueError\u001b[0m: 유효한 이메일이 아니므로 shyeon.kang@ 값을 사용할 수 없음"
     ]
    }
   ],
   "source": [
    "import re\n",
    "\n",
    "EMAIL_FORMAT = re.compile(r\"[^@]+@[^@]+[^@]+\")\n",
    "\n",
    "\n",
    "def is_valid_email(potentially_valid_email: str):\n",
    "    return re.match(EMAIL_FORMAT, potentially_valid_email) is not None\n",
    "\n",
    "\n",
    "\n",
    "class User:\n",
    "    def __init__(self, username):\n",
    "        self.username = username\n",
    "        self._email = None\n",
    "\n",
    "    @property\n",
    "    def email(self):\n",
    "        return self._email\n",
    "\n",
    "    @email.setter\n",
    "    def email(self, new_email):\n",
    "        if not is_valid_email(new_email):\n",
    "            raise ValueError(f\"유효한 이메일이 아니므로 {new_email} 값을 사용할 수 없음\")\n",
    "        self._email = new_email\n",
    "\n",
    "user = User(\"shyeon.kang\")\n",
    "user.email = \"shyeon.kang@\"\n"
   ]
  },
  {
   "cell_type": "code",
   "execution_count": 14,
   "metadata": {},
   "outputs": [],
   "source": [
    "user = User(\"Jang SeokHee\")\n",
    "user.email = \"SeokHee@gmail.com\""
   ]
  },
  {
   "attachments": {},
   "cell_type": "markdown",
   "metadata": {},
   "source": [
    "#### 이터러블 객체\n",
    "- 반복 가능한지 확인하기 위해 파이썬은 고수준에서 다음 두 가지를 차례로 검사\n",
    "    - 객체가 __next__ 나 __iter__ 이터레이터 메소드 중 하나를 포함하는지 여부\n",
    "    - 객체가 시퀀스이고 __len__과 __getitem__을 모두 가졌는지 여부"
   ]
  },
  {
   "attachments": {},
   "cell_type": "markdown",
   "metadata": {},
   "source": [
    "##### 이터러블 객체 만들기\n",
    "- 객체를 반복하려고 하면 파이썬은 해당 객체의 iter() 함수를 호출\n",
    "- for 문은 StopIteration 예외가 발생할 때까지 next() 호출"
   ]
  },
  {
   "cell_type": "code",
   "execution_count": 15,
   "metadata": {},
   "outputs": [
    {
     "name": "stdout",
     "output_type": "stream",
     "text": [
      "2019-01-01\n",
      "2019-01-02\n",
      "2019-01-03\n",
      "2019-01-04\n"
     ]
    }
   ],
   "source": [
    "from datetime import timedelta\n",
    "from datetime import date\n",
    "\n",
    "class DateRangeIterable:\n",
    "    \"\"\" 자체 이터레이터 메서드를 가지고 있음 \"\"\"\n",
    "\n",
    "    def __init__(self, start_date, end_date):\n",
    "        self.start_date = start_date\n",
    "        self.end_date = end_date\n",
    "        self._present_day = start_date\n",
    "\n",
    "    def __iter__(self):\n",
    "        return self # 자신이 이터러블임을 나타냄\n",
    "\n",
    "    def __next__(self):\n",
    "        if self._present_day >= self.end_date:\n",
    "            raise StopIteration\n",
    "        today = self._present_day\n",
    "        self._present_day += timedelta(days=1)\n",
    "        return today\n",
    "\n",
    "for day in DateRangeIterable(date(2019, 1, 1), date(2019, 1, 5)):\n",
    "    print(day)"
   ]
  },
  {
   "cell_type": "markdown",
   "metadata": {},
   "source": [
    "for 문은 StopAsyncIteration 예외가 발생할 때까지 next()를 호출하는 것과 같으"
   ]
  },
  {
   "cell_type": "code",
   "execution_count": 16,
   "metadata": {},
   "outputs": [],
   "source": [
    "r = DateRangeIterable(date(2019, 1, 1), date(2019, 1, 5))"
   ]
  },
  {
   "cell_type": "code",
   "execution_count": 17,
   "metadata": {},
   "outputs": [
    {
     "data": {
      "text/plain": [
       "(datetime.date(2019, 1, 1),\n",
       " datetime.date(2019, 1, 2),\n",
       " datetime.date(2019, 1, 3),\n",
       " datetime.date(2019, 1, 4))"
      ]
     },
     "execution_count": 17,
     "metadata": {},
     "output_type": "execute_result"
    }
   ],
   "source": [
    "next(r), next(r), next(r), next(r)"
   ]
  },
  {
   "cell_type": "code",
   "execution_count": 18,
   "metadata": {},
   "outputs": [
    {
     "ename": "StopIteration",
     "evalue": "",
     "output_type": "error",
     "traceback": [
      "\u001b[0;31m---------------------------------------------------------------------------\u001b[0m",
      "\u001b[0;31mStopIteration\u001b[0m                             Traceback (most recent call last)",
      "Cell \u001b[0;32mIn[18], line 1\u001b[0m\n\u001b[0;32m----> 1\u001b[0m \u001b[39mnext\u001b[39;49m(r)\n",
      "Cell \u001b[0;32mIn[15], line 17\u001b[0m, in \u001b[0;36mDateRangeIterable.__next__\u001b[0;34m(self)\u001b[0m\n\u001b[1;32m     15\u001b[0m \u001b[39mdef\u001b[39;00m \u001b[39m__next__\u001b[39m(\u001b[39mself\u001b[39m):\n\u001b[1;32m     16\u001b[0m     \u001b[39mif\u001b[39;00m \u001b[39mself\u001b[39m\u001b[39m.\u001b[39m_present_day \u001b[39m>\u001b[39m\u001b[39m=\u001b[39m \u001b[39mself\u001b[39m\u001b[39m.\u001b[39mend_date:\n\u001b[0;32m---> 17\u001b[0m         \u001b[39mraise\u001b[39;00m \u001b[39mStopIteration\u001b[39;00m\n\u001b[1;32m     18\u001b[0m     today \u001b[39m=\u001b[39m \u001b[39mself\u001b[39m\u001b[39m.\u001b[39m_present_day\n\u001b[1;32m     19\u001b[0m     \u001b[39mself\u001b[39m\u001b[39m.\u001b[39m_present_day \u001b[39m+\u001b[39m\u001b[39m=\u001b[39m timedelta(days\u001b[39m=\u001b[39m\u001b[39m1\u001b[39m)\n",
      "\u001b[0;31mStopIteration\u001b[0m: "
     ]
    }
   ],
   "source": [
    "next(r)"
   ]
  },
  {
   "cell_type": "markdown",
   "metadata": {},
   "source": [
    "- 한 번 실행하면 끝의 날짜에 도달한 상태이므로 이후에 호출하면 계속 StopIteration 예외가  \n",
    "    발생하는 문제\n",
    "- genorater를 사용하면 이러한 문제 해결 가능 (컨테이너 이터러블)"
   ]
  },
  {
   "cell_type": "code",
   "execution_count": 19,
   "metadata": {},
   "outputs": [
    {
     "data": {
      "text/plain": [
       "'2019-01-01, 2019-01-02, 2019-01-03, 2019-01-04'"
      ]
     },
     "execution_count": 19,
     "metadata": {},
     "output_type": "execute_result"
    }
   ],
   "source": [
    "r1 = DateRangeIterable(date(2019, 1, 1), date(2019, 1, 5))\n",
    "\", \".join(map(str, r1))"
   ]
  },
  {
   "cell_type": "code",
   "execution_count": 20,
   "metadata": {},
   "outputs": [
    {
     "ename": "ValueError",
     "evalue": "max() arg is an empty sequence",
     "output_type": "error",
     "traceback": [
      "\u001b[0;31m---------------------------------------------------------------------------\u001b[0m",
      "\u001b[0;31mValueError\u001b[0m                                Traceback (most recent call last)",
      "Cell \u001b[0;32mIn[20], line 1\u001b[0m\n\u001b[0;32m----> 1\u001b[0m \u001b[39mmax\u001b[39;49m(r1)\n",
      "\u001b[0;31mValueError\u001b[0m: max() arg is an empty sequence"
     ]
    }
   ],
   "source": [
    "max(r1)"
   ]
  },
  {
   "cell_type": "code",
   "execution_count": 32,
   "metadata": {},
   "outputs": [],
   "source": [
    "\"\"\" Apply Container iterable \"\"\"\n",
    "\n",
    "class DateRangeIterable:\n",
    "    \"\"\"자체 이터레이터 메서드를 가지고 있음\"\"\"\n",
    "    \n",
    "    def __init__(self, start_date, end_date):\n",
    "        self.start_date = start_date\n",
    "        self.end_date = end_date\n",
    "        self._present_day = start_date\n",
    "        \n",
    "    def __iter__(self):\n",
    "        current_day = self.start_date\n",
    "        while current_day < self.end_date:\n",
    "            yield current_day\n",
    "            current_day += timedelta(days = 1)"
   ]
  },
  {
   "cell_type": "code",
   "execution_count": 33,
   "metadata": {},
   "outputs": [
    {
     "data": {
      "text/plain": [
       "'2019-01-01, 2019-01-02, 2019-01-03, 2019-01-04'"
      ]
     },
     "execution_count": 33,
     "metadata": {},
     "output_type": "execute_result"
    }
   ],
   "source": [
    "\n",
    "r1 = DateRangeIterable(date(2019, 1, 1), date(2019, 1, 5))\n",
    "\", \".join(map(str, r1))"
   ]
  },
  {
   "cell_type": "code",
   "execution_count": 34,
   "metadata": {},
   "outputs": [
    {
     "data": {
      "text/plain": [
       "datetime.date(2019, 1, 4)"
      ]
     },
     "execution_count": 34,
     "metadata": {},
     "output_type": "execute_result"
    }
   ],
   "source": [
    "max(r1)"
   ]
  },
  {
   "attachments": {},
   "cell_type": "markdown",
   "metadata": {},
   "source": [
    "##### 사퀀스 만들기\n",
    "- 아터러블은 메모리를 적게 사용하지만 n번째 요소를 얻기 위한 시간복잡도는 O(n)이다.\n",
    "- 시퀀스로 구현하면 더 많은 메모리가 사용되지만(모든 것을 보관해야 하므로)  \n",
    "    특정 요소를 가져오기 위한 indexing 시간복잡도는 O(1)로 상수에 가능하다"
   ]
  },
  {
   "cell_type": "code",
   "execution_count": 35,
   "metadata": {},
   "outputs": [],
   "source": [
    "class DateRangeSequence:\n",
    "    def __init__(self, start_date, end_date):\n",
    "        self.start_date = start_date\n",
    "        self.end_date = end_date\n",
    "        self._range = self._create_range()\n",
    "        \n",
    "    def _create_range(self):\n",
    "        days = []\n",
    "        current_day = self.start_date\n",
    "        while current_day < self.end_date:\n",
    "            days.append(current_day)\n",
    "            current_day += timedelta(days=1)\n",
    "        return days\n",
    "    \n",
    "    def __getitem__(self, day_no):\n",
    "        return self._range[day_no]\n",
    "    \n",
    "    def __len__(self):\n",
    "        return len(self._range)\n",
    "    \n",
    "    \n",
    "\"\"\"\n",
    "Tip  두 가지 구현 중 어느 것을 사용할 지 경절할 때 메모리와 CPu 사이의 trade-off\n",
    "계산해보자. 일반저긍로 이터레이션이 더 좋은 선택이지만(제너레이터는 더욱 바람직하지만)\n",
    "모든 경우의 요건을 염두에 둬야 한다.\n",
    "\"\"\"\n",
    "    \n",
    "    "
   ]
  },
  {
   "cell_type": "code",
   "execution_count": 36,
   "metadata": {},
   "outputs": [
    {
     "name": "stdout",
     "output_type": "stream",
     "text": [
      "2019-01-01\n",
      "2019-01-02\n",
      "2019-01-03\n",
      "2019-01-04\n"
     ]
    }
   ],
   "source": [
    "s1 = DateRangeSequence(date(2019, 1, 1), date(2019, 1, 5))\n",
    "for day in s1:\n",
    "    print(day)"
   ]
  },
  {
   "cell_type": "code",
   "execution_count": 37,
   "metadata": {},
   "outputs": [
    {
     "data": {
      "text/plain": [
       "datetime.date(2019, 1, 1)"
      ]
     },
     "execution_count": 37,
     "metadata": {},
     "output_type": "execute_result"
    }
   ],
   "source": [
    "s1[0]"
   ]
  },
  {
   "cell_type": "code",
   "execution_count": 38,
   "metadata": {},
   "outputs": [
    {
     "data": {
      "text/plain": [
       "datetime.date(2019, 1, 4)"
      ]
     },
     "execution_count": 38,
     "metadata": {},
     "output_type": "execute_result"
    }
   ],
   "source": [
    "s1[3]"
   ]
  },
  {
   "cell_type": "code",
   "execution_count": 39,
   "metadata": {},
   "outputs": [
    {
     "data": {
      "text/plain": [
       "datetime.date(2019, 1, 4)"
      ]
     },
     "execution_count": 39,
     "metadata": {},
     "output_type": "execute_result"
    }
   ],
   "source": [
    "s1[-1]"
   ]
  },
  {
   "attachments": {},
   "cell_type": "markdown",
   "metadata": {},
   "source": [
    "#### 컨테이너 객체\n",
    "- 컨테이너는 __contain__메서드를 구현한 객체임\n",
    "- 일반적으로 Boolean 값을 반환하며 in 키워드가 발견될 때 호출됨\n",
    "    - element in container ==> container.__contains__(elemnt)"
   ]
  },
  {
   "cell_type": "code",
   "execution_count": 40,
   "metadata": {},
   "outputs": [],
   "source": [
    "class Boundaries:\n",
    "    def __init__(self, width, height):\n",
    "        self.width = width\n",
    "        self.height =height\n",
    "        \n",
    "    def __contains__(self, coord):\n",
    "        x, y = coord\n",
    "        return 0 <= x < self.width and 0 <= y < self.height\n",
    "    \n",
    "    \n",
    "class Grid:\n",
    "    def __init__(self, width, height):\n",
    "        self.width = width\n",
    "        self.height = height\n",
    "        self.limits = Boundaries(width, height)\n",
    "    \n",
    "    def __contains__(self, coord):\n",
    "        return coord in self.limits\n",
    "   \n",
    "    \n",
    "def mark_coordiante(grid, coord):\n",
    "    if coord in grid: print(f\"{coord} is in limit\")\n",
    "    else: print(f\"{coord} is out of the limit\")"
   ]
  },
  {
   "cell_type": "code",
   "execution_count": 42,
   "metadata": {},
   "outputs": [
    {
     "name": "stdout",
     "output_type": "stream",
     "text": [
      "(3, 4) is in limit\n"
     ]
    }
   ],
   "source": [
    "grid = Grid(4, 5)\n",
    "\n",
    "coord = (3, 4)\n",
    "mark_coordiante(grid, coord)"
   ]
  },
  {
   "cell_type": "code",
   "execution_count": 43,
   "metadata": {},
   "outputs": [
    {
     "name": "stdout",
     "output_type": "stream",
     "text": [
      "(5, 7) is out of the limit\n"
     ]
    }
   ],
   "source": [
    "grid = Grid(4, 5)\n",
    "\n",
    "coord = (5, 7)\n",
    "mark_coordiante(grid, coord)"
   ]
  },
  {
   "attachments": {},
   "cell_type": "markdown",
   "metadata": {},
   "source": [
    "#### 객체의 동적인 속성\n",
    "\n",
    "- 파이썬은 객체를 호출하면 객체 사전에서  찾아서 __getattribute__를 호출\n",
    "- 객체에 찾고 있는 속성이 없는 경우 객체 이름을 파라미터로 getattr이라는 추가 메서드가 호출됨"
   ]
  },
  {
   "cell_type": "code",
   "execution_count": 45,
   "metadata": {},
   "outputs": [],
   "source": [
    "class DynamicAttribute:\n",
    "    def __init__(self, attribute):\n",
    "        self.attribute = attribute\n",
    "        \n",
    "    def __getattr__(self, attr):\n",
    "        if attr.startswith(\"fallback_\"):\n",
    "            name = attr.replace(\"fallback_\", \"\")\n",
    "            return f\"[fallback resolved] {name}\"\n",
    "        raise AttributeError(f\"{self.__class__.__name__}에는 {attr} 속성이 없음.\")\n",
    "\n",
    "\n",
    "\"\"\"Tip : __getattr__ 같은 동적인 메서드를 구현할 때는 AttributeError를 \n",
    "            발생시켜야 한다는 것에 주의하잔\"\"\""
   ]
  },
  {
   "cell_type": "code",
   "execution_count": 46,
   "metadata": {},
   "outputs": [
    {
     "data": {
      "text/plain": [
       "'Value'"
      ]
     },
     "execution_count": 46,
     "metadata": {},
     "output_type": "execute_result"
    }
   ],
   "source": [
    "dyn = DynamicAttribute(\"Value\")\n",
    "dyn.attribute"
   ]
  },
  {
   "cell_type": "code",
   "execution_count": 47,
   "metadata": {},
   "outputs": [
    {
     "data": {
      "text/plain": [
       "'[fallback resolved] test'"
      ]
     },
     "execution_count": 47,
     "metadata": {},
     "output_type": "execute_result"
    }
   ],
   "source": [
    "dyn.fallback_test"
   ]
  },
  {
   "cell_type": "code",
   "execution_count": 48,
   "metadata": {},
   "outputs": [
    {
     "data": {
      "text/plain": [
       "'new value'"
      ]
     },
     "execution_count": 48,
     "metadata": {},
     "output_type": "execute_result"
    }
   ],
   "source": [
    "dyn.__dict__[\"fallback_new\"] = \"new value\"\n",
    "dyn.fallback_new"
   ]
  },
  {
   "cell_type": "code",
   "execution_count": 49,
   "metadata": {},
   "outputs": [
    {
     "data": {
      "text/plain": [
       "'default'"
      ]
     },
     "execution_count": 49,
     "metadata": {},
     "output_type": "execute_result"
    }
   ],
   "source": [
    "getattr(dyn, \"something\", \"default\")"
   ]
  },
  {
   "cell_type": "code",
   "execution_count": 51,
   "metadata": {},
   "outputs": [
    {
     "data": {
      "text/plain": [
       "'new value'"
      ]
     },
     "execution_count": 51,
     "metadata": {},
     "output_type": "execute_result"
    }
   ],
   "source": [
    "getattr(dyn, \"fallback_new\", \"default\")"
   ]
  },
  {
   "cell_type": "code",
   "execution_count": 52,
   "metadata": {},
   "outputs": [
    {
     "ename": "AttributeError",
     "evalue": "DynamicAttribute에는 something 속성이 없음.",
     "output_type": "error",
     "traceback": [
      "\u001b[0;31m---------------------------------------------------------------------------\u001b[0m",
      "\u001b[0;31mAttributeError\u001b[0m                            Traceback (most recent call last)",
      "Cell \u001b[0;32mIn[52], line 1\u001b[0m\n\u001b[0;32m----> 1\u001b[0m dyn\u001b[39m.\u001b[39;49msomething\n",
      "Cell \u001b[0;32mIn[45], line 9\u001b[0m, in \u001b[0;36mDynamicAttribute.__getattr__\u001b[0;34m(self, attr)\u001b[0m\n\u001b[1;32m      7\u001b[0m     name \u001b[39m=\u001b[39m attr\u001b[39m.\u001b[39mreplace(\u001b[39m\"\u001b[39m\u001b[39mfallback_\u001b[39m\u001b[39m\"\u001b[39m, \u001b[39m\"\u001b[39m\u001b[39m\"\u001b[39m)\n\u001b[1;32m      8\u001b[0m     \u001b[39mreturn\u001b[39;00m \u001b[39mf\u001b[39m\u001b[39m\"\u001b[39m\u001b[39m[fallback resolved] \u001b[39m\u001b[39m{\u001b[39;00mname\u001b[39m}\u001b[39;00m\u001b[39m\"\u001b[39m\n\u001b[0;32m----> 9\u001b[0m \u001b[39mraise\u001b[39;00m \u001b[39mAttributeError\u001b[39;00m(\u001b[39mf\u001b[39m\u001b[39m\"\u001b[39m\u001b[39m{\u001b[39;00m\u001b[39mself\u001b[39m\u001b[39m.\u001b[39m\u001b[39m__class__\u001b[39m\u001b[39m.\u001b[39m\u001b[39m__name__\u001b[39m\u001b[39m}\u001b[39;00m\u001b[39m에는 \u001b[39m\u001b[39m{\u001b[39;00mattr\u001b[39m}\u001b[39;00m\u001b[39m 속성이 없음.\u001b[39m\u001b[39m\"\u001b[39m)\n",
      "\u001b[0;31mAttributeError\u001b[0m: DynamicAttribute에는 something 속성이 없음."
     ]
    }
   ],
   "source": [
    "dyn.something"
   ]
  },
  {
   "attachments": {},
   "cell_type": "markdown",
   "metadata": {},
   "source": [
    "#### 호출형(callable) 객체\n",
    "- __call__을 사용하면 객체를 일반 함수처럼 호출할 수 있음\n",
    "- 여기에 전달된 모든 파라미터는 call 메서드에 그대로 전달됨"
   ]
  },
  {
   "cell_type": "code",
   "execution_count": 53,
   "metadata": {},
   "outputs": [],
   "source": [
    "from collections import defaultdict\n",
    "\n",
    "class CallCount:\n",
    "    def __init__(self):\n",
    "        self._counts = defaultdict(int)\n",
    "\n",
    "    def __call__(self, argument):\n",
    "        self._counts[argument] += 1\n",
    "        return self._counts[argument]"
   ]
  },
  {
   "cell_type": "code",
   "execution_count": 61,
   "metadata": {},
   "outputs": [],
   "source": [
    "cc = CallCount()\n"
   ]
  },
  {
   "cell_type": "code",
   "execution_count": 62,
   "metadata": {},
   "outputs": [
    {
     "data": {
      "text/plain": [
       "1"
      ]
     },
     "execution_count": 62,
     "metadata": {},
     "output_type": "execute_result"
    }
   ],
   "source": [
    "cc(1)"
   ]
  },
  {
   "cell_type": "code",
   "execution_count": 63,
   "metadata": {},
   "outputs": [
    {
     "data": {
      "text/plain": [
       "1"
      ]
     },
     "execution_count": 63,
     "metadata": {},
     "output_type": "execute_result"
    }
   ],
   "source": [
    "cc(2)"
   ]
  },
  {
   "cell_type": "code",
   "execution_count": 64,
   "metadata": {},
   "outputs": [
    {
     "data": {
      "text/plain": [
       "2"
      ]
     },
     "execution_count": 64,
     "metadata": {},
     "output_type": "execute_result"
    }
   ],
   "source": [
    "cc(1)"
   ]
  },
  {
   "cell_type": "code",
   "execution_count": 65,
   "metadata": {},
   "outputs": [
    {
     "data": {
      "text/plain": [
       "3"
      ]
     },
     "execution_count": 65,
     "metadata": {},
     "output_type": "execute_result"
    }
   ],
   "source": [
    "cc(1)"
   ]
  },
  {
   "cell_type": "code",
   "execution_count": 66,
   "metadata": {},
   "outputs": [
    {
     "data": {
      "text/plain": [
       "1"
      ]
     },
     "execution_count": 66,
     "metadata": {},
     "output_type": "execute_result"
    }
   ],
   "source": [
    "cc(\"something\")"
   ]
  },
  {
   "attachments": {},
   "cell_type": "markdown",
   "metadata": {},
   "source": [
    "#### 파이썬에서 유의할 점\n",
    "\n",
    "##### 변경 가능한 파라미터의 기본 값\n",
    "\n",
    "- 변경 가능한 객체를 함수의 기본 인자로 사용하면 안됨 "
   ]
  },
  {
   "cell_type": "code",
   "execution_count": 55,
   "metadata": {},
   "outputs": [],
   "source": [
    "def wrong_user_display(user_metadata: dict = {\"name\":\"John\", \"age\":30}):\n",
    "    name = user_metadata.pop(\"name\")\n",
    "    age = user_metadata.pop(\"age\")\n",
    "    return f\"{name} ({age})\"\n"
   ]
  },
  {
   "cell_type": "code",
   "execution_count": 56,
   "metadata": {},
   "outputs": [
    {
     "data": {
      "text/plain": [
       "'John (30)'"
      ]
     },
     "execution_count": 56,
     "metadata": {},
     "output_type": "execute_result"
    }
   ],
   "source": [
    "wrong_user_display()"
   ]
  },
  {
   "cell_type": "code",
   "execution_count": 57,
   "metadata": {},
   "outputs": [
    {
     "data": {
      "text/plain": [
       "'kang (20)'"
      ]
     },
     "execution_count": 57,
     "metadata": {},
     "output_type": "execute_result"
    }
   ],
   "source": [
    " wrong_user_display({\"name\":\"kang\", \"age\":20})"
   ]
  },
  {
   "cell_type": "code",
   "execution_count": 58,
   "metadata": {},
   "outputs": [
    {
     "ename": "KeyError",
     "evalue": "'name'",
     "output_type": "error",
     "traceback": [
      "\u001b[0;31m---------------------------------------------------------------------------\u001b[0m",
      "\u001b[0;31mKeyError\u001b[0m                                  Traceback (most recent call last)",
      "Cell \u001b[0;32mIn[58], line 1\u001b[0m\n\u001b[0;32m----> 1\u001b[0m wrong_user_display()\n",
      "Cell \u001b[0;32mIn[55], line 2\u001b[0m, in \u001b[0;36mwrong_user_display\u001b[0;34m(user_metadata)\u001b[0m\n\u001b[1;32m      1\u001b[0m \u001b[39mdef\u001b[39;00m \u001b[39mwrong_user_display\u001b[39m(user_metadata: \u001b[39mdict\u001b[39m \u001b[39m=\u001b[39m {\u001b[39m\"\u001b[39m\u001b[39mname\u001b[39m\u001b[39m\"\u001b[39m:\u001b[39m\"\u001b[39m\u001b[39mJohn\u001b[39m\u001b[39m\"\u001b[39m, \u001b[39m\"\u001b[39m\u001b[39mage\u001b[39m\u001b[39m\"\u001b[39m:\u001b[39m30\u001b[39m}):\n\u001b[0;32m----> 2\u001b[0m     name \u001b[39m=\u001b[39m user_metadata\u001b[39m.\u001b[39;49mpop(\u001b[39m\"\u001b[39;49m\u001b[39mname\u001b[39;49m\u001b[39m\"\u001b[39;49m)\n\u001b[1;32m      3\u001b[0m     age \u001b[39m=\u001b[39m user_metadata\u001b[39m.\u001b[39mpop(\u001b[39m\"\u001b[39m\u001b[39mage\u001b[39m\u001b[39m\"\u001b[39m)\n\u001b[1;32m      4\u001b[0m     \u001b[39mreturn\u001b[39;00m \u001b[39mf\u001b[39m\u001b[39m\"\u001b[39m\u001b[39m{\u001b[39;00mname\u001b[39m}\u001b[39;00m\u001b[39m (\u001b[39m\u001b[39m{\u001b[39;00mage\u001b[39m}\u001b[39;00m\u001b[39m)\u001b[39m\u001b[39m\"\u001b[39m\n",
      "\u001b[0;31mKeyError\u001b[0m: 'name'"
     ]
    }
   ],
   "source": [
    "wrong_user_display()"
   ]
  },
  {
   "cell_type": "code",
   "execution_count": 59,
   "metadata": {},
   "outputs": [],
   "source": [
    "\"\"\" 함수 내로 기본값 설정 \"\"\"\n",
    "def good_user_display(user = None):\n",
    "    user_metadata = {\"name\":\"John\", \"age\":30} # 기본값?\n",
    "\n",
    "    def display(user_metadata = user_metadata):\n",
    "        name = user_metadata.pop(\"name\")\n",
    "        age = user_metadata.pop(\"age\")\n",
    "        return f\"{name} ({age})\"\n",
    "\n",
    "    return display(user)"
   ]
  },
  {
   "cell_type": "code",
   "execution_count": 60,
   "metadata": {},
   "outputs": [
    {
     "ename": "AttributeError",
     "evalue": "'NoneType' object has no attribute 'pop'",
     "output_type": "error",
     "traceback": [
      "\u001b[0;31m---------------------------------------------------------------------------\u001b[0m",
      "\u001b[0;31mAttributeError\u001b[0m                            Traceback (most recent call last)",
      "Cell \u001b[0;32mIn[60], line 1\u001b[0m\n\u001b[0;32m----> 1\u001b[0m good_user_display()\n",
      "Cell \u001b[0;32mIn[59], line 10\u001b[0m, in \u001b[0;36mgood_user_display\u001b[0;34m(user)\u001b[0m\n\u001b[1;32m      7\u001b[0m     age \u001b[39m=\u001b[39m user_metadata\u001b[39m.\u001b[39mpop(\u001b[39m\"\u001b[39m\u001b[39mage\u001b[39m\u001b[39m\"\u001b[39m)\n\u001b[1;32m      8\u001b[0m     \u001b[39mreturn\u001b[39;00m \u001b[39mf\u001b[39m\u001b[39m\"\u001b[39m\u001b[39m{\u001b[39;00mname\u001b[39m}\u001b[39;00m\u001b[39m (\u001b[39m\u001b[39m{\u001b[39;00mage\u001b[39m}\u001b[39;00m\u001b[39m)\u001b[39m\u001b[39m\"\u001b[39m\n\u001b[0;32m---> 10\u001b[0m \u001b[39mreturn\u001b[39;00m display(user)\n",
      "Cell \u001b[0;32mIn[59], line 6\u001b[0m, in \u001b[0;36mgood_user_display.<locals>.display\u001b[0;34m(user_metadata)\u001b[0m\n\u001b[1;32m      5\u001b[0m \u001b[39mdef\u001b[39;00m \u001b[39mdisplay\u001b[39m(user_metadata \u001b[39m=\u001b[39m user_metadata):\n\u001b[0;32m----> 6\u001b[0m     name \u001b[39m=\u001b[39m user_metadata\u001b[39m.\u001b[39;49mpop(\u001b[39m\"\u001b[39m\u001b[39mname\u001b[39m\u001b[39m\"\u001b[39m)\n\u001b[1;32m      7\u001b[0m     age \u001b[39m=\u001b[39m user_metadata\u001b[39m.\u001b[39mpop(\u001b[39m\"\u001b[39m\u001b[39mage\u001b[39m\u001b[39m\"\u001b[39m)\n\u001b[1;32m      8\u001b[0m     \u001b[39mreturn\u001b[39;00m \u001b[39mf\u001b[39m\u001b[39m\"\u001b[39m\u001b[39m{\u001b[39;00mname\u001b[39m}\u001b[39;00m\u001b[39m (\u001b[39m\u001b[39m{\u001b[39;00mage\u001b[39m}\u001b[39;00m\u001b[39m)\u001b[39m\u001b[39m\"\u001b[39m\n",
      "\u001b[0;31mAttributeError\u001b[0m: 'NoneType' object has no attribute 'pop'"
     ]
    }
   ],
   "source": [
    "\n",
    "good_user_display()"
   ]
  },
  {
   "attachments": {},
   "cell_type": "markdown",
   "metadata": {},
   "source": [
    "####  내장(built-in) 타입 확장\n",
    "\n",
    "- 리스트, 문자열, 사전과 같은 내장 타입을 확장하는 올바른 방법은  \n",
    "     collections 모듈을 사용하는것\n",
    "- 내장 함수에서 override가 동작하지 않음"
   ]
  },
  {
   "cell_type": "code",
   "execution_count": 67,
   "metadata": {},
   "outputs": [],
   "source": [
    "class BadList(list):\n",
    "    def __getitem__(self, index):\n",
    "        value = super().__getitem__(index)\n",
    "        if index % 2 == 0:\n",
    "            prefix = \"even\"\n",
    "        else:\n",
    "            prefix = \"odd\"\n",
    "        return f\"[{prefix}] {value}  \""
   ]
  },
  {
   "cell_type": "code",
   "execution_count": 68,
   "metadata": {},
   "outputs": [],
   "source": [
    "b1 = BadList((0, 1, 2, 3, 4, 5))"
   ]
  },
  {
   "cell_type": "code",
   "execution_count": 69,
   "metadata": {},
   "outputs": [
    {
     "data": {
      "text/plain": [
       "'[even] 0  '"
      ]
     },
     "execution_count": 69,
     "metadata": {},
     "output_type": "execute_result"
    }
   ],
   "source": [
    "b1[0]"
   ]
  },
  {
   "cell_type": "code",
   "execution_count": 70,
   "metadata": {},
   "outputs": [
    {
     "data": {
      "text/plain": [
       "'[odd] 1  '"
      ]
     },
     "execution_count": 70,
     "metadata": {},
     "output_type": "execute_result"
    }
   ],
   "source": [
    "b1[1]"
   ]
  },
  {
   "cell_type": "code",
   "execution_count": 72,
   "metadata": {},
   "outputs": [
    {
     "ename": "TypeError",
     "evalue": "sequence item 0: expected str instance, int found",
     "output_type": "error",
     "traceback": [
      "\u001b[0;31m---------------------------------------------------------------------------\u001b[0m",
      "\u001b[0;31mTypeError\u001b[0m                                 Traceback (most recent call last)",
      "Cell \u001b[0;32mIn[72], line 1\u001b[0m\n\u001b[0;32m----> 1\u001b[0m \u001b[39m\"\u001b[39;49m\u001b[39m\"\u001b[39;49m\u001b[39m.\u001b[39;49mjoin(b1) \u001b[39m# join() 내부의 __getitem__ 함수가 호출되지 않음\u001b[39;00m\n",
      "\u001b[0;31mTypeError\u001b[0m: sequence item 0: expected str instance, int found"
     ]
    }
   ],
   "source": [
    "\"\".join(b1) # join() 내부의 __getitem__ 함수가 호출되지 않음\n",
    "\n",
    "\n",
    "#[p70s]\n",
    "#join은 문자열 리스트를 반복하는 함수.\n",
    "#반복을 해보며 앞서 정의한 __getitem__이 호출되지 않는다.\n",
    "#이 문제는 사실 (C에 최적화딘) CPython의  세부 구현 사항이며 PyPy와 같은 플랫폼에서는\n",
    "# 재현되지 않는다.\n",
    "\n",
    "\n"
   ]
  },
  {
   "cell_type": "code",
   "execution_count": 73,
   "metadata": {},
   "outputs": [],
   "source": [
    "\"\"\" collections 모듈을 사용하여 문제 해결 \"\"\"\n",
    "\n",
    "from collections import UserList\n",
    "\n",
    "class GoodList(UserList):\n",
    "    def __getitem__(self, index):\n",
    "        value = super().__getitem__(index)\n",
    "        if index % 2 == 0:\n",
    "            prefix = \"even\"\n",
    "        else:\n",
    "            prefix = \"odd\"\n",
    "        return f\"[{prefix}] {value}  \""
   ]
  },
  {
   "cell_type": "code",
   "execution_count": 74,
   "metadata": {},
   "outputs": [
    {
     "data": {
      "text/plain": [
       "'[even] 0  [odd] 1  [even] 2  [odd] 3  [even] 4  [odd] 5  '"
      ]
     },
     "execution_count": 74,
     "metadata": {},
     "output_type": "execute_result"
    }
   ],
   "source": [
    "bl = GoodList((0, 1, 2, 3, 4, 5))\n",
    "\"\".join(bl)\n",
    "\n",
    "\n",
    "#dict에서 직접 확장하지 말고 대신 collections.UserDict를 사용해야한다.\n",
    "# 리스트는 collections.UserList를 사용하고 문자열이라면 collection.UserString을 \n",
    "# 사용해야한다."
   ]
  },
  {
   "cell_type": "code",
   "execution_count": null,
   "metadata": {},
   "outputs": [],
   "source": []
  }
 ],
 "metadata": {
  "kernelspec": {
   "display_name": "Python 3",
   "language": "python",
   "name": "python3"
  },
  "language_info": {
   "codemirror_mode": {
    "name": "ipython",
    "version": 3
   },
   "file_extension": ".py",
   "mimetype": "text/x-python",
   "name": "python",
   "nbconvert_exporter": "python",
   "pygments_lexer": "ipython3",
   "version": "3.11.3"
  },
  "orig_nbformat": 4
 },
 "nbformat": 4,
 "nbformat_minor": 2
}
