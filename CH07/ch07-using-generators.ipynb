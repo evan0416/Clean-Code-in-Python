{
 "cells": [
  {
   "attachments": {},
   "cell_type": "markdown",
   "metadata": {},
   "source": [
    "# CH07 : Using Generators"
   ]
  },
  {
   "attachments": {},
   "cell_type": "markdown",
   "metadata": {},
   "source": [
    "#### 1.제너레이터 만들기\n",
    ": 파이썬에서 고성능이면서도 메모리를 적게 사요한느 반복을 위한 방법으로 사용  \n",
    "(2001 PEP-255t소개)"
   ]
  },
  {
   "cell_type": "markdown",
   "metadata": {},
   "source": [
    "##### 1-1. 제너레이터 개요"
   ]
  },
  {
   "cell_type": "code",
   "execution_count": 34,
   "metadata": {},
   "outputs": [],
   "source": [
    "class PurchasesStats:\n",
    "    def __init__(self, purchases):\n",
    "        self.purchases = iter(purchases)\n",
    "        self.min_price: float = None\n",
    "        self.max_price: float = None\n",
    "        self._total_purchases_price: float = 0.0\n",
    "        self._total_purchases = 0\n",
    "        self._initialize()\n",
    "\n",
    "    def _initialize(self):\n",
    "        try:\n",
    "            first_value = next(self.purchases)\n",
    "        except StopIteration:\n",
    "            raise ValueError(\"no values provided\")\n",
    "\n",
    "        self.min_price = self.max_price = first_value\n",
    "        self._update_avg(first_value)\n",
    "\n",
    "    def process(self):\n",
    "        for purchase_value in self.purchases:\n",
    "            self._update_min(purchase_value)\n",
    "            self._update_max(purchase_value)\n",
    "            self._update_avg(purchase_value)\n",
    "        return self\n",
    "\n",
    "    def _update_min(self, new_value: float):\n",
    "        if new_value < self.min_price:\n",
    "            self.min_price = new_value\n",
    "\n",
    "    def _update_max(self, new_value: float):\n",
    "        if new_value > self.max_price:\n",
    "            self.max_price = new_value\n",
    "\n",
    "    @property\n",
    "    def avg_price(self):\n",
    "        return self._total_purchases_price / self._total_purchases\n",
    "\n",
    "    def _update_avg(self, new_value: float):\n",
    "        self._total_purchases_price += new_value\n",
    "        self._total_purchases += 1\n",
    "\n",
    "    def __str__(self):\n",
    "        return (\n",
    "            f\"{self.__class__.__name__}({self.min_price}, \"\n",
    "            f\"{self.max_price}, {self.avg_price})\"\n",
    "        )"
   ]
  },
  {
   "cell_type": "code",
   "execution_count": 35,
   "metadata": {},
   "outputs": [],
   "source": [
    "def _load_purchases(filename):\n",
    "    purchases = []\n",
    "    with open(filename) as f:\n",
    "        for line in f:\n",
    "            *_, price_raw = line.partition(\",\")\n",
    "            purchases.append(float(price_raw))\n",
    "\n",
    "    return purchases"
   ]
  },
  {
   "cell_type": "code",
   "execution_count": 36,
   "metadata": {},
   "outputs": [],
   "source": [
    "def load_purchases(filename):\n",
    "    with open(filename) as f:\n",
    "        for line in f:\n",
    "            *_, price_raw = line.partition(\",\")\n",
    "            yield float(price_raw)"
   ]
  },
  {
   "cell_type": "code",
   "execution_count": 37,
   "metadata": {},
   "outputs": [
    {
     "data": {
      "text/plain": [
       "<generator object load_purchases at 0x10c75a350>"
      ]
     },
     "execution_count": 37,
     "metadata": {},
     "output_type": "execute_result"
    }
   ],
   "source": [
    "load_purchases(\"file\")"
   ]
  },
  {
   "cell_type": "markdown",
   "metadata": {},
   "source": [
    "#### Generators expression"
   ]
  },
  {
   "cell_type": "code",
   "execution_count": 38,
   "metadata": {},
   "outputs": [
    {
     "data": {
      "text/plain": [
       "285"
      ]
     },
     "execution_count": 38,
     "metadata": {},
     "output_type": "execute_result"
    }
   ],
   "source": [
    "sum(x**2 for x in range(10))"
   ]
  },
  {
   "cell_type": "markdown",
   "metadata": {},
   "source": [
    "#### 2. 이상적인 반복"
   ]
  },
  {
   "cell_type": "markdown",
   "metadata": {},
   "source": [
    "##### 2-1. 관용적인 반복코드"
   ]
  },
  {
   "cell_type": "code",
   "execution_count": 39,
   "metadata": {},
   "outputs": [
    {
     "data": {
      "text/plain": [
       "[(0, 'a'), (1, 'b'), (2, 'c'), (3, 'd'), (4, 'e'), (5, 'f')]"
      ]
     },
     "execution_count": 39,
     "metadata": {},
     "output_type": "execute_result"
    }
   ],
   "source": [
    "list(enumerate(\"abcdef\"))"
   ]
  },
  {
   "cell_type": "code",
   "execution_count": 40,
   "metadata": {},
   "outputs": [],
   "source": [
    "class NumberSequence:\n",
    "    def __init__(self, start=0):\n",
    "        self.current = start\n",
    "\n",
    "    def next(self):\n",
    "        current = self.current\n",
    "        self.current += 1\n",
    "        return current"
   ]
  },
  {
   "cell_type": "code",
   "execution_count": 41,
   "metadata": {},
   "outputs": [
    {
     "data": {
      "text/plain": [
       "0"
      ]
     },
     "execution_count": 41,
     "metadata": {},
     "output_type": "execute_result"
    }
   ],
   "source": [
    "seq = NumberSequence()\n",
    "seq.next()"
   ]
  },
  {
   "cell_type": "code",
   "execution_count": 42,
   "metadata": {},
   "outputs": [
    {
     "data": {
      "text/plain": [
       "1"
      ]
     },
     "execution_count": 42,
     "metadata": {},
     "output_type": "execute_result"
    }
   ],
   "source": [
    "seq.next()"
   ]
  },
  {
   "cell_type": "code",
   "execution_count": 43,
   "metadata": {},
   "outputs": [
    {
     "data": {
      "text/plain": [
       "10"
      ]
     },
     "execution_count": 43,
     "metadata": {},
     "output_type": "execute_result"
    }
   ],
   "source": [
    "seq2 = NumberSequence(10)\n",
    "seq2.next()"
   ]
  },
  {
   "cell_type": "code",
   "execution_count": 44,
   "metadata": {},
   "outputs": [
    {
     "data": {
      "text/plain": [
       "11"
      ]
     },
     "execution_count": 44,
     "metadata": {},
     "output_type": "execute_result"
    }
   ],
   "source": [
    "seq2.next()"
   ]
  },
  {
   "cell_type": "code",
   "execution_count": 45,
   "metadata": {},
   "outputs": [
    {
     "ename": "TypeError",
     "evalue": "'NumberSequence' object is not iterable",
     "output_type": "error",
     "traceback": [
      "\u001b[0;31m---------------------------------------------------------------------------\u001b[0m",
      "\u001b[0;31mTypeError\u001b[0m                                 Traceback (most recent call last)",
      "\u001b[1;32m/Users/jangseokhee/workspace/P/Clean-Code-in-Python/CH07/ch07-using-generators.ipynb Cell 18\u001b[0m in \u001b[0;36m<cell line: 1>\u001b[0;34m()\u001b[0m\n\u001b[0;32m----> <a href='vscode-notebook-cell:/Users/jangseokhee/workspace/P/Clean-Code-in-Python/CH07/ch07-using-generators.ipynb#X24sZmlsZQ%3D%3D?line=0'>1</a>\u001b[0m \u001b[39mlist\u001b[39m(\u001b[39mzip\u001b[39;49m(NumberSequence(), \u001b[39m\"\u001b[39;49m\u001b[39mabcdef\u001b[39;49m\u001b[39m\"\u001b[39;49m))\n",
      "\u001b[0;31mTypeError\u001b[0m: 'NumberSequence' object is not iterable"
     ]
    }
   ],
   "source": [
    "list(zip(NumberSequence(), \"abcdef\"))"
   ]
  },
  {
   "attachments": {},
   "cell_type": "markdown",
   "metadata": {},
   "source": [
    "그러나 이 코드로 enumerate() 함수를 사용하도록 재작성할 수는 없다.  \n",
    "왜냐하면 파이썬의 for 루프를 사용하기 위한 인터페이스를 지원하지 않기 때문이다."
   ]
  },
  {
   "cell_type": "code",
   "execution_count": 46,
   "metadata": {},
   "outputs": [],
   "source": [
    "\"\"\" __iter__() 매직 메서드를 구현하여 해결\"\"\"\n",
    "\n",
    "class SequenceOfNumbers:\n",
    "    def __init__(self, start=0):\n",
    "        self.current = start\n",
    "\n",
    "    def __next__(self):\n",
    "        current = self.current\n",
    "        self.current += 1\n",
    "        return current\n",
    "\n",
    "    def __iter__(self):\n",
    "        return self"
   ]
  },
  {
   "cell_type": "code",
   "execution_count": 47,
   "metadata": {},
   "outputs": [
    {
     "data": {
      "text/plain": [
       "[(0, 'a'), (1, 'b'), (2, 'c'), (3, 'd'), (4, 'e'), (5, 'f')]"
      ]
     },
     "execution_count": 47,
     "metadata": {},
     "output_type": "execute_result"
    }
   ],
   "source": [
    "list(zip(SequenceOfNumbers(), \"abcdef\"))"
   ]
  },
  {
   "cell_type": "code",
   "execution_count": 48,
   "metadata": {},
   "outputs": [
    {
     "data": {
      "text/plain": [
       "100"
      ]
     },
     "execution_count": 48,
     "metadata": {},
     "output_type": "execute_result"
    }
   ],
   "source": [
    "seq = SequenceOfNumbers(100)\n",
    "next(seq)"
   ]
  },
  {
   "cell_type": "code",
   "execution_count": 49,
   "metadata": {},
   "outputs": [
    {
     "data": {
      "text/plain": [
       "101"
      ]
     },
     "execution_count": 49,
     "metadata": {},
     "output_type": "execute_result"
    }
   ],
   "source": [
    "next(seq)"
   ]
  },
  {
   "cell_type": "markdown",
   "metadata": {},
   "source": [
    "##### next() function"
   ]
  },
  {
   "cell_type": "code",
   "execution_count": 50,
   "metadata": {},
   "outputs": [
    {
     "data": {
      "text/plain": [
       "'H'"
      ]
     },
     "execution_count": 50,
     "metadata": {},
     "output_type": "execute_result"
    }
   ],
   "source": [
    "word = iter(\"Hello\")\n",
    "next(word)"
   ]
  },
  {
   "cell_type": "code",
   "execution_count": 51,
   "metadata": {},
   "outputs": [
    {
     "data": {
      "text/plain": [
       "'e'"
      ]
     },
     "execution_count": 51,
     "metadata": {},
     "output_type": "execute_result"
    }
   ],
   "source": [
    "next(word)"
   ]
  },
  {
   "cell_type": "code",
   "execution_count": 52,
   "metadata": {},
   "outputs": [
    {
     "data": {
      "text/plain": [
       "'l'"
      ]
     },
     "execution_count": 52,
     "metadata": {},
     "output_type": "execute_result"
    }
   ],
   "source": [
    "next(word, \"default value\")"
   ]
  },
  {
   "cell_type": "markdown",
   "metadata": {},
   "source": [
    "##### using Generators"
   ]
  },
  {
   "cell_type": "code",
   "execution_count": 53,
   "metadata": {},
   "outputs": [],
   "source": [
    "def sequence(start=0):\n",
    "    while True:\n",
    "        yield start\n",
    "        start += 1"
   ]
  },
  {
   "cell_type": "code",
   "execution_count": 54,
   "metadata": {},
   "outputs": [
    {
     "data": {
      "text/plain": [
       "[(0, 'a'), (1, 'b'), (2, 'c'), (3, 'd'), (4, 'e'), (5, 'f')]"
      ]
     },
     "execution_count": 54,
     "metadata": {},
     "output_type": "execute_result"
    }
   ],
   "source": [
    "seq = sequence(10)\n",
    "list(zip(sequence(), \"abcdef\"))"
   ]
  },
  {
   "cell_type": "markdown",
   "metadata": {},
   "source": [
    "##### itertools"
   ]
  },
  {
   "cell_type": "code",
   "execution_count": 55,
   "metadata": {},
   "outputs": [
    {
     "ename": "NameError",
     "evalue": "name 'purchases' is not defined",
     "output_type": "error",
     "traceback": [
      "\u001b[0;31m---------------------------------------------------------------------------\u001b[0m",
      "\u001b[0;31mNameError\u001b[0m                                 Traceback (most recent call last)",
      "\u001b[1;32m/Users/jangseokhee/workspace/P/Clean-Code-in-Python/CH07/ch07-using-generators.ipynb Cell 32\u001b[0m in \u001b[0;36m<cell line: 3>\u001b[0;34m()\u001b[0m\n\u001b[1;32m      <a href='vscode-notebook-cell:/Users/jangseokhee/workspace/P/Clean-Code-in-Python/CH07/ch07-using-generators.ipynb#X53sZmlsZQ%3D%3D?line=0'>1</a>\u001b[0m \u001b[39mfrom\u001b[39;00m \u001b[39mitertools\u001b[39;00m \u001b[39mimport\u001b[39;00m islice\n\u001b[0;32m----> <a href='vscode-notebook-cell:/Users/jangseokhee/workspace/P/Clean-Code-in-Python/CH07/ch07-using-generators.ipynb#X53sZmlsZQ%3D%3D?line=2'>3</a>\u001b[0m purchases \u001b[39m=\u001b[39m islice(\u001b[39mfilter\u001b[39m(\u001b[39mlambda\u001b[39;00m p: p \u001b[39m>\u001b[39m \u001b[39m1000.0\u001b[39m, purchases), \u001b[39m10\u001b[39m)\n\u001b[1;32m      <a href='vscode-notebook-cell:/Users/jangseokhee/workspace/P/Clean-Code-in-Python/CH07/ch07-using-generators.ipynb#X53sZmlsZQ%3D%3D?line=3'>4</a>\u001b[0m stats \u001b[39m=\u001b[39m PurchasesStats(purchases)\u001b[39m.\u001b[39mprocess()\n",
      "\u001b[0;31mNameError\u001b[0m: name 'purchases' is not defined"
     ]
    }
   ],
   "source": [
    "from itertools import islice\n",
    "\n",
    "purchases = islice(filter(lambda p: p > 1000.0, purchases), 10)\n",
    "stats = PurchasesStats(purchases).process()"
   ]
  },
  {
   "cell_type": "markdown",
   "metadata": {},
   "source": [
    "##### 이터레이터를 사용한 코드 간소화"
   ]
  },
  {
   "cell_type": "markdown",
   "metadata": {},
   "source": [
    "- 여러 번 반복하기"
   ]
  },
  {
   "cell_type": "code",
   "execution_count": null,
   "metadata": {},
   "outputs": [],
   "source": [
    "def process_purchases(purchases):\n",
    "    min_, max_, avg = itertools.tee(purchases, 3)\n",
    "    return min(min_), max(max_), median(avg)"
   ]
  },
  {
   "attachments": {},
   "cell_type": "markdown",
   "metadata": {},
   "source": [
    "TIP:반복을여러번해야 되는경우 itertool.tee를사용한다."
   ]
  },
  {
   "cell_type": "markdown",
   "metadata": {},
   "source": [
    "- 중첩루프 (not good)"
   ]
  },
  {
   "cell_type": "code",
   "execution_count": null,
   "metadata": {},
   "outputs": [],
   "source": [
    "\"\"\" bad code\"\"\"\n",
    "def search_nested_bad(array, desired_value):\n",
    "    coords = None\n",
    "    for i, row in enumerate(array):\n",
    "        for j, cell in enumerate(row):\n",
    "            if cell == desired_value:\n",
    "                coords = (i, j)\n",
    "                break\n",
    "\n",
    "        if coords is not None:\n",
    "            break\n",
    "\n",
    "    if coords is None:\n",
    "        raise ValueError(f\"{desired_value} not found\")\n",
    "\n",
    "    logger.info(\"value %r found at [%i, %i]\", desired_value, *coords)\n",
    "    return coords"
   ]
  },
  {
   "cell_type": "code",
   "execution_count": null,
   "metadata": {},
   "outputs": [],
   "source": [
    "def _iterate_array2d(array2d):\n",
    "    for i, row in enumerate(array2d):\n",
    "        for j, cell in enumerate(row):\n",
    "            yield (i, j), cell\n",
    "\n",
    "\n",
    "def search_nested(array, desired_value):\n",
    "    try:\n",
    "        coord = next(\n",
    "            coord\n",
    "            for (coord, cell) in _iterate_array2d(array)\n",
    "            if cell == desired_value\n",
    "        )\n",
    "    except StopIteration:\n",
    "        raise ValueError(\"{desired_value} not found\")\n",
    "\n",
    "    logger.debug(\"value %r found at [%i, %i]\", desired_value, *coord)\n",
    "    return coord"
   ]
  },
  {
   "cell_type": "markdown",
   "metadata": {},
   "source": [
    "| 최대한 중첩 루프를 제거하고 추상화하여 반복을 단순화한다."
   ]
  },
  {
   "cell_type": "markdown",
   "metadata": {},
   "source": [
    "#### 2-2. 파이썬의 이터레이터 패턴"
   ]
  },
  {
   "cell_type": "markdown",
   "metadata": {},
   "source": [
    "제너레이터는 이터러블 객체의 특병ㄹ한 경우\n",
    "\n",
    "이터레이터 ex) _ _iter_ _() / _ _next_ _()"
   ]
  },
  {
   "cell_type": "markdown",
   "metadata": {},
   "source": [
    "##### 이터레이션 인터페이스\n",
    "\n",
    ": 이터러블, 반복을 지원하는 객체\n",
    "\n",
    "_ _iter_ _ 매직 메서들ㄹ 통해 이터레이터 반환  \n",
    "\n",
    "_ _next_ _ 매직 메서드를 통해 반복 로직 구현\n"
   ]
  },
  {
   "cell_type": "code",
   "execution_count": 2,
   "metadata": {},
   "outputs": [],
   "source": [
    "class SequenceIterator:\n",
    "    def __init__(self, start=0, step=1):\n",
    "        self.current = start\n",
    "        self.step = step\n",
    "    \n",
    "    def __next__(self):\n",
    "        value = self.current\n",
    "        self.current += self.step\n",
    "        return value"
   ]
  },
  {
   "cell_type": "code",
   "execution_count": 3,
   "metadata": {},
   "outputs": [
    {
     "data": {
      "text/plain": [
       "1"
      ]
     },
     "execution_count": 3,
     "metadata": {},
     "output_type": "execute_result"
    }
   ],
   "source": [
    "si = SequenceIterator(1,2)\n",
    "next(si)"
   ]
  },
  {
   "cell_type": "code",
   "execution_count": 4,
   "metadata": {},
   "outputs": [
    {
     "data": {
      "text/plain": [
       "3"
      ]
     },
     "execution_count": 4,
     "metadata": {},
     "output_type": "execute_result"
    }
   ],
   "source": [
    "next(si)"
   ]
  },
  {
   "cell_type": "code",
   "execution_count": 5,
   "metadata": {},
   "outputs": [
    {
     "data": {
      "text/plain": [
       "5"
      ]
     },
     "execution_count": 5,
     "metadata": {},
     "output_type": "execute_result"
    }
   ],
   "source": [
    "next(si)"
   ]
  },
  {
   "cell_type": "code",
   "execution_count": 6,
   "metadata": {},
   "outputs": [
    {
     "ename": "TypeError",
     "evalue": "'SequenceIterator' object is not iterable",
     "output_type": "error",
     "traceback": [
      "\u001b[0;31m---------------------------------------------------------------------------\u001b[0m",
      "\u001b[0;31mTypeError\u001b[0m                                 Traceback (most recent call last)",
      "\u001b[1;32m/Users/jangseokhee/workspace/P/Clean-Code-in-Python/CH07/ch07-using-generators.ipynb Cell 48\u001b[0m in \u001b[0;36m<cell line: 1>\u001b[0;34m()\u001b[0m\n\u001b[0;32m----> <a href='vscode-notebook-cell:/Users/jangseokhee/workspace/P/Clean-Code-in-Python/CH07/ch07-using-generators.ipynb#X61sZmlsZQ%3D%3D?line=0'>1</a>\u001b[0m \u001b[39mfor\u001b[39;00m _ \u001b[39min\u001b[39;00m SequenceIterator(): \u001b[39mpass\u001b[39;00m\n",
      "\u001b[0;31mTypeError\u001b[0m: 'SequenceIterator' object is not iterable"
     ]
    }
   ],
   "source": [
    "for _ in SequenceIterator(): pass\n",
    "# __iter__() 메서드를 구현하지 않았기 떄문"
   ]
  },
  {
   "cell_type": "markdown",
   "metadata": {},
   "source": [
    "##### 이터러블이 가능한 시퀀스 객체"
   ]
  },
  {
   "cell_type": "code",
   "execution_count": 8,
   "metadata": {},
   "outputs": [],
   "source": [
    "\"\"\"Clean Code in Python - Chapter 7: Using Generators\n",
    "\n",
    "> The Interface for Iteration: sequences\n",
    "\n",
    "\"\"\"\n",
    "\n",
    "import logging\n",
    "\n",
    "logger = logging.getLogger(__name__)\n",
    "\n",
    "\n",
    "class SequenceWrapper:\n",
    "    def __init__(self, original_sequence):\n",
    "        self.seq = original_sequence\n",
    "\n",
    "    def __getitem__(self, item):\n",
    "        value = self.seq[item]\n",
    "        logger.debug(\"%s getting %s\", self.__class__.__name__, item)\n",
    "        return value\n",
    "\n",
    "    def __len__(self):\n",
    "        return len(self.seq)\n",
    "\n",
    "\n",
    "class MappedRange:\n",
    "    \"\"\"Apply a transformation to a range of numbers.\"\"\"\n",
    "\n",
    "    def __init__(self, transformation, start, end):\n",
    "        self._transformation = transformation\n",
    "        self._wrapped = range(start, end)\n",
    "\n",
    "    def __getitem__(self, index):\n",
    "        value = self._wrapped.__getitem__(index)\n",
    "        result = self._transformation(value)\n",
    "        logger.debug(\"Index %d: %s\", index, result)\n",
    "        return result\n",
    "\n",
    "    def __len__(self):\n",
    "        return len(self._wrapped)\n"
   ]
  },
  {
   "cell_type": "code",
   "execution_count": 11,
   "metadata": {},
   "outputs": [
    {
     "name": "stdout",
     "output_type": "stream",
     "text": [
      "10\n"
     ]
    }
   ],
   "source": [
    "mr = MappedRange(abs, -10, 5)\n",
    "print(mr[0])"
   ]
  },
  {
   "cell_type": "code",
   "execution_count": 12,
   "metadata": {},
   "outputs": [
    {
     "name": "stdout",
     "output_type": "stream",
     "text": [
      "4\n"
     ]
    }
   ],
   "source": [
    "print(mr[-1])"
   ]
  },
  {
   "cell_type": "code",
   "execution_count": 13,
   "metadata": {},
   "outputs": [
    {
     "name": "stdout",
     "output_type": "stream",
     "text": [
      "[10, 9, 8, 7, 6, 5, 4, 3, 2, 1, 0, 1, 2, 3, 4]\n"
     ]
    }
   ],
   "source": [
    "print(list(mr))"
   ]
  },
  {
   "cell_type": "markdown",
   "metadata": {},
   "source": [
    "#### 3. coroutine"
   ]
  },
  {
   "cell_type": "markdown",
   "metadata": {},
   "source": [
    "- 코루틴의 인터페이스\n",
    "    - close()\n",
    "        - generator에서 GeneratorExit 예외가 발생하며, 이 예외를 따로 처리하지 않으면  \n",
    "        제너레이터 더 이상 값을 생성하지 않으며 반복이 중지\n",
    "    - throw(ex_type[, ex_value[, ex_traceback]])\n",
    "        - 현재 제너레이터가 중단된 위치에서 예외를 던짐\n",
    "        \n",
    "    - send(value)\n",
    "        - send() 메서드를 사용했다는 것은 yield 키워드가 할당 구문의 오른쪽에 나오게 되고 인자 값을 받아서 다른 곳에 할당할 수 있음을 뜻함\n",
    "        - 코루틴에서 send() 메서드를 호출하려면 항상 next()를 먼저 호출.\n",
    "        - next()를 자동 호출해주는 @prepare_coroutine을 사용하면 편함"
   ]
  },
  {
   "cell_type": "code",
   "execution_count": 17,
   "metadata": {},
   "outputs": [],
   "source": [
    "\"\"\"Clean Code in Python - Chapter 7: Using Generators\n",
    "\n",
    "> Methods of the Generators Interface.\n",
    "\n",
    "\"\"\"\n",
    "import time\n",
    "\n",
    "# from log import logger\n",
    "import logging\n",
    "\n",
    "class DBHandler:\n",
    "    \"\"\"Simulate reading from the database by pages.\"\"\"\n",
    "    def __init__(self, db):\n",
    "        self.db = db\n",
    "        self.is_closed = False\n",
    "\n",
    "    def read_n_records(self, limit):\n",
    "        return [(i, f\"row {i}\") for i in range(limit)]\n",
    "\n",
    "    def close(self):\n",
    "        logger.debug(\"closing connection to database %r\", self.db)\n",
    "        self.is_closed = True\n",
    "\n",
    "\n",
    "def stream_db_records(db_handler):\n",
    "    \"\"\"Example of .close()\n",
    "\n",
    "    >>> streamer = stream_db_records(DBHandler(\"testdb\"))  # doctest: +ELLIPSIS\n",
    "    >>> len(next(streamer))\n",
    "    10\n",
    "\n",
    "    >>> len(next(streamer))\n",
    "    10\n",
    "    \"\"\"\n",
    "    try:\n",
    "        while True:\n",
    "            yield db_handler.read_n_records(10)\n",
    "            time.sleep(.1)\n",
    "    except GeneratorExit:\n",
    "        db_handler.close()\n",
    "\n",
    "\n",
    "class CustomException(Exception):\n",
    "    \"\"\"An exception of the domain model.\"\"\"\n",
    "\n",
    "\n",
    "def stream_data(db_handler):\n",
    "    \"\"\"Test the ``.throw()`` method.\n",
    "\n",
    "    >>> streamer = stream_data(DBHandler(\"testdb\"))\n",
    "    >>> len(next(streamer))\n",
    "    10\n",
    "    \"\"\"\n",
    "    while True:\n",
    "        try:\n",
    "            yield db_handler.read_n_records(10)\n",
    "        except CustomException as e:\n",
    "            logger.info(\"controlled error %r, continuing\", e)\n",
    "        except Exception as e:\n",
    "            logger.info(\"unhandled error %r, stopping\", e)\n",
    "            db_handler.close()\n",
    "            break\n"
   ]
  },
  {
   "cell_type": "code",
   "execution_count": 19,
   "metadata": {},
   "outputs": [
    {
     "data": {
      "text/plain": [
       "[(0, 'row 0'),\n",
       " (1, 'row 1'),\n",
       " (2, 'row 2'),\n",
       " (3, 'row 3'),\n",
       " (4, 'row 4'),\n",
       " (5, 'row 5'),\n",
       " (6, 'row 6'),\n",
       " (7, 'row 7'),\n",
       " (8, 'row 8'),\n",
       " (9, 'row 9')]"
      ]
     },
     "execution_count": 19,
     "metadata": {},
     "output_type": "execute_result"
    }
   ],
   "source": [
    "streamer = stream_data(DBHandler(\"testdb\"))\n",
    "next(streamer)"
   ]
  },
  {
   "cell_type": "code",
   "execution_count": 20,
   "metadata": {},
   "outputs": [
    {
     "data": {
      "text/plain": [
       "[(0, 'row 0'),\n",
       " (1, 'row 1'),\n",
       " (2, 'row 2'),\n",
       " (3, 'row 3'),\n",
       " (4, 'row 4'),\n",
       " (5, 'row 5'),\n",
       " (6, 'row 6'),\n",
       " (7, 'row 7'),\n",
       " (8, 'row 8'),\n",
       " (9, 'row 9')]"
      ]
     },
     "execution_count": 20,
     "metadata": {},
     "output_type": "execute_result"
    }
   ],
   "source": [
    "next(streamer)"
   ]
  },
  {
   "cell_type": "markdown",
   "metadata": {},
   "source": [
    "#### 3-2. Coroutine 고급 주제"
   ]
  },
  {
   "cell_type": "code",
   "execution_count": 21,
   "metadata": {},
   "outputs": [
    {
     "name": "stdout",
     "output_type": "stream",
     "text": [
      ">>> returned value 3\n"
     ]
    }
   ],
   "source": [
    "\"\"\" Stop exception을 활용한 리턴 방법(실제로 쓰이진 않음) \"\"\"\n",
    "def generator():\n",
    "    yield 1\n",
    "    yield 2\n",
    "    return 3\n",
    "\n",
    "gen = generator()\n",
    "\n",
    "while(True):\n",
    "    try:\n",
    "        next(gen)\n",
    "    except StopIteration as e:\n",
    "        print(\">>> returned value\", e.value)\n",
    "        break"
   ]
  },
  {
   "cell_type": "code",
   "execution_count": 22,
   "metadata": {},
   "outputs": [],
   "source": [
    "\"\"\" 간단한 yield from 사용 예\"\"\" \n",
    "def chain(*iterables):\n",
    "    for it in iterables:\n",
    "        for values in it:\n",
    "            yield value\n"
   ]
  },
  {
   "cell_type": "code",
   "execution_count": 25,
   "metadata": {},
   "outputs": [],
   "source": [
    "def chain(*iterables):\n",
    "    for it in iterables:\n",
    "        yield from it # "
   ]
  },
  {
   "cell_type": "code",
   "execution_count": 26,
   "metadata": {},
   "outputs": [
    {
     "data": {
      "text/plain": [
       "['h', 'e', 'l', 'l', 'o', 'world', 'tuple', 'of', 'value']"
      ]
     },
     "execution_count": 26,
     "metadata": {},
     "output_type": "execute_result"
    }
   ],
   "source": [
    "list(chain(\"hello\", [\"world\"], (\"tuple\", \"of\",\"value\")))"
   ]
  },
  {
   "cell_type": "markdown",
   "metadata": {},
   "source": [
    "##### 서브 제너레이터에서 반환된 값 구하기"
   ]
  },
  {
   "cell_type": "code",
   "execution_count": 27,
   "metadata": {},
   "outputs": [
    {
     "name": "stdout",
     "output_type": "stream",
     "text": [
      ">>> returned value 15\n"
     ]
    }
   ],
   "source": [
    "def sequence(name, start, end):\n",
    "    logger.info(\"%s started at %i\", name, start)\n",
    "    yield from range(start, end)\n",
    "    logger.info(\"%s finished at %i\", name, end)\n",
    "    return end\n",
    "\n",
    "def main():\n",
    "    step1 = yield from sequence(\"first\", 0, 5)\n",
    "    step2 = yield from sequence(\"second\", step1, 10)\n",
    "    return step1 + step2\n",
    "\n",
    "g = main()\n",
    "\n",
    "while(True): # yield from을 처음부터 쓸 수는 없음\n",
    "    try:\n",
    "        next(g)\n",
    "    except StopIteration as e:\n",
    "        print(\">>> returned value\", e.value) # 리턴값을 반환받을 수 있음\n",
    "        break"
   ]
  },
  {
   "cell_type": "markdown",
   "metadata": {},
   "source": [
    "##### 서브 제너레이터와 데이터 송수신하기"
   ]
  },
  {
   "cell_type": "code",
   "execution_count": 28,
   "metadata": {},
   "outputs": [
    {
     "name": "stdout",
     "output_type": "stream",
     "text": [
      "[0, 1, 2, 3, 4, 5, 6, 7, 8, 9]\n"
     ]
    }
   ],
   "source": [
    "class CustomException(Exception):\n",
    "    \"\"\"A type of exception that is under control.\"\"\"\n",
    "\n",
    "\n",
    "def sequence(name, start, end):\n",
    "    value = start\n",
    "    logger.info(\"%s started at %i\", name, value)\n",
    "    while value < end:\n",
    "        try:\n",
    "            received = yield value\n",
    "            logger.info(\"%s received %r\", name, received)\n",
    "            value += 1\n",
    "        except CustomException as e:\n",
    "            logger.info(\"%s is handling %s\", name, e)\n",
    "            received = yield \"OK\"\n",
    "    return end\n",
    "\n",
    "\n",
    "def main():\n",
    "    step1 = yield from sequence(\"first\", 0, 5)\n",
    "    step2 = yield from sequence(\"second\", step1, 10)\n",
    "\n",
    "if __name__ == \"__main__\":\n",
    "    print(list(main()))"
   ]
  },
  {
   "cell_type": "code",
   "execution_count": null,
   "metadata": {},
   "outputs": [],
   "source": []
  },
  {
   "cell_type": "code",
   "execution_count": null,
   "metadata": {},
   "outputs": [],
   "source": []
  }
 ],
 "metadata": {
  "kernelspec": {
   "display_name": "base",
   "language": "python",
   "name": "python3"
  },
  "language_info": {
   "codemirror_mode": {
    "name": "ipython",
    "version": 3
   },
   "file_extension": ".py",
   "mimetype": "text/x-python",
   "name": "python",
   "nbconvert_exporter": "python",
   "pygments_lexer": "ipython3",
   "version": "3.9.6"
  },
  "orig_nbformat": 4
 },
 "nbformat": 4,
 "nbformat_minor": 2
}
