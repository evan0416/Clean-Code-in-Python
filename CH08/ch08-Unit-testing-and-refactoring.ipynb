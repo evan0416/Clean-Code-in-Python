{
 "cells": [
  {
   "cell_type": "markdown",
   "metadata": {},
   "source": [
    "# CH08: Unit testing and refactoring"
   ]
  },
  {
   "cell_type": "markdown",
   "metadata": {},
   "source": [
    "#### 1. 디자인 원칙과 단위 테스트\n",
    ": 단위 테스트 : 다른 코드의 일부분이 유효한지 검사하는 코드\n",
    "\n",
    "단위 테스트 특징\n",
    "- 격리 : 독릭접이고 비즈니스 로직에 집중\n",
    "- 성능 : 신속하게 실행 , 반복적으로 실행  -> 설계\n",
    "- 자체 검증: 단위테스트 실행만으로 결과 결정 O"
   ]
  },
  {
   "cell_type": "markdown",
   "metadata": {},
   "source": [
    "##### 1-2. 단위 테스트와 애자일 소프트웨어 개발"
   ]
  },
  {
   "cell_type": "markdown",
   "metadata": {},
   "source": [
    "##### 1-3. 단위 테스트와 소프트웨어 디자인\n",
    ": 단위 테스틑 기본 코드 보완 x -> 실제 코드의 작성 방식에 직접적인 영향 o\n"
   ]
  },
  {
   "cell_type": "code",
   "execution_count": 1,
   "metadata": {},
   "outputs": [],
   "source": [
    "import logging as logger\n",
    "import random\n",
    "\n",
    "class MetricsClient:\n",
    "    \"\"\"3rd party 지표 전송 클라이언트\"\"\"\n",
    "\n",
    "    def send(self, metric_name, metric_value):\n",
    "        if not isinstance(metric_name, str):\n",
    "            raise TypeError(\"expected type str for metric_name\")\n",
    "\n",
    "        if not isinstance(metric_value, str):\n",
    "            raise TypeError(\"expected type str for metric_value\")\n",
    "\n",
    "        logger.info(\"sending %s = %s\", metric_name, metric_value)\n",
    "\n",
    "\n",
    "class Process:\n",
    "    def __init__(self):\n",
    "        self.client = MetricsClient()  # 3rd party 지표 전송 클라이언트\n",
    "\n",
    "    def process_iterations(self, n_iterations):\n",
    "        for i in range(n_iterations):\n",
    "            result = self.run_process()\n",
    "            self.client.send(\"iteration.{}\".format(i), result)\n",
    "\n",
    "    def run_process(self):\n",
    "        return random.randint(1, 100)"
   ]
  },
  {
   "cell_type": "code",
   "execution_count": null,
   "metadata": {},
   "outputs": [],
   "source": [
    "class WrappedClient:\n",
    "    \"\"\"3rd party 라이브러리를 통제 하에 둘 수 있도록 하는 wrapper 객체\"\"\"\n",
    "\n",
    "    def __init__(self):\n",
    "        self.client = MetricsClient()\n",
    "\n",
    "    def send(self, metric_name, metric_value):\n",
    "        return self.client.send(str(metric_name), str(metric_value))\n",
    "\n",
    "\n",
    "class Process:\n",
    "    def __init__(self):\n",
    "        self.client = MetricsClient()  # 3rd party 지표 전송 클라이언트\n",
    "\n",
    "    def process_iterations(self, n_iterations):\n",
    "        for i in range(n_iterations):\n",
    "            result = self.run_process()\n",
    "            self.client.send(\"iteration.{}\".format(i), result)\n",
    "\n",
    "    def run_process(self):\n",
    "        return random.randint(1, 100)"
   ]
  },
  {
   "cell_type": "code",
   "execution_count": 2,
   "metadata": {},
   "outputs": [],
   "source": [
    "from unittest import TestCase, main\n",
    "from unittest.mock import Mock\n",
    "\n",
    "\n",
    "class TestWrappedClient(TestCase):\n",
    "    def test_send_converts_types(self):\n",
    "        wrapped_client = WrappedClient()\n",
    "        wrapped_client.client = Mock()\n",
    "        wrapped_client.send(\"value\", 1)\n",
    "\n",
    "        wrapped_client.client.send.assert_called_with(\"value\", \"1\")"
   ]
  },
  {
   "cell_type": "markdown",
   "metadata": {},
   "source": [
    "#### 1-4. 테스트 경계 정하기\n",
    ": 외부 의존성 깊게 고려 x -> 올바른 파라미터 사용해 호출하면 정상 실행 확인만 해도 충분\n",
    "\n",
    "좋은 단위 테스트 패치를 적용하여 넘어가고 핵심 기능에 초점"
   ]
  },
  {
   "cell_type": "markdown",
   "metadata": {},
   "source": [
    "#### 2. 테스트를 위한 프레임워크와 도구\n"
   ]
  },
  {
   "cell_type": "markdown",
   "metadata": {},
   "source": [
    "##### 2-1. 단위 테스트 프레임워크와 라이브러리\n",
    "\n",
    "- unittest   표준 라이브러리\n",
    "- pytest    pip install pytest"
   ]
  },
  {
   "cell_type": "code",
   "execution_count": 3,
   "metadata": {},
   "outputs": [],
   "source": [
    "from enum import Enum\n",
    "\n",
    "\n",
    "class MergeRequestStatus(Enum):\n",
    "    APPROVED = \"approved\"\n",
    "    REJECTED = \"rejected\"\n",
    "    PENDING = \"pending\"\n",
    "\n",
    "\n",
    "class MergeRequest:\n",
    "    \"\"\"An entity abstracting a merge request.\"\"\"\n",
    "\n",
    "    def __init__(self):\n",
    "        self._context = {\"upvotes\": set(), \"downvotes\": set()}\n",
    "\n",
    "    @property\n",
    "    def status(self):\n",
    "        if self._context[\"downvotes\"]:\n",
    "            return MergeRequestStatus.REJECTED\n",
    "        elif len(self._context[\"upvotes\"]) >= 2:\n",
    "            return MergeRequestStatus.APPROVED\n",
    "        return MergeRequestStatus.PENDING\n",
    "\n",
    "    def upvote(self, by_user):\n",
    "        self._context[\"downvotes\"].discard(by_user)\n",
    "        self._context[\"upvotes\"].add(by_user)\n",
    "\n",
    "    def downvote(self, by_user):\n",
    "        self._context[\"upvotes\"].discard(by_user)\n",
    "        self._context[\"downvotes\"].add(by_user)"
   ]
  },
  {
   "cell_type": "markdown",
   "metadata": {},
   "source": [
    "##### # unittest\n",
    ": 자바 JUnit 기반  객체 지향적\n",
    "\n",
    "단위테스트를 만들려면 unit.TestCase 를 상속하여 테스트 클래스 생성 후 테스트할 조건 정의  \n",
    "메서드 test_ 로 시작"
   ]
  },
  {
   "cell_type": "code",
   "execution_count": null,
   "metadata": {},
   "outputs": [],
   "source": [
    "class BaseCase:\n",
    "    \"\"\"Base test suite.\"\"\"\n",
    "\n",
    "    def setUp(self):\n",
    "        self.merge_request = self.mr_cls()\n",
    "\n",
    "    def test_simple_rejected(self):\n",
    "        self.merge_request.downvote(\"maintainer\")\n",
    "        self.assertEqual(\n",
    "            self.merge_request.status.value, MergeRequestStatus.REJECTED.value\n",
    "        )\n",
    "\n",
    "    def test_just_created_is_pending(self):\n",
    "        self.assertEqual(\n",
    "            self.mr_cls().status.value, MergeRequestStatus.PENDING.value\n",
    "        )\n",
    "\n",
    "    def test_pending_awaiting_review(self):\n",
    "        self.merge_request.upvote(\"core-dev\")\n",
    "        self.assertEqual(\n",
    "            self.merge_request.status.value, MergeRequestStatus.PENDING.value\n",
    "        )\n",
    "\n",
    "    def test_approved(self):\n",
    "        self.merge_request.upvote(\"dev1\")\n",
    "        self.merge_request.upvote(\"dev2\")\n",
    "\n",
    "        self.assertEqual(\n",
    "            self.merge_request.status.value, MergeRequestStatus.APPROVED.value\n",
    "        )\n",
    "\n",
    "    def test_no_double_approve(self):\n",
    "        self.merge_request.upvote(\"dev1\")\n",
    "        self.merge_request.upvote(\"dev1\")\n",
    "\n",
    "        self.assertEqual(\n",
    "            self.merge_request.status.value, MergeRequestStatus.PENDING.value\n",
    "        )\n",
    "\n",
    "    def test_upvote_changes_to_downvote(self):\n",
    "        self.merge_request.upvote(\"dev1\")\n",
    "        self.merge_request.upvote(\"dev2\")\n",
    "        self.merge_request.downvote(\"dev1\")\n",
    "\n",
    "        self.assertEqual(\n",
    "            self.merge_request.status.value, MergeRequestStatus.REJECTED.value\n",
    "        )\n",
    "\n",
    "    def test_downvote_to_upvote(self):\n",
    "        self.merge_request.upvote(\"dev1\")\n",
    "        self.merge_request.downvote(\"dev2\")\n",
    "        self.merge_request.upvote(\"dev2\")\n",
    "\n",
    "        self.assertEqual(\n",
    "            self.merge_request.status.value, MergeRequestStatus.APPROVED.value\n",
    "        )\n",
    "\n",
    "    def test_invalid_types(self):\n",
    "        self.assertRaises(\n",
    "            TypeError, self.merge_request.upvote, {\"invalid-object\"}\n",
    "        )\n",
    "\n",
    "\n",
    "class TestsUTFrameworks1(BaseCase, TestCase):\n",
    "    mr_cls = MergeRequest"
   ]
  },
  {
   "cell_type": "markdown",
   "metadata": {},
   "source": [
    "단위 테스트 API 다양한 메서드 제공\n",
    "ex] 실제 실행 값과 예상 값을 비교하는 assertEquals(<actual>, <expected>[, message]).  \n",
    "\n",
    "\n",
    "두 개의 새로운 상태(OPEN, CLOSED) 와 한 개의 새로운 메서드 close() 를 추가, 투표 "
   ]
  },
  {
   "cell_type": "code",
   "execution_count": 4,
   "metadata": {},
   "outputs": [],
   "source": [
    "class MergeRequestExtendedStatus(Enum):\n",
    "    APPROVED = \"approved\"\n",
    "    REJECTED = \"rejected\"\n",
    "    PENDING = \"pending\"\n",
    "    OPEN = \"open\"\n",
    "    CLOSED = \"closed\"\n",
    "\n",
    "\n",
    "class MergeRequest:\n",
    "    def __init__(self):\n",
    "        self._context = {\"upvotes\": set(), \"downvotes\": set()}\n",
    "        self._status = MergeRequestStatus.OPEN\n",
    "\n",
    "    def close(self):\n",
    "        self._status = MergeRequestStatus.CLOSED\n",
    "\n",
    "    @property\n",
    "    def status(self):\n",
    "        if self._status == MergeRequestStatus.CLOSED:\n",
    "            return self._status\n",
    "\n",
    "        if self._context[\"downvotes\"]:\n",
    "            return MergeRequestStatus.REJECTED\n",
    "        elif len(self._context[\"upvotes\"]) >= 2:\n",
    "            return MergeRequestStatus.APPROVED\n",
    "        return MergeRequestStatus.PENDING\n",
    "\n",
    "    def _cannot_vote_if_closed(self):\n",
    "        if self._status == MergeRequestStatus.CLOSED:\n",
    "            raise MergeRequestException(\"can't vote on a closed merge request\")\n",
    "\n",
    "    def upvote(self, by_user):\n",
    "        self._cannot_vote_if_closed()\n",
    "\n",
    "        self._context[\"downvotes\"].discard(by_user)\n",
    "        self._context[\"upvotes\"].add(by_user)\n",
    "\n",
    "    def downvote(self, by_user):\n",
    "        self._cannot_vote_if_closed()\n",
    "\n",
    "        self._context[\"upvotes\"].discard(by_user)\n",
    "        self._context[\"downvotes\"].add(by_user)"
   ]
  },
  {
   "cell_type": "markdown",
   "metadata": {},
   "source": [
    "유효성 검사 작동확인 assertRaises, assertRaisesRegex 메서드 사용"
   ]
  },
  {
   "cell_type": "code",
   "execution_count": null,
   "metadata": {},
   "outputs": [],
   "source": [
    " class ExtendedCases:\n",
    "    def test_cannot_upvote_on_closed_merge_request(self):\n",
    "        self.merge_request.close()\n",
    "        self.assertRaises(\n",
    "            MergeRequestException, self.merge_request.upvote, \"dev1\"\n",
    "        )\n",
    "\n",
    "    def test_cannot_downvote_on_closed_merge_request(self):\n",
    "        self.merge_request.close()\n",
    "        self.assertRaisesRegex(\n",
    "            MergeRequestException,\n",
    "            \"can't vote on a closed merge request\",\n",
    "            self.merge_request.downvote,\n",
    "            \"dev1\",\n",
    "        )\n",
    "        \n",
    "\n",
    "class TestsUTFrameworks2(BaseCase, ExtendedCases, TestCase):\n",
    "    mr_cls = MergeRequest"
   ]
  },
  {
   "cell_type": "markdown",
   "metadata": {},
   "source": [
    "##### 테스트 파라미터화\n",
    ": 임계값을 변경하며 테스트\n",
    "\n",
    "status 프로퍼티에서 종료여부 확인한후 코드 테스트"
   ]
  },
  {
   "cell_type": "code",
   "execution_count": null,
   "metadata": {},
   "outputs": [],
   "source": [
    "class AcceptanceThreshold:\n",
    "    def __init__(self, merge_request_context: dict) -> None:\n",
    "        self._context = merge_request_context\n",
    "\n",
    "    def status(self):\n",
    "        if self._context[\"downvotes\"]:\n",
    "            return MergeRequestStatus.REJECTED\n",
    "        elif len(self._context[\"upvotes\"]) >= 2:\n",
    "            return MergeRequestStatus.APPROVED\n",
    "        return MergeRequestStatus.PENDING\n",
    "\n",
    "\n",
    "class MergeRequest:\n",
    "    ...\n",
    "    @property\n",
    "    def status(self):\n",
    "        if self._status == MergeRequestStatus.CLOSED:\n",
    "            return self._status\n",
    "\n",
    "        return AcceptanceThreshold(self._context).status()"
   ]
  },
  {
   "cell_type": "code",
   "execution_count": null,
   "metadata": {},
   "outputs": [],
   "source": [
    "class TestsUTFrameworks3(BaseCase, ExtendedCases, TestCase):\n",
    "    mr_cls = MergeRequest\n",
    "\n",
    "    def setUp(self):\n",
    "        super().setUp()\n",
    "        self.fixture_data = (\n",
    "            (\n",
    "                {\"downvotes\": set(), \"upvotes\": set()},\n",
    "                MergeRequestStatus.PENDING,\n",
    "            ),\n",
    "            (\n",
    "                {\"downvotes\": set(), \"upvotes\": {\"dev1\"}},\n",
    "                MergeRequestStatus.PENDING,\n",
    "            ),\n",
    "            (\n",
    "                {\"downvotes\": \"dev1\", \"upvotes\": set()},\n",
    "                MergeRequestStatus.REJECTED,\n",
    "            ),\n",
    "            (\n",
    "                {\"downvotes\": set(), \"upvotes\": {\"dev1\", \"dev2\"}},\n",
    "                MergeRequestStatus.APPROVED,\n",
    "            ),\n",
    "        )\n",
    "\n",
    "    def test_status_resolution(self):\n",
    "        for context, expected in self.fixture_data:\n",
    "            with self.subTest(context=context):\n",
    "                status = AcceptanceThreshold(context).status()\n",
    "                self.assertEqual(status.value, expected.value)"
   ]
  },
  {
   "cell_type": "markdown",
   "metadata": {},
   "source": [
    "#### # pytest"
   ]
  },
  {
   "cell_type": "code",
   "execution_count": 8,
   "metadata": {},
   "outputs": [],
   "source": [
    "def test_simple_rejected():\n",
    "    merge_request = MergeRequest()\n",
    "    merge_request.downvote(\"maintainer\")\n",
    "    assert merge_request.status == MergeRequestStatus.REJECTED\n",
    "\n",
    "\n",
    "def test_just_created_is_pending():\n",
    "    assert MergeRequest().status == MergeRequestStatus.PENDING\n",
    "\n",
    "\n",
    "def test_pending_awaiting_review():\n",
    "    merge_request = MergeRequest()\n",
    "    merge_request.upvote(\"core-dev\")\n",
    "    assert merge_request.status == MergeRequestStatus.PENDING\n",
    "\n",
    "\n",
    "def test_approved():\n",
    "    merge_request = MergeRequest()\n",
    "    merge_request.upvote(\"dev1\")\n",
    "    merge_request.upvote(\"dev2\")\n",
    "\n",
    "    assert merge_request.status == MergeRequestStatus.APPROVED\n",
    "\n",
    "\n",
    "def test_no_double_approve():\n",
    "    merge_request = MergeRequest()\n",
    "    merge_request.upvote(\"dev1\")\n",
    "    merge_request.upvote(\"dev1\")\n",
    "\n",
    "    assert merge_request.status == MergeRequestStatus.PENDING\n",
    "\n",
    "\n",
    "def test_upvote_changes_to_downvote():\n",
    "    merge_request = MergeRequest()\n",
    "    merge_request.upvote(\"dev1\")\n",
    "    merge_request.upvote(\"dev2\")\n",
    "    merge_request.downvote(\"dev1\")\n",
    "\n",
    "    assert merge_request.status == MergeRequestStatus.REJECTED\n",
    "\n",
    "\n",
    "def test_downvote_to_upvote():\n",
    "    merge_request = MergeRequest()\n",
    "    merge_request.upvote(\"dev1\")\n",
    "    merge_request.downvote(\"dev2\")\n",
    "    merge_request.upvote(\"dev2\")\n",
    "\n",
    "    assert merge_request.status == MergeRequestStatus.APPROVED"
   ]
  },
  {
   "cell_type": "markdown",
   "metadata": {},
   "source": [
    "결과가 참인지를 비교하는 것은 assert 구문만 사용하면 되지만, 예외의 발생 유무 검사와 같은 검사는 일부 함수를 사용해야 함"
   ]
  },
  {
   "cell_type": "code",
   "execution_count": null,
   "metadata": {},
   "outputs": [],
   "source": [
    "import pytest\n",
    "def test_invalid_types():\n",
    "    merge_request = MergeRequest()\n",
    "    pytest.raises(TypeError, merge_request.upvote, {\"invalid-object\"})\n",
    "\n",
    "\n",
    "def test_cannot_vote_on_closed_merge_request():\n",
    "    merge_request = MergeRequest()\n",
    "    merge_request.close()\n",
    "    pytest.raises(MergeRequestException, merge_request.upvote, \"dev1\")\n",
    "    with pytest.raises(\n",
    "        MergeRequestException, match=\"can't vote on a closed merge request\"\n",
    "    ):\n",
    "        merge_request.downvote(\"dev1\")"
   ]
  },
  {
   "cell_type": "markdown",
   "metadata": {},
   "source": [
    "##### 테스트 파라미터화\n",
    ": unittest보다 좋음  cuz 테스트 조합마다 새로운 테스트 케이스를 생성\n",
    "\n",
    " pytest.mark.parameterize 데코레이터를 사용"
   ]
  },
  {
   "cell_type": "code",
   "execution_count": null,
   "metadata": {},
   "outputs": [],
   "source": [
    "@pytest.mark.parametrize(\n",
    "    \"context,expected_status\",\n",
    "    (\n",
    "        ({\"downvotes\": set(), \"upvotes\": set()}, MergeRequestStatus.PENDING),\n",
    "        (\n",
    "            {\"downvotes\": set(), \"upvotes\": {\"dev1\"}},\n",
    "            MergeRequestStatus.PENDING,\n",
    "        ),\n",
    "        ({\"downvotes\": \"dev1\", \"upvotes\": set()}, MergeRequestStatus.REJECTED),\n",
    "        (\n",
    "            {\"downvotes\": set(), \"upvotes\": {\"dev1\", \"dev2\"}},\n",
    "            MergeRequestStatus.APPROVED,\n",
    "        ),\n",
    "    ),\n",
    ")\n",
    "def test_acceptance_threshold_status_resolution(context, expected_status):\n",
    "    assert AcceptanceThreshold(context).status() == expected_status"
   ]
  },
  {
   "cell_type": "markdown",
   "metadata": {},
   "source": [
    "| @pytest.mark.parameterize 반복 없애고 응집력있게 유지"
   ]
  },
  {
   "cell_type": "markdown",
   "metadata": {},
   "source": [
    "##### 픽스쳐(Fixture)\n",
    "\n",
    ": pytest  재사용 가능한 기능을 쉽게 만들 수 있음\n",
    "\n",
    "-> 생성한 데이터나 객체 재사용해서 효율적으로 테스트"
   ]
  },
  {
   "cell_type": "code",
   "execution_count": 10,
   "metadata": {},
   "outputs": [],
   "source": [
    "import pytest\n",
    "@pytest.fixture\n",
    "def rejected_mr():\n",
    "    merge_request = MergeRequest()\n",
    "\n",
    "    merge_request.downvote(\"dev1\")\n",
    "    merge_request.upvote(\"dev2\")\n",
    "    merge_request.upvote(\"dev3\")\n",
    "    merge_request.downvote(\"dev4\")\n",
    "\n",
    "    return merge_request\n",
    "\n",
    "\n",
    "def test_simple_rejected(rejected_mr):\n",
    "    assert rejected_mr.status == MergeRequestStatus.REJECTED\n",
    "\n",
    "\n",
    "def test_rejected_with_approvals(rejected_mr):\n",
    "    rejected_mr.upvote(\"dev2\")\n",
    "    rejected_mr.upvote(\"dev3\")\n",
    "    assert rejected_mr.status == MergeRequestStatus.REJECTED\n",
    "\n",
    "\n",
    "def test_rejected_to_pending(rejected_mr):\n",
    "    rejected_mr.upvote(\"dev1\")\n",
    "    assert rejected_mr.status == MergeRequestStatus.PENDING\n",
    "\n",
    "\n",
    "def test_rejected_to_approved(rejected_mr):\n",
    "    rejected_mr.upvote(\"dev1\")\n",
    "    rejected_mr.upvote(\"dev2\")\n",
    "    assert rejected_mr.status == MergeRequestStatus.APPROVED"
   ]
  },
  {
   "cell_type": "markdown",
   "metadata": {},
   "source": [
    "#### 2-2.코드 커버리지"
   ]
  },
  {
   "cell_type": "markdown",
   "metadata": {},
   "source": [
    "##### # 코드 커버리지 도구 설정\n",
    ": pytest 의 경우 ptest-cov 패키지를 설치"
   ]
  },
  {
   "cell_type": "markdown",
   "metadata": {},
   "source": [
    "###### # 코드 커버리지 사용 시 주의사항\n",
    ": 라인이 인터프리트 되었다고 해서 적절히 테스트 되었다는 것을 의미 x\n",
    "\n",
    "| 코드 사각지대를 찾기 위해 커버리 사용 but 궁극적인 목표 x"
   ]
  },
  {
   "cell_type": "markdown",
   "metadata": {},
   "source": [
    "#### 2-3. 모의(mock) 객체\n"
   ]
  },
  {
   "cell_type": "markdown",
   "metadata": {},
   "source": [
    "##### # 패치와 모의에 대한 주의사항\n",
    ": 단한 테스트 케이스를 작성하기 위해 다양한 몽키 패치  \n",
    " 또는 모의 객체를 생성해야 한다면 좋은 코드가 아니라는 신호\n",
    "\n",
    "\n",
    "\n",
    "\n",
    "\n",
    "*몽키 패치: 런타임 주에 코드를 수정 (a.k.a: 게릴라(guerilla) 패치)"
   ]
  },
  {
   "cell_type": "markdown",
   "metadata": {},
   "source": [
    "##### # Mock 객체 사용하기"
   ]
  },
  {
   "cell_type": "markdown",
   "metadata": {},
   "source": [
    "##### Mock 객체의 종류\n",
    "파이썬 표준 라이브러리 unittest.mock 에서 Mock 과 MagicMock 객체 제공"
   ]
  },
  {
   "cell_type": "code",
   "execution_count": null,
   "metadata": {},
   "outputs": [],
   "source": [
    "class GitBranch:\n",
    "    def __init__(self, commits: List[Dict]):\n",
    "        self._commits = {c[\"id\"]: c for c in commits}\n",
    "\n",
    "    def __getitem__(self, commit_id):\n",
    "        return self._commits[commit_id]\n",
    "\n",
    "    def __len__(self):\n",
    "        return len(self._commits)\n",
    "\n",
    "\n",
    "def author_by_id(commit_id, branch):\n",
    "    return branch[commit_id][\"author\"]\n",
    "\n",
    "\n"
   ]
  },
  {
   "cell_type": "markdown",
   "metadata": {},
   "source": [
    " author_by_id 를 테스트"
   ]
  },
  {
   "cell_type": "code",
   "execution_count": null,
   "metadata": {},
   "outputs": [],
   "source": [
    "def test_find_commit():\n",
    "    branch = GitBranch([{\"id\": \"123\", \"author\": \"dev1\"}])\n",
    "    assert author_by_id(\"123\", branch) == \"dev1\"\n",
    "\n",
    "\n",
    "def test_find_any():\n",
    "    author = author_by_id(\"123\", Mock()) is not None\n",
    "    ...\n"
   ]
  },
  {
   "cell_type": "code",
   "execution_count": null,
   "metadata": {},
   "outputs": [],
   "source": [
    "commit_id = '123', branch = <Mock id='4499646224'>\n",
    "\n",
    "    def author_by_id(commit_id, branch):\n",
    ">       return branch[commit_id][\"author\"]\n",
    "E       TypeError: 'Mock' object is not subscriptable"
   ]
  },
  {
   "cell_type": "markdown",
   "metadata": {},
   "source": [
    "#### 테스트 더블의 사용 예"
   ]
  },
  {
   "cell_type": "code",
   "execution_count": 13,
   "metadata": {},
   "outputs": [],
   "source": [
    "\"\"\"Clean Code in Python - Chapter 8: Unit Testing\n",
    "\n",
    "> Mock Objects\n",
    "\n",
    "\"\"\"\n",
    "from datetime import datetime\n",
    "\n",
    "import requests\n",
    "\n",
    "from og_src import constants as STATUS_ENDPOINT\n",
    "# from constants import STATUS_ENDPOINT\n",
    "\n",
    "\n",
    "class BuildStatus:\n",
    "    \"\"\"The CI status of a pull request.\"\"\"\n",
    "\n",
    "    @staticmethod\n",
    "    def build_date() -> str:\n",
    "        return datetime.utcnow().isoformat()\n",
    "\n",
    "    @classmethod\n",
    "    def notify(cls, merge_request_id, status):\n",
    "        build_status = {\n",
    "            \"id\": merge_request_id,\n",
    "            \"status\": status,\n",
    "            \"built_at\": cls.build_date(),\n",
    "        }\n",
    "        response = requests.post(STATUS_ENDPOINT, json=build_status)\n",
    "        response.raise_for_status()\n",
    "        return response\n"
   ]
  },
  {
   "cell_type": "markdown",
   "metadata": {},
   "source": [
    " 외부 모듈의 의존성이 높다. 테스트할때 실제로 API 호출할 필요는 없고 호출이 잘되는지만 확인  \n",
    " 시간값도 예측 힘듬 datetime C로 작성된 모듈 직접 패치 x -> build_date 정적 메서드 사용"
   ]
  },
  {
   "cell_type": "code",
   "execution_count": null,
   "metadata": {},
   "outputs": [],
   "source": [
    "#### 단위 테스트\n",
    "from unittest import mock\n",
    "\n",
    "from constants import STATUS_ENDPOINT\n",
    "from mock_2 import BuildStatus\n",
    "\n",
    "\n",
    "@mock.patch(\"mock_2.requests\")\n",
    "def test_build_notification_sent(mock_requests):\n",
    "    build_date = \"2018-01-01T00:00:01\"\n",
    "    with mock.patch(\"mock_2.BuildStatus.build_date\", return_value=build_date):\n",
    "        BuildStatus.notify(123, \"OK\")\n",
    "\n",
    "    expected_payload = {\"id\": 123, \"status\": \"OK\", \"built_at\": build_date}\n",
    "    mock_requests.post.assert_called_with(\n",
    "        STATUS_ENDPOINT, json=expected_payload\n",
    "    )"
   ]
  },
  {
   "cell_type": "markdown",
   "metadata": {},
   "source": [
    "# 3. 리펠토링\n",
    ": 보다 나은 코드를 만들려는 경우, 가독성 높일련느 경우 -> 수정작업 이전 이후가 완전히 동일한 기능 유지"
   ]
  },
  {
   "cell_type": "markdown",
   "metadata": {},
   "source": [
    "##### 3-1. 코드의 진화\n",
    "메서드를 더 작게 분리, 의존성 주입"
   ]
  },
  {
   "cell_type": "code",
   "execution_count": null,
   "metadata": {},
   "outputs": [],
   "source": [
    "from datetime import datetime\n",
    "from constants import STATUS_ENDPOINT\n",
    "\n",
    "class BuildStatus:\n",
    "\n",
    "    endpoint = STATUS_ENDPOINT\n",
    "\n",
    "    def __init__(self, transport):\n",
    "        self.transport = transport\n",
    "\n",
    "    @staticmethod\n",
    "    def build_date() -> str:\n",
    "        return datetime.utcnow().isoformat()\n",
    "\n",
    "    def compose_payload(self, merge_request_id, status) -> dict:\n",
    "        return {\n",
    "            \"id\": merge_request_id,\n",
    "            \"status\": status,\n",
    "            \"built_at\": self.build_date(),\n",
    "        }\n",
    "\n",
    "    def deliver(self, payload):\n",
    "        response = self.transport.post(self.endpoint, json=payload)\n",
    "        response.raise_for_status()\n",
    "        return response\n",
    "\n",
    "    def notify(self, merge_request_id, status):\n",
    "        return self.deliver(self.compose_payload(merge_request_id, status))"
   ]
  },
  {
   "cell_type": "markdown",
   "metadata": {},
   "source": [
    "필요하면 교체된 텍스트 더블을 사용한 객체의 픽스처를 노출하는 것도 가능"
   ]
  },
  {
   "cell_type": "code",
   "execution_count": null,
   "metadata": {},
   "outputs": [],
   "source": [
    "@pytest.fixture\n",
    "def build_status():\n",
    "    bstatus = BuildStatus(Mock())\n",
    "    bstatus.build_date = Mock(return_value=\"2018-01-01T00:00:01\")\n",
    "    return bstatus\n",
    "\n",
    "\n",
    "def test_build_notification_sent(build_status):\n",
    "\n",
    "    build_status.notify(1234, \"OK\")\n",
    "\n",
    "    expected_payload = {\n",
    "        \"id\": 1234,\n",
    "        \"status\": \"OK\",\n",
    "        \"built_at\": build_status.build_date(),\n",
    "    }\n",
    "\n",
    "    build_status.transport.post.assert_called_with(\n",
    "        build_status.endpoint, json=expected_payload\n",
    "    )"
   ]
  },
  {
   "cell_type": "markdown",
   "metadata": {},
   "source": [
    "#### 3-2. 상용 코드만 진화하는 것이 아니다\n",
    ": 모든 코드 가독성 높아야함\n"
   ]
  },
  {
   "cell_type": "markdown",
   "metadata": {},
   "source": [
    "#### 4.단위 테스트에 대한 추가 논의"
   ]
  },
  {
   "cell_type": "markdown",
   "metadata": {},
   "source": [
    "##### 4-1.속성 기반(Property-based) 테스트\n",
    ": 테스트를 실패가 만드는 데이터를 찾는 것\n",
    "\n",
    "hypothesis 라이브러리 사용"
   ]
  },
  {
   "cell_type": "markdown",
   "metadata": {},
   "source": [
    "##### 4-2.변형 테스트\n",
    "\n",
    " 자동화된 단위 테스트를 사용하는 중에 누군가 버그를 추가했다면  \n",
    "  적어도 하나 이상의 테스트에서 이를 포착하여 테스트에 실패해야 한다"
   ]
  },
  {
   "cell_type": "code",
   "execution_count": null,
   "metadata": {},
   "outputs": [],
   "source": [
    "\"\"\"Clean Code in Python - Chapter 8: Unit Testing & Refactoring\n",
    "\n",
    "> Mutation Testing\n",
    "\"\"\"\n",
    "from mrstatus import MergeRequestStatus as Status\n",
    "\n",
    "\n",
    "def evaluate_merge_request(upvote_count, downvotes_count):\n",
    "    if downvotes_count > 0:\n",
    "        return Status.REJECTED\n",
    "    if upvote_count >= 2:\n",
    "        return Status.APPROVED\n",
    "    return Status.PENDING"
   ]
  },
  {
   "cell_type": "code",
   "execution_count": null,
   "metadata": {},
   "outputs": [],
   "source": [
    "import unittest\n",
    "\n",
    "from mrstatus import MergeRequestStatus as Status\n",
    "from mutation_testing_1 import evaluate_merge_request\n",
    "\n",
    "\n",
    "class TestMergeRequestEvaluation(unittest.TestCase):\n",
    "    def test_approved(self):\n",
    "        result = evaluate_merge_request(3, 0)\n",
    "        self.assertEqual(result, Status.APPROVED)\n",
    "\n",
    "\n",
    "if __name__ == \"__main__\":\n",
    "    unittest.main()\n"
   ]
  }
 ],
 "metadata": {
  "kernelspec": {
   "display_name": "base",
   "language": "python",
   "name": "python3"
  },
  "language_info": {
   "codemirror_mode": {
    "name": "ipython",
    "version": 3
   },
   "file_extension": ".py",
   "mimetype": "text/x-python",
   "name": "python",
   "nbconvert_exporter": "python",
   "pygments_lexer": "ipython3",
   "version": "3.9.13"
  },
  "orig_nbformat": 4
 },
 "nbformat": 4,
 "nbformat_minor": 2
}
