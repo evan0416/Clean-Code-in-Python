{
 "cells": [
  {
   "attachments": {},
   "cell_type": "markdown",
   "metadata": {},
   "source": [
    "### CH06 Getting More out of our Objects With Descriptors"
   ]
  },
  {
   "cell_type": "markdown",
   "metadata": {},
   "source": [
    ":파이썬의 고급기능 디스크립터 다른언어에는 생소한 개념"
   ]
  },
  {
   "cell_type": "markdown",
   "metadata": {},
   "source": [
    "#### 디스크립터 개요"
   ]
  },
  {
   "cell_type": "markdown",
   "metadata": {},
   "source": [
    "디스크립터 메커니즘(descriptor mechanism)\n",
    "- 최소 두 개의 클래스가 필요\n",
    "- 디스크립터 프로토콜 중 최소 한개 이상 클래스 속성으로 포함해야 함\n",
    "\n",
    "(python 3.6기준 디스크립터 프로토콜)\n",
    "\n",
    "- __get__\n",
    "- __set__\n",
    "- __delete__\n",
    "- __set_name__"
   ]
  },
  {
   "cell_type": "markdown",
   "metadata": {},
   "source": [
    "Tip : 디스크립터 객체는 항상 클래스 속성으로 선언해야 한다!"
   ]
  },
  {
   "cell_type": "code",
   "execution_count": 1,
   "metadata": {},
   "outputs": [],
   "source": [
    "\"\"\" 디스크립터는 __get__ 매직 메서드의 결과를 반환함 \"\"\"\n",
    "\n",
    "import logging\n",
    "\n",
    "logging.basicConfig(level=logging.INFO)\n",
    "logger = logging.getLogger(__name__)\n",
    "\n",
    "class DescriptorClass:\n",
    "    def __get__(self, instance, owner): # owner의 인스턴스와 클래스를 받음\n",
    "        if instance is None:\n",
    "            return self\n",
    "        logger.info(\n",
    "            \"Call: %s.__get__(%r, %r)\", \n",
    "            self.__class__.__name__,\n",
    "            instance,\n",
    "            owner,\n",
    "        )\n",
    "        return instance\n",
    "\n",
    "\n",
    "class ClientClass:\n",
    "    descriptor = DescriptorClass()"
   ]
  },
  {
   "cell_type": "code",
   "execution_count": 2,
   "metadata": {},
   "outputs": [
    {
     "name": "stderr",
     "output_type": "stream",
     "text": [
      "INFO:__main__:Call: DescriptorClass.__get__(<__main__.ClientClass object at 0x103448dc0>, <class '__main__.ClientClass'>)\n"
     ]
    },
    {
     "data": {
      "text/plain": [
       "<__main__.ClientClass at 0x103448dc0>"
      ]
     },
     "execution_count": 2,
     "metadata": {},
     "output_type": "execute_result"
    }
   ],
   "source": [
    "client = ClientClass()\n",
    "client.descriptor"
   ]
  },
  {
   "cell_type": "code",
   "execution_count": 3,
   "metadata": {},
   "outputs": [
    {
     "name": "stderr",
     "output_type": "stream",
     "text": [
      "INFO:__main__:Call: DescriptorClass.__get__(<__main__.ClientClass object at 0x103448dc0>, <class '__main__.ClientClass'>)\n"
     ]
    },
    {
     "data": {
      "text/plain": [
       "True"
      ]
     },
     "execution_count": 3,
     "metadata": {},
     "output_type": "execute_result"
    }
   ],
   "source": [
    "client.descriptor is client"
   ]
  },
  {
   "attachments": {},
   "cell_type": "markdown",
   "metadata": {},
   "source": [
    "#### 디스크립터 프로토콜의 메서드 검색\n",
    "\n",
    " _ _ get _ _(self, isinstance, owner)\n",
    "\n",
    "- owner가 있는 경우는 클래스에서 직접 호출하는 경우 isinstance가 None이기 떄문"
   ]
  },
  {
   "cell_type": "code",
   "execution_count": 4,
   "metadata": {},
   "outputs": [],
   "source": [
    "# descripters_methods_1.py\n",
    "\n",
    "\"\"\" 디스크립터를 인스턴스로 호출할 때와 클래스 속성으로 호출할 때의 차이점 \"\"\"\n",
    "\n",
    "class DescriptorClass:\n",
    "    def __get__(self, instance, owner):\n",
    "        if instance is None:\n",
    "            return self, owner\n",
    "        logger.info(\"Call: %s.__get__(%r, %r)\",\n",
    "                    self.__class__.__name__, instance, owner)\n",
    "        return instance\n",
    "    \n",
    "class ClientClass:\n",
    "    descriptor = DescriptorClass()"
   ]
  },
  {
   "cell_type": "code",
   "execution_count": 7,
   "metadata": {},
   "outputs": [
    {
     "data": {
      "text/plain": [
       "(<__main__.DescriptorClass at 0x103463e80>, __main__.ClientClass)"
      ]
     },
     "execution_count": 7,
     "metadata": {},
     "output_type": "execute_result"
    }
   ],
   "source": [
    "ClientClass.descriptor"
   ]
  },
  {
   "cell_type": "code",
   "execution_count": 8,
   "metadata": {},
   "outputs": [
    {
     "name": "stderr",
     "output_type": "stream",
     "text": [
      "INFO:__main__:Call: DescriptorClass.__get__(<__main__.ClientClass object at 0x103463850>, <class '__main__.ClientClass'>)\n"
     ]
    },
    {
     "data": {
      "text/plain": [
       "<__main__.ClientClass at 0x103463850>"
      ]
     },
     "execution_count": 8,
     "metadata": {},
     "output_type": "execute_result"
    }
   ],
   "source": [
    "ClientClass().descriptor # instance가 None이므로 self를 반환"
   ]
  },
  {
   "cell_type": "markdown",
   "metadata": {},
   "source": [
    "##### _ _ set _ _(self, instance, value)\n",
    "\n",
    "- 디스크립터에 값을 할당할 때 호출되며, _ _set_ _( ) 메서드를 구현한 디스크립터에 대해서만 활성화\n",
    "-  _ _set_ _ 메서드를구현했는지 반드시 확인하여 부작용이생기지않도록 주의해야한다."
   ]
  },
  {
   "cell_type": "code",
   "execution_count": 9,
   "metadata": {},
   "outputs": [],
   "source": [
    "from typing import Callable, Any # 형 힌트 지원\n",
    "                                 # Callable[[Arg1Type, Arg2Type], ReturnType] \n",
    "\n",
    "class Validation: # 검증함수와 에러 메세지만을 가지고 있고 value는 __set__ 호출 시 전달받음\n",
    "    \"\"\"A configurable validation callable.\"\"\"\n",
    "\n",
    "    def __init__(\n",
    "        self, validation_function: Callable[[Any], bool], error_msg: str \n",
    "    ) -> None:\n",
    "        self.validation_function = validation_function\n",
    "        self.error_msg = error_msg\n",
    "\n",
    "    def __call__(self, value): # client.descriptor = 42 에서 42\n",
    "        if not self.validation_function(value):\n",
    "            raise ValueError(f\"{value!r} {self.error_msg}\")\n",
    "\n",
    "\n",
    "class Field:\n",
    "    \"\"\"A class attribute with validation functions configured over it.\"\"\"\n",
    "    def __init__(self, *validations):\n",
    "        self._name = None\n",
    "        self.validations = validations\n",
    "\n",
    "    def __set_name__(self, owner, name):\n",
    "        self._name = name\n",
    "\n",
    "    def __get__(self, instance, owner):\n",
    "        if instance is None:\n",
    "            return self\n",
    "        return instance.__dict__[self._name]\n",
    "\n",
    "    def validate(self, value):\n",
    "        for validation in self.validations:\n",
    "            validation(value)\n",
    "\n",
    "    def __set__(self, instance, value): # client.descriptor = 42 처럼 대입 시 실행됨\n",
    "        self.validate(value) # 여기서 raise ValueError 안된다면 다음 줄에서 대입됨\n",
    "        instance.__dict__[self._name] = value\n",
    "\n",
    "\n",
    "class ClientClass:\n",
    "    descriptor = Field(\n",
    "        Validation(lambda x: isinstance(x, (int, float)), \"is not a number\"),\n",
    "        Validation(lambda x: x >= 0, \"is not >= 0\"),\n",
    "    )"
   ]
  },
  {
   "cell_type": "code",
   "execution_count": 10,
   "metadata": {},
   "outputs": [
    {
     "name": "stdout",
     "output_type": "stream",
     "text": [
      "42\n"
     ]
    },
    {
     "ename": "ValueError",
     "evalue": "-42 is not >= 0",
     "output_type": "error",
     "traceback": [
      "\u001b[0;31m---------------------------------------------------------------------------\u001b[0m",
      "\u001b[0;31mValueError\u001b[0m                                Traceback (most recent call last)",
      "Cell \u001b[0;32mIn[10], line 5\u001b[0m\n\u001b[1;32m      2\u001b[0m client\u001b[39m.\u001b[39mdescriptor \u001b[39m=\u001b[39m \u001b[39m42\u001b[39m\n\u001b[1;32m      3\u001b[0m \u001b[39mprint\u001b[39m(client\u001b[39m.\u001b[39mdescriptor)\n\u001b[0;32m----> 5\u001b[0m client\u001b[39m.\u001b[39;49mdescriptor \u001b[39m=\u001b[39m \u001b[39m-\u001b[39m\u001b[39m42\u001b[39m\n",
      "Cell \u001b[0;32mIn[9], line 38\u001b[0m, in \u001b[0;36mField.__set__\u001b[0;34m(self, instance, value)\u001b[0m\n\u001b[1;32m     37\u001b[0m \u001b[39mdef\u001b[39;00m \u001b[39m__set__\u001b[39m(\u001b[39mself\u001b[39m, instance, value): \u001b[39m# client.descriptor = 42 처럼 대입 시 실행됨\u001b[39;00m\n\u001b[0;32m---> 38\u001b[0m     \u001b[39mself\u001b[39;49m\u001b[39m.\u001b[39;49mvalidate(value) \u001b[39m# 여기서 raise ValueError 안된다면 다음 줄에서 대입됨\u001b[39;00m\n\u001b[1;32m     39\u001b[0m     instance\u001b[39m.\u001b[39m\u001b[39m__dict__\u001b[39m[\u001b[39mself\u001b[39m\u001b[39m.\u001b[39m_name] \u001b[39m=\u001b[39m value\n",
      "Cell \u001b[0;32mIn[9], line 35\u001b[0m, in \u001b[0;36mField.validate\u001b[0;34m(self, value)\u001b[0m\n\u001b[1;32m     33\u001b[0m \u001b[39mdef\u001b[39;00m \u001b[39mvalidate\u001b[39m(\u001b[39mself\u001b[39m, value):\n\u001b[1;32m     34\u001b[0m     \u001b[39mfor\u001b[39;00m validation \u001b[39min\u001b[39;00m \u001b[39mself\u001b[39m\u001b[39m.\u001b[39mvalidations:\n\u001b[0;32m---> 35\u001b[0m         validation(value)\n",
      "Cell \u001b[0;32mIn[9], line 15\u001b[0m, in \u001b[0;36mValidation.__call__\u001b[0;34m(self, value)\u001b[0m\n\u001b[1;32m     13\u001b[0m \u001b[39mdef\u001b[39;00m \u001b[39m__call__\u001b[39m(\u001b[39mself\u001b[39m, value): \u001b[39m# client.descriptor = 42 에서 42\u001b[39;00m\n\u001b[1;32m     14\u001b[0m     \u001b[39mif\u001b[39;00m \u001b[39mnot\u001b[39;00m \u001b[39mself\u001b[39m\u001b[39m.\u001b[39mvalidation_function(value):\n\u001b[0;32m---> 15\u001b[0m         \u001b[39mraise\u001b[39;00m \u001b[39mValueError\u001b[39;00m(\u001b[39mf\u001b[39m\u001b[39m\"\u001b[39m\u001b[39m{\u001b[39;00mvalue\u001b[39m!r}\u001b[39;00m\u001b[39m \u001b[39m\u001b[39m{\u001b[39;00m\u001b[39mself\u001b[39m\u001b[39m.\u001b[39merror_msg\u001b[39m}\u001b[39;00m\u001b[39m\"\u001b[39m)\n",
      "\u001b[0;31mValueError\u001b[0m: -42 is not >= 0"
     ]
    }
   ],
   "source": [
    "client = ClientClass()\n",
    "client.descriptor = 42\n",
    "print(client.descriptor)\n",
    "\n",
    "client.descriptor = -42"
   ]
  },
  {
   "cell_type": "code",
   "execution_count": 11,
   "metadata": {},
   "outputs": [
    {
     "ename": "ValueError",
     "evalue": "'string' is not a number",
     "output_type": "error",
     "traceback": [
      "\u001b[0;31m---------------------------------------------------------------------------\u001b[0m",
      "\u001b[0;31mValueError\u001b[0m                                Traceback (most recent call last)",
      "Cell \u001b[0;32mIn[11], line 1\u001b[0m\n\u001b[0;32m----> 1\u001b[0m client\u001b[39m.\u001b[39;49mdescriptor \u001b[39m=\u001b[39m \u001b[39m\"\u001b[39m\u001b[39mstring\u001b[39m\u001b[39m\"\u001b[39m\n",
      "Cell \u001b[0;32mIn[9], line 38\u001b[0m, in \u001b[0;36mField.__set__\u001b[0;34m(self, instance, value)\u001b[0m\n\u001b[1;32m     37\u001b[0m \u001b[39mdef\u001b[39;00m \u001b[39m__set__\u001b[39m(\u001b[39mself\u001b[39m, instance, value): \u001b[39m# client.descriptor = 42 처럼 대입 시 실행됨\u001b[39;00m\n\u001b[0;32m---> 38\u001b[0m     \u001b[39mself\u001b[39;49m\u001b[39m.\u001b[39;49mvalidate(value) \u001b[39m# 여기서 raise ValueError 안된다면 다음 줄에서 대입됨\u001b[39;00m\n\u001b[1;32m     39\u001b[0m     instance\u001b[39m.\u001b[39m\u001b[39m__dict__\u001b[39m[\u001b[39mself\u001b[39m\u001b[39m.\u001b[39m_name] \u001b[39m=\u001b[39m value\n",
      "Cell \u001b[0;32mIn[9], line 35\u001b[0m, in \u001b[0;36mField.validate\u001b[0;34m(self, value)\u001b[0m\n\u001b[1;32m     33\u001b[0m \u001b[39mdef\u001b[39;00m \u001b[39mvalidate\u001b[39m(\u001b[39mself\u001b[39m, value):\n\u001b[1;32m     34\u001b[0m     \u001b[39mfor\u001b[39;00m validation \u001b[39min\u001b[39;00m \u001b[39mself\u001b[39m\u001b[39m.\u001b[39mvalidations:\n\u001b[0;32m---> 35\u001b[0m         validation(value)\n",
      "Cell \u001b[0;32mIn[9], line 15\u001b[0m, in \u001b[0;36mValidation.__call__\u001b[0;34m(self, value)\u001b[0m\n\u001b[1;32m     13\u001b[0m \u001b[39mdef\u001b[39;00m \u001b[39m__call__\u001b[39m(\u001b[39mself\u001b[39m, value): \u001b[39m# client.descriptor = 42 에서 42\u001b[39;00m\n\u001b[1;32m     14\u001b[0m     \u001b[39mif\u001b[39;00m \u001b[39mnot\u001b[39;00m \u001b[39mself\u001b[39m\u001b[39m.\u001b[39mvalidation_function(value):\n\u001b[0;32m---> 15\u001b[0m         \u001b[39mraise\u001b[39;00m \u001b[39mValueError\u001b[39;00m(\u001b[39mf\u001b[39m\u001b[39m\"\u001b[39m\u001b[39m{\u001b[39;00mvalue\u001b[39m!r}\u001b[39;00m\u001b[39m \u001b[39m\u001b[39m{\u001b[39;00m\u001b[39mself\u001b[39m\u001b[39m.\u001b[39merror_msg\u001b[39m}\u001b[39;00m\u001b[39m\"\u001b[39m)\n",
      "\u001b[0;31mValueError\u001b[0m: 'string' is not a number"
     ]
    }
   ],
   "source": [
    "client.descriptor = \"string\""
   ]
  },
  {
   "cell_type": "markdown",
   "metadata": {},
   "source": [
    "._s..et_0메서드가@property,setter가하던 일을대신"
   ]
  },
  {
   "attachments": {},
   "cell_type": "markdown",
   "metadata": {},
   "source": [
    "##### _ _ delete _ _(self, instance)\n",
    "\n",
    "self 는 descriptor 속성을 나타내며, instance 는 client 를 나타낸다."
   ]
  },
  {
   "cell_type": "code",
   "execution_count": 12,
   "metadata": {},
   "outputs": [],
   "source": [
    "# descripters_methods_3.py\n",
    "\n",
    "class ProtectedAttribute:\n",
    "    def __init__(self, requires_role=None) -> None:\n",
    "        self.permission_required = requires_role\n",
    "        self._name = None\n",
    "\n",
    "    def __set_name__(self, owner, name):\n",
    "        self._name = name\n",
    "\n",
    "    def __set__(self, user, value):\n",
    "        if value is None:\n",
    "            raise ValueError(f\"{self._name} can't be set to None\")\n",
    "        user.__dict__[self._name] = value\n",
    "\n",
    "    def __delete__(self, user):\n",
    "        if self.permission_required in user.permissions:\n",
    "            user.__dict__[self._name] = None\n",
    "        else:\n",
    "            raise ValueError(\n",
    "                f\"User {user!s} doesn't have {self.permission_required} \"\n",
    "                \"permission\"\n",
    "            )\n",
    "\n",
    "\n",
    "class User:\n",
    "    \"\"\"admin 권한이 있는 유저만 이메일 주소를 지울 수 있음\"\"\"\n",
    "\n",
    "    email = ProtectedAttribute(requires_role=\"admin\")\n",
    "\n",
    "    def __init__(\n",
    "        self, username: str, email: str, permission_list: list = None\n",
    "    ) -> None:\n",
    "        self.username = username\n",
    "        self.email = email\n",
    "        self.permissions = permission_list or []\n",
    "\n",
    "    def __str__(self):\n",
    "        return self.username"
   ]
  },
  {
   "cell_type": "code",
   "execution_count": null,
   "metadata": {},
   "outputs": [],
   "source": []
  },
  {
   "cell_type": "code",
   "execution_count": null,
   "metadata": {},
   "outputs": [],
   "source": []
  },
  {
   "cell_type": "code",
   "execution_count": null,
   "metadata": {},
   "outputs": [],
   "source": []
  },
  {
   "cell_type": "code",
   "execution_count": null,
   "metadata": {},
   "outputs": [],
   "source": []
  },
  {
   "cell_type": "code",
   "execution_count": null,
   "metadata": {},
   "outputs": [],
   "source": []
  },
  {
   "cell_type": "code",
   "execution_count": null,
   "metadata": {},
   "outputs": [],
   "source": []
  },
  {
   "cell_type": "code",
   "execution_count": null,
   "metadata": {},
   "outputs": [],
   "source": []
  },
  {
   "cell_type": "code",
   "execution_count": null,
   "metadata": {},
   "outputs": [],
   "source": []
  },
  {
   "cell_type": "code",
   "execution_count": null,
   "metadata": {},
   "outputs": [],
   "source": []
  },
  {
   "cell_type": "code",
   "execution_count": null,
   "metadata": {},
   "outputs": [],
   "source": []
  },
  {
   "cell_type": "code",
   "execution_count": null,
   "metadata": {},
   "outputs": [],
   "source": []
  },
  {
   "cell_type": "code",
   "execution_count": null,
   "metadata": {},
   "outputs": [],
   "source": []
  },
  {
   "cell_type": "code",
   "execution_count": null,
   "metadata": {},
   "outputs": [],
   "source": []
  }
 ],
 "metadata": {
  "kernelspec": {
   "display_name": "Python 3",
   "language": "python",
   "name": "python3"
  },
  "language_info": {
   "codemirror_mode": {
    "name": "ipython",
    "version": 3
   },
   "file_extension": ".py",
   "mimetype": "text/x-python",
   "name": "python",
   "nbconvert_exporter": "python",
   "pygments_lexer": "ipython3",
   "version": "3.9.6"
  },
  "orig_nbformat": 4
 },
 "nbformat": 4,
 "nbformat_minor": 2
}
