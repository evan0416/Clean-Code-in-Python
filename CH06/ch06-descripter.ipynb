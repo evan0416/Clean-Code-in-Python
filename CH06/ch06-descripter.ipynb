{
 "cells": [
  {
   "attachments": {},
   "cell_type": "markdown",
   "metadata": {},
   "source": [
    "### CH06 Getting More out of our Objects With Descriptors"
   ]
  },
  {
   "attachments": {},
   "cell_type": "markdown",
   "metadata": {},
   "source": [
    ":파이썬의 고급기능 디스크립터 다른언어에는 생소한 개념"
   ]
  },
  {
   "attachments": {},
   "cell_type": "markdown",
   "metadata": {},
   "source": [
    "#### 디스크립터 개요"
   ]
  },
  {
   "attachments": {},
   "cell_type": "markdown",
   "metadata": {},
   "source": [
    "디스크립터 메커니즘(descriptor mechanism)\n",
    "- 최소 두 개의 클래스가 필요\n",
    "- 디스크립터 프로토콜 중 최소 한개 이상 클래스 속성으로 포함해야 함\n",
    "\n",
    "(python 3.6기준 디스크립터 프로토콜)\n",
    "\n",
    "- __get__\n",
    "- __set__\n",
    "- __delete__\n",
    "- __set_name__"
   ]
  },
  {
   "attachments": {},
   "cell_type": "markdown",
   "metadata": {},
   "source": [
    "Tip : 디스크립터 객체는 항상 클래스 속성으로 선언해야 한다!"
   ]
  },
  {
   "cell_type": "code",
   "execution_count": 1,
   "metadata": {},
   "outputs": [],
   "source": [
    "\"\"\" 디스크립터는 __get__ 매직 메서드의 결과를 반환함 \"\"\"\n",
    "\n",
    "import logging\n",
    "\n",
    "logging.basicConfig(level=logging.INFO)\n",
    "logger = logging.getLogger(__name__)\n",
    "\n",
    "class DescriptorClass:\n",
    "    def __get__(self, instance, owner): # owner의 인스턴스와 클래스를 받음\n",
    "        if instance is None:\n",
    "            return self\n",
    "        logger.info(\n",
    "            \"Call: %s.__get__(%r, %r)\", \n",
    "            self.__class__.__name__,\n",
    "            instance,\n",
    "            owner,\n",
    "        )\n",
    "        return instance\n",
    "\n",
    "\n",
    "class ClientClass:\n",
    "    descriptor = DescriptorClass()"
   ]
  },
  {
   "cell_type": "code",
   "execution_count": 2,
   "metadata": {},
   "outputs": [
    {
     "name": "stderr",
     "output_type": "stream",
     "text": [
      "INFO:__main__:Call: DescriptorClass.__get__(<__main__.ClientClass object at 0x103448dc0>, <class '__main__.ClientClass'>)\n"
     ]
    },
    {
     "data": {
      "text/plain": [
       "<__main__.ClientClass at 0x103448dc0>"
      ]
     },
     "execution_count": 2,
     "metadata": {},
     "output_type": "execute_result"
    }
   ],
   "source": [
    "client = ClientClass()\n",
    "client.descriptor"
   ]
  },
  {
   "cell_type": "code",
   "execution_count": 3,
   "metadata": {},
   "outputs": [
    {
     "name": "stderr",
     "output_type": "stream",
     "text": [
      "INFO:__main__:Call: DescriptorClass.__get__(<__main__.ClientClass object at 0x103448dc0>, <class '__main__.ClientClass'>)\n"
     ]
    },
    {
     "data": {
      "text/plain": [
       "True"
      ]
     },
     "execution_count": 3,
     "metadata": {},
     "output_type": "execute_result"
    }
   ],
   "source": [
    "client.descriptor is client"
   ]
  },
  {
   "attachments": {},
   "cell_type": "markdown",
   "metadata": {},
   "source": [
    "#### 디스크립터 프로토콜의 메서드 검색\n",
    "\n",
    " _ _ get _ _(self, isinstance, owner)\n",
    "\n",
    "- owner가 있는 경우는 클래스에서 직접 호출하는 경우 isinstance가 None이기 떄문"
   ]
  },
  {
   "cell_type": "code",
   "execution_count": 4,
   "metadata": {},
   "outputs": [],
   "source": [
    "# descripters_methods_1.py\n",
    "\n",
    "\"\"\" 디스크립터를 인스턴스로 호출할 때와 클래스 속성으로 호출할 때의 차이점 \"\"\"\n",
    "\n",
    "class DescriptorClass:\n",
    "    def __get__(self, instance, owner):\n",
    "        if instance is None:\n",
    "            return self, owner\n",
    "        logger.info(\"Call: %s.__get__(%r, %r)\",\n",
    "                    self.__class__.__name__, instance, owner)\n",
    "        return instance\n",
    "    \n",
    "class ClientClass:\n",
    "    descriptor = DescriptorClass()"
   ]
  },
  {
   "cell_type": "code",
   "execution_count": 7,
   "metadata": {},
   "outputs": [
    {
     "data": {
      "text/plain": [
       "(<__main__.DescriptorClass at 0x103463e80>, __main__.ClientClass)"
      ]
     },
     "execution_count": 7,
     "metadata": {},
     "output_type": "execute_result"
    }
   ],
   "source": [
    "ClientClass.descriptor"
   ]
  },
  {
   "cell_type": "code",
   "execution_count": 8,
   "metadata": {},
   "outputs": [
    {
     "name": "stderr",
     "output_type": "stream",
     "text": [
      "INFO:__main__:Call: DescriptorClass.__get__(<__main__.ClientClass object at 0x103463850>, <class '__main__.ClientClass'>)\n"
     ]
    },
    {
     "data": {
      "text/plain": [
       "<__main__.ClientClass at 0x103463850>"
      ]
     },
     "execution_count": 8,
     "metadata": {},
     "output_type": "execute_result"
    }
   ],
   "source": [
    "ClientClass().descriptor # instance가 None이므로 self를 반환"
   ]
  },
  {
   "attachments": {},
   "cell_type": "markdown",
   "metadata": {},
   "source": [
    "##### _ _ set _ _(self, instance, value)\n",
    "\n",
    "- 디스크립터에 값을 할당할 때 호출되며, _ _set_ _( ) 메서드를 구현한 디스크립터에 대해서만 활성화\n",
    "-  _ _set_ _ 메서드를구현했는지 반드시 확인하여 부작용이생기지않도록 주의해야한다."
   ]
  },
  {
   "cell_type": "code",
   "execution_count": 9,
   "metadata": {},
   "outputs": [],
   "source": [
    "from typing import Callable, Any # 형 힌트 지원\n",
    "                                 # Callable[[Arg1Type, Arg2Type], ReturnType] \n",
    "\n",
    "class Validation: # 검증함수와 에러 메세지만을 가지고 있고 value는 __set__ 호출 시 전달받음\n",
    "    \"\"\"A configurable validation callable.\"\"\"\n",
    "\n",
    "    def __init__(\n",
    "        self, validation_function: Callable[[Any], bool], error_msg: str \n",
    "    ) -> None:\n",
    "        self.validation_function = validation_function\n",
    "        self.error_msg = error_msg\n",
    "\n",
    "    def __call__(self, value): # client.descriptor = 42 에서 42\n",
    "        if not self.validation_function(value):\n",
    "            raise ValueError(f\"{value!r} {self.error_msg}\")\n",
    "\n",
    "\n",
    "class Field:\n",
    "    \"\"\"A class attribute with validation functions configured over it.\"\"\"\n",
    "    def __init__(self, *validations):\n",
    "        self._name = None\n",
    "        self.validations = validations\n",
    "\n",
    "    def __set_name__(self, owner, name):\n",
    "        self._name = name\n",
    "\n",
    "    def __get__(self, instance, owner):\n",
    "        if instance is None:\n",
    "            return self\n",
    "        return instance.__dict__[self._name]\n",
    "\n",
    "    def validate(self, value):\n",
    "        for validation in self.validations:\n",
    "            validation(value)\n",
    "\n",
    "    def __set__(self, instance, value): # client.descriptor = 42 처럼 대입 시 실행됨\n",
    "        self.validate(value) # 여기서 raise ValueError 안된다면 다음 줄에서 대입됨\n",
    "        instance.__dict__[self._name] = value\n",
    "\n",
    "\n",
    "class ClientClass:\n",
    "    descriptor = Field(\n",
    "        Validation(lambda x: isinstance(x, (int, float)), \"is not a number\"),\n",
    "        Validation(lambda x: x >= 0, \"is not >= 0\"),\n",
    "    )"
   ]
  },
  {
   "cell_type": "code",
   "execution_count": 10,
   "metadata": {},
   "outputs": [
    {
     "name": "stdout",
     "output_type": "stream",
     "text": [
      "42\n"
     ]
    },
    {
     "ename": "ValueError",
     "evalue": "-42 is not >= 0",
     "output_type": "error",
     "traceback": [
      "\u001b[0;31m---------------------------------------------------------------------------\u001b[0m",
      "\u001b[0;31mValueError\u001b[0m                                Traceback (most recent call last)",
      "Cell \u001b[0;32mIn[10], line 5\u001b[0m\n\u001b[1;32m      2\u001b[0m client\u001b[39m.\u001b[39mdescriptor \u001b[39m=\u001b[39m \u001b[39m42\u001b[39m\n\u001b[1;32m      3\u001b[0m \u001b[39mprint\u001b[39m(client\u001b[39m.\u001b[39mdescriptor)\n\u001b[0;32m----> 5\u001b[0m client\u001b[39m.\u001b[39;49mdescriptor \u001b[39m=\u001b[39m \u001b[39m-\u001b[39m\u001b[39m42\u001b[39m\n",
      "Cell \u001b[0;32mIn[9], line 38\u001b[0m, in \u001b[0;36mField.__set__\u001b[0;34m(self, instance, value)\u001b[0m\n\u001b[1;32m     37\u001b[0m \u001b[39mdef\u001b[39;00m \u001b[39m__set__\u001b[39m(\u001b[39mself\u001b[39m, instance, value): \u001b[39m# client.descriptor = 42 처럼 대입 시 실행됨\u001b[39;00m\n\u001b[0;32m---> 38\u001b[0m     \u001b[39mself\u001b[39;49m\u001b[39m.\u001b[39;49mvalidate(value) \u001b[39m# 여기서 raise ValueError 안된다면 다음 줄에서 대입됨\u001b[39;00m\n\u001b[1;32m     39\u001b[0m     instance\u001b[39m.\u001b[39m\u001b[39m__dict__\u001b[39m[\u001b[39mself\u001b[39m\u001b[39m.\u001b[39m_name] \u001b[39m=\u001b[39m value\n",
      "Cell \u001b[0;32mIn[9], line 35\u001b[0m, in \u001b[0;36mField.validate\u001b[0;34m(self, value)\u001b[0m\n\u001b[1;32m     33\u001b[0m \u001b[39mdef\u001b[39;00m \u001b[39mvalidate\u001b[39m(\u001b[39mself\u001b[39m, value):\n\u001b[1;32m     34\u001b[0m     \u001b[39mfor\u001b[39;00m validation \u001b[39min\u001b[39;00m \u001b[39mself\u001b[39m\u001b[39m.\u001b[39mvalidations:\n\u001b[0;32m---> 35\u001b[0m         validation(value)\n",
      "Cell \u001b[0;32mIn[9], line 15\u001b[0m, in \u001b[0;36mValidation.__call__\u001b[0;34m(self, value)\u001b[0m\n\u001b[1;32m     13\u001b[0m \u001b[39mdef\u001b[39;00m \u001b[39m__call__\u001b[39m(\u001b[39mself\u001b[39m, value): \u001b[39m# client.descriptor = 42 에서 42\u001b[39;00m\n\u001b[1;32m     14\u001b[0m     \u001b[39mif\u001b[39;00m \u001b[39mnot\u001b[39;00m \u001b[39mself\u001b[39m\u001b[39m.\u001b[39mvalidation_function(value):\n\u001b[0;32m---> 15\u001b[0m         \u001b[39mraise\u001b[39;00m \u001b[39mValueError\u001b[39;00m(\u001b[39mf\u001b[39m\u001b[39m\"\u001b[39m\u001b[39m{\u001b[39;00mvalue\u001b[39m!r}\u001b[39;00m\u001b[39m \u001b[39m\u001b[39m{\u001b[39;00m\u001b[39mself\u001b[39m\u001b[39m.\u001b[39merror_msg\u001b[39m}\u001b[39;00m\u001b[39m\"\u001b[39m)\n",
      "\u001b[0;31mValueError\u001b[0m: -42 is not >= 0"
     ]
    }
   ],
   "source": [
    "client = ClientClass()\n",
    "client.descriptor = 42\n",
    "print(client.descriptor)\n",
    "\n",
    "client.descriptor = -42"
   ]
  },
  {
   "cell_type": "code",
   "execution_count": 11,
   "metadata": {},
   "outputs": [
    {
     "ename": "ValueError",
     "evalue": "'string' is not a number",
     "output_type": "error",
     "traceback": [
      "\u001b[0;31m---------------------------------------------------------------------------\u001b[0m",
      "\u001b[0;31mValueError\u001b[0m                                Traceback (most recent call last)",
      "Cell \u001b[0;32mIn[11], line 1\u001b[0m\n\u001b[0;32m----> 1\u001b[0m client\u001b[39m.\u001b[39;49mdescriptor \u001b[39m=\u001b[39m \u001b[39m\"\u001b[39m\u001b[39mstring\u001b[39m\u001b[39m\"\u001b[39m\n",
      "Cell \u001b[0;32mIn[9], line 38\u001b[0m, in \u001b[0;36mField.__set__\u001b[0;34m(self, instance, value)\u001b[0m\n\u001b[1;32m     37\u001b[0m \u001b[39mdef\u001b[39;00m \u001b[39m__set__\u001b[39m(\u001b[39mself\u001b[39m, instance, value): \u001b[39m# client.descriptor = 42 처럼 대입 시 실행됨\u001b[39;00m\n\u001b[0;32m---> 38\u001b[0m     \u001b[39mself\u001b[39;49m\u001b[39m.\u001b[39;49mvalidate(value) \u001b[39m# 여기서 raise ValueError 안된다면 다음 줄에서 대입됨\u001b[39;00m\n\u001b[1;32m     39\u001b[0m     instance\u001b[39m.\u001b[39m\u001b[39m__dict__\u001b[39m[\u001b[39mself\u001b[39m\u001b[39m.\u001b[39m_name] \u001b[39m=\u001b[39m value\n",
      "Cell \u001b[0;32mIn[9], line 35\u001b[0m, in \u001b[0;36mField.validate\u001b[0;34m(self, value)\u001b[0m\n\u001b[1;32m     33\u001b[0m \u001b[39mdef\u001b[39;00m \u001b[39mvalidate\u001b[39m(\u001b[39mself\u001b[39m, value):\n\u001b[1;32m     34\u001b[0m     \u001b[39mfor\u001b[39;00m validation \u001b[39min\u001b[39;00m \u001b[39mself\u001b[39m\u001b[39m.\u001b[39mvalidations:\n\u001b[0;32m---> 35\u001b[0m         validation(value)\n",
      "Cell \u001b[0;32mIn[9], line 15\u001b[0m, in \u001b[0;36mValidation.__call__\u001b[0;34m(self, value)\u001b[0m\n\u001b[1;32m     13\u001b[0m \u001b[39mdef\u001b[39;00m \u001b[39m__call__\u001b[39m(\u001b[39mself\u001b[39m, value): \u001b[39m# client.descriptor = 42 에서 42\u001b[39;00m\n\u001b[1;32m     14\u001b[0m     \u001b[39mif\u001b[39;00m \u001b[39mnot\u001b[39;00m \u001b[39mself\u001b[39m\u001b[39m.\u001b[39mvalidation_function(value):\n\u001b[0;32m---> 15\u001b[0m         \u001b[39mraise\u001b[39;00m \u001b[39mValueError\u001b[39;00m(\u001b[39mf\u001b[39m\u001b[39m\"\u001b[39m\u001b[39m{\u001b[39;00mvalue\u001b[39m!r}\u001b[39;00m\u001b[39m \u001b[39m\u001b[39m{\u001b[39;00m\u001b[39mself\u001b[39m\u001b[39m.\u001b[39merror_msg\u001b[39m}\u001b[39;00m\u001b[39m\"\u001b[39m)\n",
      "\u001b[0;31mValueError\u001b[0m: 'string' is not a number"
     ]
    }
   ],
   "source": [
    "client.descriptor = \"string\""
   ]
  },
  {
   "attachments": {},
   "cell_type": "markdown",
   "metadata": {},
   "source": [
    "._s..et_0메서드가@property,setter가하던 일을대신"
   ]
  },
  {
   "attachments": {},
   "cell_type": "markdown",
   "metadata": {},
   "source": [
    "##### _ _ delete _ _(self, instance)\n",
    "\n",
    "self 는 descriptor 속성을 나타내며, instance 는 client 를 나타낸다."
   ]
  },
  {
   "cell_type": "code",
   "execution_count": 2,
   "metadata": {},
   "outputs": [],
   "source": [
    "# descripters_methods_3.py\n",
    "\n",
    "class ProtectedAttribute:\n",
    "    def __init__(self, requires_role=None) -> None:\n",
    "        self.permission_required = requires_role\n",
    "        self._name = None\n",
    "\n",
    "    def __set_name__(self, owner, name):\n",
    "        self._name = name\n",
    "\n",
    "    def __set__(self, user, value):\n",
    "        if value is None:\n",
    "            raise ValueError(f\"{self._name} can't be set to None\")\n",
    "        user.__dict__[self._name] = value\n",
    "\n",
    "    def __delete__(self, user):\n",
    "        if self.permission_required in user.permissions:\n",
    "            user.__dict__[self._name] = None\n",
    "        else:\n",
    "            raise ValueError(\n",
    "                f\"User {user!s} doesn't have {self.permission_required} \"\n",
    "                \"permission\"\n",
    "            )\n",
    "\n",
    "\n",
    "class User:\n",
    "    \"\"\"admin 권한이 있는 유저만 이메일 주소를 지울 수 있음\"\"\"\n",
    "\n",
    "    email = ProtectedAttribute(requires_role=\"admin\")\n",
    "\n",
    "    def __init__(\n",
    "        self, username: str, email: str, permission_list: list = None\n",
    "    ) -> None:\n",
    "        self.username = username\n",
    "        self.email = email\n",
    "        self.permissions = permission_list or []\n",
    "\n",
    "    def __str__(self):\n",
    "        return self.username"
   ]
  },
  {
   "cell_type": "code",
   "execution_count": 3,
   "metadata": {},
   "outputs": [],
   "source": [
    "admin = User(\"root\", \"root@d.com\", [\"admin\"])\n",
    "user = User(\"user\", \"user@d.com\", [\"email\", \"helpdesk\"])"
   ]
  },
  {
   "cell_type": "code",
   "execution_count": 4,
   "metadata": {},
   "outputs": [
    {
     "data": {
      "text/plain": [
       "True"
      ]
     },
     "execution_count": 4,
     "metadata": {},
     "output_type": "execute_result"
    }
   ],
   "source": [
    "del admin.email\n",
    "admin.email is None"
   ]
  },
  {
   "cell_type": "code",
   "execution_count": 5,
   "metadata": {},
   "outputs": [
    {
     "ename": "ValueError",
     "evalue": "User user doesn't have admin permission",
     "output_type": "error",
     "traceback": [
      "\u001b[0;31m---------------------------------------------------------------------------\u001b[0m",
      "\u001b[0;31mValueError\u001b[0m                                Traceback (most recent call last)",
      "Cell \u001b[0;32mIn[5], line 1\u001b[0m\n\u001b[0;32m----> 1\u001b[0m \u001b[39mdel\u001b[39;00m user\u001b[39m.\u001b[39memail\n",
      "Cell \u001b[0;32mIn[2], line 20\u001b[0m, in \u001b[0;36mProtectedAttribute.__delete__\u001b[0;34m(self, user)\u001b[0m\n\u001b[1;32m     18\u001b[0m     user\u001b[39m.\u001b[39m\u001b[39m__dict__\u001b[39m[\u001b[39mself\u001b[39m\u001b[39m.\u001b[39m_name] \u001b[39m=\u001b[39m \u001b[39mNone\u001b[39;00m\n\u001b[1;32m     19\u001b[0m \u001b[39melse\u001b[39;00m:\n\u001b[0;32m---> 20\u001b[0m     \u001b[39mraise\u001b[39;00m \u001b[39mValueError\u001b[39;00m(\n\u001b[1;32m     21\u001b[0m         \u001b[39mf\u001b[39m\u001b[39m\"\u001b[39m\u001b[39mUser \u001b[39m\u001b[39m{\u001b[39;00muser\u001b[39m!s}\u001b[39;00m\u001b[39m doesn\u001b[39m\u001b[39m'\u001b[39m\u001b[39mt have \u001b[39m\u001b[39m{\u001b[39;00m\u001b[39mself\u001b[39m\u001b[39m.\u001b[39mpermission_required\u001b[39m}\u001b[39;00m\u001b[39m \u001b[39m\u001b[39m\"\u001b[39m\n\u001b[1;32m     22\u001b[0m         \u001b[39m\"\u001b[39m\u001b[39mpermission\u001b[39m\u001b[39m\"\u001b[39m\n\u001b[1;32m     23\u001b[0m     )\n",
      "\u001b[0;31mValueError\u001b[0m: User user doesn't have admin permission"
     ]
    }
   ],
   "source": [
    "del user.email"
   ]
  },
  {
   "attachments": {},
   "cell_type": "markdown",
   "metadata": {},
   "source": [
    "_ _ set_name_ _ (self, owner, name)\n",
    "\n",
    "- 디스크립터가 처리하려는 속성의 이름을 알려줌\n",
    "- 속성의 이름은 _ _dict_ _ 에서 _ _get_ _ 과 _ _set_ _ 메서드로 읽고 쓸 때 사용"
   ]
  },
  {
   "cell_type": "code",
   "execution_count": 6,
   "metadata": {},
   "outputs": [],
   "source": [
    "class DescriptorWithName:\n",
    "    def __init__(self, name: str = None)-> None:\n",
    "        self.name = name\n",
    "    \n",
    "    def __set_name__(self, owner, name):\n",
    "        self.name = self.name or name\n",
    "        \n",
    "class ClientClass:\n",
    "    descripter = DescriptorWithName()"
   ]
  },
  {
   "cell_type": "code",
   "execution_count": 7,
   "metadata": {},
   "outputs": [
    {
     "data": {
      "text/plain": [
       "'descripter'"
      ]
     },
     "execution_count": 7,
     "metadata": {},
     "output_type": "execute_result"
    }
   ],
   "source": [
    "client = ClientClass()\n",
    "client.descripter.name"
   ]
  },
  {
   "attachments": {},
   "cell_type": "markdown",
   "metadata": {},
   "source": [
    "#### 디스크립터 유형\n",
    "\n",
    "- _ _set_ _, _ _delete_ _메서드를 구현했다면 data desriptor 구분됨\n",
    "\n",
    "- _ _get_ _만 구현했다면 non-data descriptor"
   ]
  },
  {
   "attachments": {},
   "cell_type": "markdown",
   "metadata": {},
   "source": [
    "##### non-data descripter\n"
   ]
  },
  {
   "cell_type": "code",
   "execution_count": 8,
   "metadata": {},
   "outputs": [],
   "source": [
    "class NonDataDescriptor:\n",
    "    def __get__(self, isinstance, owner):\n",
    "        if isinstance is None:\n",
    "            return self\n",
    "        return 42\n",
    "\n",
    "class ClientClass:\n",
    "    descriptor = NonDataDescriptor()"
   ]
  },
  {
   "cell_type": "code",
   "execution_count": 9,
   "metadata": {},
   "outputs": [
    {
     "data": {
      "text/plain": [
       "42"
      ]
     },
     "execution_count": 9,
     "metadata": {},
     "output_type": "execute_result"
    }
   ],
   "source": [
    "client = ClientClass()\n",
    "client.descriptor"
   ]
  },
  {
   "cell_type": "code",
   "execution_count": 10,
   "metadata": {},
   "outputs": [
    {
     "data": {
      "text/plain": [
       "43"
      ]
     },
     "execution_count": 10,
     "metadata": {},
     "output_type": "execute_result"
    }
   ],
   "source": [
    "client.descriptor = 43\n",
    "client.descriptor"
   ]
  },
  {
   "cell_type": "code",
   "execution_count": 12,
   "metadata": {},
   "outputs": [
    {
     "data": {
      "text/plain": [
       "{'descriptor': 43}"
      ]
     },
     "execution_count": 12,
     "metadata": {},
     "output_type": "execute_result"
    }
   ],
   "source": [
    "vars(client)\n",
    "\n",
    "# 역주 : vars는 파이선의 내장함수로 클래스의 속성을 저장한느 사전인 __dict__를 반환"
   ]
  },
  {
   "cell_type": "code",
   "execution_count": 13,
   "metadata": {},
   "outputs": [
    {
     "data": {
      "text/plain": [
       "42"
      ]
     },
     "execution_count": 13,
     "metadata": {},
     "output_type": "execute_result"
    }
   ],
   "source": [
    "del client.descriptor\n",
    "client.descriptor  \n",
    "#  non-data descriptor의 경우 내부 딕셔너리보다 후순위로 검색"
   ]
  },
  {
   "attachments": {},
   "cell_type": "markdown",
   "metadata": {},
   "source": [
    "##### Data Descriptor\n",
    "\n",
    "- _ _set_ _() object._ _dict_ _보다 높은 우선순위\n",
    "\n",
    "- 디스크립터의 set에서 setattr()이나 할당 표현식을 직접 사용하면  \n",
    " 무한루프가 발생하므로 주의가 필요함"
   ]
  },
  {
   "cell_type": "code",
   "execution_count": 15,
   "metadata": {},
   "outputs": [],
   "source": [
    "class DataDescriptor:\n",
    "    \n",
    "    def __init__(self):\n",
    "        self._name = None\n",
    "        \n",
    "    def __get__(self, instance, owner):\n",
    "        if instance is None:\n",
    "            return self\n",
    "        return 42\n",
    "    \n",
    "    def __set__(self, instance, value):\n",
    "        instance.__dict__[self._name] = value\n",
    "        \n",
    "    def __set_name__(self, owner, name):\n",
    "        self._name = name\n",
    "        \n",
    "\n",
    "class ClientClass:\n",
    "    descriptor = DataDescriptor()\n",
    "    \n",
    "    "
   ]
  },
  {
   "cell_type": "code",
   "execution_count": 16,
   "metadata": {},
   "outputs": [
    {
     "data": {
      "text/plain": [
       "42"
      ]
     },
     "execution_count": 16,
     "metadata": {},
     "output_type": "execute_result"
    }
   ],
   "source": [
    "client = ClientClass()\n",
    "client.descriptor"
   ]
  },
  {
   "cell_type": "code",
   "execution_count": 17,
   "metadata": {},
   "outputs": [
    {
     "data": {
      "text/plain": [
       "42"
      ]
     },
     "execution_count": 17,
     "metadata": {},
     "output_type": "execute_result"
    }
   ],
   "source": [
    "client.descriptor = 99\n",
    "client.descriptor"
   ]
  },
  {
   "cell_type": "code",
   "execution_count": 18,
   "metadata": {},
   "outputs": [
    {
     "data": {
      "text/plain": [
       "{'descriptor': 99}"
      ]
     },
     "execution_count": 18,
     "metadata": {},
     "output_type": "execute_result"
    }
   ],
   "source": [
    "vars(client)"
   ]
  },
  {
   "cell_type": "code",
   "execution_count": 19,
   "metadata": {},
   "outputs": [
    {
     "data": {
      "text/plain": [
       "99"
      ]
     },
     "execution_count": 19,
     "metadata": {},
     "output_type": "execute_result"
    }
   ],
   "source": [
    "client.__dict__['descriptor']"
   ]
  },
  {
   "attachments": {},
   "cell_type": "markdown",
   "metadata": {},
   "source": [
    "이렇게 되는 이유 _ _set_ _() 메서드가 호출되면 사전에 값을 설정  \n",
    "data descriptor 속성 조회시 _ _dict_ _ 대신 클래스의 descriptor 먼저 조회"
   ]
  },
  {
   "attachments": {},
   "cell_type": "markdown",
   "metadata": {},
   "source": [
    "Tip: descriptor의 _ _set_ _ 메서드에서 setattr()이나 할당 표현식을 직접 사용하면 안된다.  \n",
    "무한루프가 발생\n",
    "\n",
    "\n",
    "역주: instance.descriptor = value와 같은 할당 표현식도 같은 이유로 무한루프 유발"
   ]
  },
  {
   "cell_type": "code",
   "execution_count": null,
   "metadata": {},
   "outputs": [],
   "source": [
    "#### Descriptor 실전\n"
   ]
  },
  {
   "attachments": {},
   "cell_type": "markdown",
   "metadata": {},
   "source": [
    "##### 디스크립터를 사용하지 않은 예"
   ]
  },
  {
   "cell_type": "code",
   "execution_count": 20,
   "metadata": {},
   "outputs": [],
   "source": [
    "\"\"\"Clean Code in Python - Chapter 6: Descriptors\n",
    "> A Pythonic Implementation\n",
    "\"\"\"\n",
    "import time\n",
    "\n",
    "class Traveller:\n",
    "    def __init__(self, name, current_city):\n",
    "        self.name = name\n",
    "        self._current_city = current_city\n",
    "        self._cities_visited = [current_city]\n",
    "\n",
    "    @property\n",
    "    def current_city(self):\n",
    "        return self._current_city\n",
    "\n",
    "    @current_city.setter\n",
    "    def current_city(self, new_city):\n",
    "        if new_city != self._current_city:\n",
    "            self._cities_visited.append(new_city)\n",
    "        self._current_city = new_city\n",
    "\n",
    "    @property\n",
    "    def cities_visited(self):\n",
    "        return self._cities_visited\n"
   ]
  },
  {
   "cell_type": "code",
   "execution_count": 21,
   "metadata": {},
   "outputs": [
    {
     "data": {
      "text/plain": [
       "['Barcelona', 'Paris', 'Brussels', 'Amsterdam']"
      ]
     },
     "execution_count": 21,
     "metadata": {},
     "output_type": "execute_result"
    }
   ],
   "source": [
    "alice = Traveller(\"Alice\", \"Barcelona\")\n",
    "alice.current_city = \"Paris\"\n",
    "alice.current_city = \"Brussels\"\n",
    "alice.current_city = \"Amsterdam\"\n",
    "alice.cities_visited\n"
   ]
  },
  {
   "attachments": {},
   "cell_type": "markdown",
   "metadata": {},
   "source": [
    "#### 이상적인 구현 방법"
   ]
  },
  {
   "cell_type": "code",
   "execution_count": 22,
   "metadata": {},
   "outputs": [],
   "source": [
    "# descriptors_pythonic_2.py\n",
    "\n",
    "class HistoryTracedAttribute:\n",
    "    \"\"\"trace_attribute_name 값에 따라서 이를 추적하는 클래스\"\"\"\n",
    "    def __init__(self, trace_attribute_name: str) -> None:\n",
    "        self.trace_attribute_name = trace_attribute_name  # [1]\n",
    "        self._name = None\n",
    "\n",
    "    def __set_name__(self, owner, name):\n",
    "        self._name = name\n",
    "\n",
    "    def __get__(self, instance, owner):\n",
    "        if instance is None:\n",
    "            return self\n",
    "        return instance.__dict__[self._name]\n",
    "\n",
    "    def __set__(self, instance, value):\n",
    "        self._track_change_in_value_for_instance(instance, value)\n",
    "        instance.__dict__[self._name] = value\n",
    "\n",
    "    def _track_change_in_value_for_instance(self, instance, value):\n",
    "        self._set_default(instance)  # [2]\n",
    "        if self._needs_to_track_change(instance, value):\n",
    "            instance.__dict__[self.trace_attribute_name].append(value)\n",
    "\n",
    "    def _needs_to_track_change(self, instance, value) -> bool:\n",
    "        \"\"\"값의 변화를 추적할지 여부를 결정하는 메서드\n",
    "\n",
    "        추적 조건:\n",
    "            * 첫 번째 데이터\n",
    "            * current_value 와 같지 않은 경우\n",
    "        \"\"\"\n",
    "        try:\n",
    "            current_value = instance.__dict__[self._name]\n",
    "        except KeyError:  # [3]\n",
    "            return True\n",
    "        return value != current_value  # [4]\n",
    "\n",
    "    def _set_default(self, instance):\n",
    "        instance.__dict__.setdefault(self.trace_attribute_name, [])  # [6]\n",
    "\n",
    "\n",
    "class Traveller:\n",
    "    current_city = HistoryTracedAttribute(\"cities_visited\")  # [1]\n",
    "\n",
    "    def __init__(self, name, current_city):\n",
    "        self.name = name\n",
    "        self.current_city = current_city  # [5]"
   ]
  },
  {
   "cell_type": "code",
   "execution_count": 23,
   "metadata": {},
   "outputs": [
    {
     "data": {
      "text/plain": [
       "['Barcelona', 'Paris', 'Brussels', 'Amsterdam']"
      ]
     },
     "execution_count": 23,
     "metadata": {},
     "output_type": "execute_result"
    }
   ],
   "source": [
    "alice = Traveller(\"Alice\", \"Barcelona\")\n",
    "alice.current_city = \"Paris\"\n",
    "alice.current_city = \"Brussels\"\n",
    "alice.current_city = \"Brussels\"\n",
    "alice.current_city = \"Amsterdam\"\n",
    "alice.cities_visited"
   ]
  },
  {
   "cell_type": "code",
   "execution_count": 24,
   "metadata": {},
   "outputs": [
    {
     "data": {
      "text/plain": [
       "'Amsterdam'"
      ]
     },
     "execution_count": 24,
     "metadata": {},
     "output_type": "execute_result"
    }
   ],
   "source": [
    "alice.current_city"
   ]
  },
  {
   "cell_type": "markdown",
   "metadata": {},
   "source": [
    "#### 다른 형태의 디스크립터\n",
    "\n",
    "- 전역 상태 공유 이슈"
   ]
  },
  {
   "cell_type": "code",
   "execution_count": 25,
   "metadata": {},
   "outputs": [],
   "source": [
    "class SharedDataDescriptor:\n",
    "    def __init__(self, initial_value):\n",
    "        self.value = initial_value\n",
    "\n",
    "    def __get__(self, instance, owner):\n",
    "        if instance is None:\n",
    "            return self\n",
    "        return self.value\n",
    "\n",
    "    def __set__(self, instance, value):\n",
    "        self.value = value\n",
    "\n",
    "\n",
    "class ClientClass:\n",
    "    descriptor = SharedDataDescriptor(\"first value\")"
   ]
  },
  {
   "cell_type": "code",
   "execution_count": 27,
   "metadata": {},
   "outputs": [
    {
     "data": {
      "text/plain": [
       "'first value'"
      ]
     },
     "execution_count": 27,
     "metadata": {},
     "output_type": "execute_result"
    }
   ],
   "source": [
    "client1 = ClientClass()\n",
    "client1.descriptor"
   ]
  },
  {
   "cell_type": "code",
   "execution_count": 28,
   "metadata": {},
   "outputs": [
    {
     "data": {
      "text/plain": [
       "'first value'"
      ]
     },
     "execution_count": 28,
     "metadata": {},
     "output_type": "execute_result"
    }
   ],
   "source": [
    "client2 = ClientClass()\n",
    "client2.descriptor"
   ]
  },
  {
   "cell_type": "code",
   "execution_count": 29,
   "metadata": {},
   "outputs": [
    {
     "data": {
      "text/plain": [
       "'value for client 2'"
      ]
     },
     "execution_count": 29,
     "metadata": {},
     "output_type": "execute_result"
    }
   ],
   "source": [
    "client2.descriptor = \"value for client 2\"\n",
    "client2.descriptor"
   ]
  },
  {
   "cell_type": "code",
   "execution_count": 30,
   "metadata": {},
   "outputs": [
    {
     "data": {
      "text/plain": [
       "'value for client 2'"
      ]
     },
     "execution_count": 30,
     "metadata": {},
     "output_type": "execute_result"
    }
   ],
   "source": [
    "client1.descriptor"
   ]
  },
  {
   "attachments": {},
   "cell_type": "markdown",
   "metadata": {},
   "source": [
    "##### 객체의 사전에 접근하기\n",
    "\n",
    "디스크립터 객체의 사전 __dict__에 값을 저장하고 조회한다.  \n",
    " | 항상 인스턴스의 __dict__속성에서 데이터를 저장하고 조회한다."
   ]
  },
  {
   "cell_type": "markdown",
   "metadata": {},
   "source": [
    "- 약한 참조 사용"
   ]
  },
  {
   "cell_type": "code",
   "execution_count": 31,
   "metadata": {},
   "outputs": [],
   "source": [
    "from weakref import WeakKeyDictionary\n",
    "\n",
    "\n",
    "class DescriptorClass:\n",
    "    def __init__(self, initial_value):\n",
    "        self.value = initial_value\n",
    "        self.mapping = WeakKeyDictionary()\n",
    "\n",
    "    def __get__(self, instance, owner):\n",
    "        if instance is None:\n",
    "            return self\n",
    "        return self.mapping.get(instance, self.value)\n",
    "\n",
    "    def __set__(self, instance, value):\n",
    "        self.mapping[instance] = value\n",
    "\n",
    "\n",
    "class ClientClass:\n",
    "    descriptor = DescriptorClass(\"default value\")"
   ]
  },
  {
   "cell_type": "markdown",
   "metadata": {},
   "source": [
    "#### 디스크립터에 대한 고려사항"
   ]
  },
  {
   "cell_type": "markdown",
   "metadata": {},
   "source": [
    "클래스 데코레이터 피하기"
   ]
  },
  {
   "cell_type": "code",
   "execution_count": 32,
   "metadata": {},
   "outputs": [],
   "source": [
    "\n",
    "from datetime import datetime\n",
    "from functools import partial\n",
    "from typing import Any, Callable\n",
    "\n",
    "\n",
    "class BaseFieldTransformation:\n",
    "    \"\"\"Base class to define descriptors that convert values.\"\"\"\n",
    "\n",
    "    def __init__(self, transformation: Callable[[Any, str], str]) -> None:\n",
    "        self._name = None\n",
    "        self.transformation = transformation\n",
    "\n",
    "    def __get__(self, instance, owner):\n",
    "        if instance is None:\n",
    "            return self\n",
    "        raw_value = instance.__dict__[self._name]\n",
    "        return self.transformation(raw_value)\n",
    "\n",
    "    def __set_name__(self, owner, name):\n",
    "        self._name = name\n",
    "\n",
    "    def __set__(self, instance, value):\n",
    "        instance.__dict__[self._name] = value\n",
    "\n",
    "\n",
    "ShowOriginal = partial(BaseFieldTransformation, transformation=lambda x: x) # transformation이 자동 설정됨\n",
    "HideField = partial(BaseFieldTransformation, transformation=lambda x: \"**redacted**\")\n",
    "FormatTime = partial(\n",
    "    BaseFieldTransformation,\n",
    "    transformation=lambda ft: ft.strftime(\"%Y-%m-%d %H:%M\"),\n",
    ")\n",
    "\n",
    "\n",
    "class LoginEvent:\n",
    "    username = ShowOriginal()\n",
    "    password = HideField()\n",
    "    ip = ShowOriginal()\n",
    "    timestamp = FormatTime()\n",
    "\n",
    "    def __init__(self, username, password, ip, timestamp):\n",
    "        self.username = username\n",
    "        self.password = password\n",
    "        self.ip = ip\n",
    "        self.timestamp = timestamp\n",
    "\n",
    "    def serialize(self):\n",
    "        return {\n",
    "            \"username\": self.username,\n",
    "            \"password\": self.password,\n",
    "            \"ip\": self.ip,\n",
    "            \"timestamp\": self.timestamp,\n",
    "        }\n",
    "\n",
    "\n",
    "class BaseEvent:\n",
    "    \"\"\"Abstract the serialization and the __init__\"\"\"\n",
    "\n",
    "    def __init__(self, **kwargs):\n",
    "        self.__dict__.update(kwargs)\n",
    "\n",
    "    def serialize(self):\n",
    "        return {\n",
    "            attr: getattr(self, attr) for attr in self._fields_to_serialize()\n",
    "        }\n",
    "\n",
    "    def _fields_to_serialize(self):\n",
    "        for attr_name, value in vars(self.__class__).items():\n",
    "            if isinstance(value, BaseFieldTransformation): # '__module__, __doc__ 등은 제외하고 변환함\n",
    "                yield attr_name\n",
    "\n",
    "\n",
    "class NewLoginEvent(BaseEvent):\n",
    "    \"\"\"A class that takes advantage of the base to only define the fields.\"\"\"\n",
    "\n",
    "    username = ShowOriginal()\n",
    "    password = HideField()\n",
    "    ip = ShowOriginal()\n",
    "    timestamp = FormatTime()"
   ]
  },
  {
   "cell_type": "code",
   "execution_count": 33,
   "metadata": {},
   "outputs": [],
   "source": [
    "le = NewLoginEvent(username = \"usr\",\n",
    "                   password = \"secret password\",\n",
    "                   ip = \"127.0.0.1\",\n",
    "                   timestamp = datetime(2016, 7, 20, 15, 45))"
   ]
  },
  {
   "cell_type": "code",
   "execution_count": 34,
   "metadata": {},
   "outputs": [
    {
     "data": {
      "text/plain": [
       "{'username': 'usr',\n",
       " 'password': '**redacted**',\n",
       " 'ip': '127.0.0.1',\n",
       " 'timestamp': '2016-07-20 15:45'}"
      ]
     },
     "execution_count": 34,
     "metadata": {},
     "output_type": "execute_result"
    }
   ],
   "source": [
    "le.serialize()"
   ]
  },
  {
   "cell_type": "markdown",
   "metadata": {},
   "source": [
    "##### 파이썬 내부에서의 디스크립터 활용"
   ]
  },
  {
   "cell_type": "code",
   "execution_count": 35,
   "metadata": {},
   "outputs": [],
   "source": [
    "\"\"\" 함수와 메서드 \"\"\"\n",
    "\n",
    "class Method:\n",
    "    def __init__(self, name):\n",
    "        self.name = name\n",
    "        \n",
    "    def __call__(self, instance, arg1, arg2):\n",
    "        print(f\"{self.name}: {instance} 호출, 인자는 {arg1}과 {arg2}\")\n",
    "        \n",
    "class MyClass:\n",
    "    method = Method(\"Internal call\")"
   ]
  },
  {
   "cell_type": "code",
   "execution_count": 36,
   "metadata": {},
   "outputs": [
    {
     "name": "stdout",
     "output_type": "stream",
     "text": [
      "External call: <__main__.MyClass object at 0x1036a87f0> 호출, 인자는 1st과 2nd\n"
     ]
    }
   ],
   "source": [
    "instance = MyClass()\n",
    "Method(\"External call\")(instance, \"1st\", \"2nd\")"
   ]
  },
  {
   "cell_type": "code",
   "execution_count": 37,
   "metadata": {},
   "outputs": [
    {
     "ename": "TypeError",
     "evalue": "__call__() missing 1 required positional argument: 'arg2'",
     "output_type": "error",
     "traceback": [
      "\u001b[0;31m---------------------------------------------------------------------------\u001b[0m",
      "\u001b[0;31mTypeError\u001b[0m                                 Traceback (most recent call last)",
      "Cell \u001b[0;32mIn[37], line 1\u001b[0m\n\u001b[0;32m----> 1\u001b[0m instance\u001b[39m.\u001b[39;49mmethod(\u001b[39m\"\u001b[39;49m\u001b[39m1st\u001b[39;49m\u001b[39m\"\u001b[39;49m, \u001b[39m\"\u001b[39;49m\u001b[39m2nd\u001b[39;49m\u001b[39m\"\u001b[39;49m)\n",
      "\u001b[0;31mTypeError\u001b[0m: __call__() missing 1 required positional argument: 'arg2'"
     ]
    }
   ],
   "source": [
    "\n",
    "instance.method(\"1st\", \"2nd\")"
   ]
  },
  {
   "cell_type": "code",
   "execution_count": 38,
   "metadata": {},
   "outputs": [],
   "source": [
    "\n",
    "\"\"\" 함수와 메서드, get을 구현하여 클래스 메소드로도 사용할 수 있도록 개선 \"\"\"\n",
    "from types import MethodType\n",
    "\n",
    "class Method:\n",
    "    def __init__(self, name):\n",
    "        self.name = name\n",
    "        \n",
    "    def __call__(self, instance, arg1, arg2):\n",
    "        print(f\"{self.name}: {instance} 호출, 인자는 {arg1}과 {arg2}\")\n",
    "        \n",
    "    def __get__(self, myclass_inst, myclass_cls):\n",
    "        if myclass_inst == None:\n",
    "            return self\n",
    "        else:\n",
    "            return MethodType(self, myclass_inst)\n",
    "        \n",
    "class MyClass:\n",
    "    method = Method(\"Internal call\")"
   ]
  },
  {
   "cell_type": "code",
   "execution_count": 39,
   "metadata": {},
   "outputs": [
    {
     "name": "stdout",
     "output_type": "stream",
     "text": [
      "External call: <__main__.MyClass object at 0x1036cbb50> 호출, 인자는 1st과 2nd\n",
      "Internal call: <__main__.MyClass object at 0x1036cbb50> 호출, 인자는 1st과 2nd\n"
     ]
    }
   ],
   "source": [
    "instance = MyClass()\n",
    "Method(\"External call\")(instance, \"1st\", \"2nd\")\n",
    "instance.method(\"1st\", \"2nd\")"
   ]
  },
  {
   "cell_type": "code",
   "execution_count": null,
   "metadata": {},
   "outputs": [],
   "source": []
  }
 ],
 "metadata": {
  "kernelspec": {
   "display_name": "Python 3",
   "language": "python",
   "name": "python3"
  },
  "language_info": {
   "codemirror_mode": {
    "name": "ipython",
    "version": 3
   },
   "file_extension": ".py",
   "mimetype": "text/x-python",
   "name": "python",
   "nbconvert_exporter": "python",
   "pygments_lexer": "ipython3",
   "version": "3.9.6"
  },
  "orig_nbformat": 4
 },
 "nbformat": 4,
 "nbformat_minor": 2
}
