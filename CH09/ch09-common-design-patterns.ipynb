{
 "cells": [
  {
   "cell_type": "markdown",
   "metadata": {},
   "source": [
    "# CH09 Common design patterns"
   ]
  },
  {
   "cell_type": "markdown",
   "metadata": {},
   "source": [
    "#### 실전 속의 디자인 패턴"
   ]
  },
  {
   "cell_type": "markdown",
   "metadata": {},
   "source": [
    "##### 생성(creational) 페턴\n",
    ":객체 초기화를 위한 파라미터를 결정하거나  \n",
    " 초기화에 필요한 관련 객체를 준비하는 등의 모든 관련 작업을 단순화하려는 것"
   ]
  },
  {
   "cell_type": "markdown",
   "metadata": {},
   "source": [
    "##### 팩토리\n",
    ": 파이썬은 클래스, 함수, 사용자 정의 객체 등의 역할이 구분되지 않으므로 별로 필요하지 않음"
   ]
  },
  {
   "cell_type": "markdown",
   "metadata": {},
   "source": [
    "##### 싱글턴과 공유 상태(monostate)\n",
    "- 일반적으로 싱글턴은 사요하지 않는 것이 좋음\n",
    "- 객체 지향 소프트웨어를 위한 전역 변수의 한 형태이며 나쁜 습관(대부분)\n",
    "- 파이썬에서 이를 해결하는 가장 쉬운 방법은 모듈을 사용하는 것  \n",
    " 여러 번 임포트하더라도 sys.modules에 로딩되는 것은 항상 하나임\n",
    "- 클래스 변수의 게터나 세트를 활용하거나 디스크립터 사용할 수도 있음\n"
   ]
  },
  {
   "cell_type": "code",
   "execution_count": 5,
   "metadata": {},
   "outputs": [],
   "source": [
    "import logging\n",
    "\n",
    "import logging\n",
    "\n",
    "logging.basicConfig()\n",
    "logger = logging.getLogger(__name__)\n",
    "\n",
    "class GitFetcher:\n",
    "    _current_tag = None\n",
    "\n",
    "    def __init__(self, tag):\n",
    "        self.current_tag = tag # 프로퍼티를 통해 클래스 변수와 연결되어 있음\n",
    "\n",
    "    @property\n",
    "    def current_tag(self):\n",
    "        if self._current_tag is None:\n",
    "            raise AttributeError(\"Tag is not initialized yet.\")\n",
    "        return self._current_tag \n",
    "    \n",
    "    @current_tag.setter\n",
    "    def current_tag(self, new_tag):\n",
    "        self.__class__._current_tag = new_tag \n",
    "        \n",
    "    def pull(self):\n",
    "        logger.info(f\"Pull at {self.current_tag}\")"
   ]
  },
  {
   "cell_type": "code",
   "execution_count": 3,
   "metadata": {},
   "outputs": [],
   "source": [
    "f1 = GitFetcher(0.1)\n",
    "f2 = GitFetcher(0.2)\n",
    "f1.current_tag = 0.3\n",
    "f2.pull()"
   ]
  },
  {
   "cell_type": "code",
   "execution_count": 4,
   "metadata": {},
   "outputs": [],
   "source": [
    "f1.pull()"
   ]
  },
  {
   "cell_type": "markdown",
   "metadata": {},
   "source": [
    "더 많은 속성이 필요하거나 더 깔끔한 디자인 -> 디스크립터 사용"
   ]
  },
  {
   "cell_type": "code",
   "execution_count": 21,
   "metadata": {},
   "outputs": [],
   "source": [
    "import logging\n",
    "\n",
    "logging.basicConfig()\n",
    "logger = logging.getLogger(__name__)\n",
    "\n",
    "class SharedAttribute:\n",
    "    def __init__(self, initial_value=None):\n",
    "        self.value = initial_value\n",
    "        self._name = None\n",
    "\n",
    "    def __get__(self, instance, owner):\n",
    "        if instance is None:\n",
    "            return self\n",
    "        if self.value is None:\n",
    "            raise AttributeError(f\"{self._name} was never set\")\n",
    "        return self.value\n",
    "\n",
    "    def __set__(self, instance, new_value):\n",
    "        self.value = new_value\n",
    "\n",
    "    def __set_name__(self, owner, name):\n",
    "        self._name = name\n",
    " \n",
    "\n",
    "class GitFetcher:\n",
    "\n",
    "    current_tag = SharedAttribute()\n",
    "    current_branch = SharedAttribute()\n",
    "\n",
    "    def __init__(self, tag, branch=None):\n",
    "        self.current_tag = tag\n",
    "        self.current_branch = branch\n",
    "\n",
    "    def pull(self):\n",
    "        logger.info(\"pulling from %s\", self.current_tag)\n",
    "        return self.current_tag"
   ]
  },
  {
   "cell_type": "markdown",
   "metadata": {},
   "source": [
    "##### # borg 패턴\n",
    "- 어쩔 수 없이 꼭 싱글턴을 사용해야 하는 최후의 더 나은 대안.  \n",
    "- 같은 클래스의 모든 인스턴스가 모든 속성을 복제하는 객체를 만드는 것."
   ]
  },
  {
   "cell_type": "code",
   "execution_count": 7,
   "metadata": {},
   "outputs": [],
   "source": [
    "class BaseFetcher:\n",
    "    def __init__(self, source):\n",
    "        self.source = source\n",
    "\n",
    "        \n",
    "class TagFetcher(BaseFetcher):\n",
    "    _attributes = {} # borg 패턴의 특징,\n",
    "    \n",
    "    def __init__(self, source):\n",
    "        self.__dict__ = self.__class__._attributes\n",
    "        super().__init__(source)\n",
    "        \n",
    "    def pull(self):\n",
    "        logger.info(f\"Pull at tag {self.source}\")\n",
    "        return f\"Tag = {self.source}\"\n",
    "    \n",
    "\n",
    "class BranchFetcher(BaseFetcher):\n",
    "    _attributes = {} # 사전은 레퍼런스 형태로 전달되는 변경 가능한 mutable 객체이므로\n",
    "                     # 사전을 업데이트하면 모든 객체에 동일하게 업데이트 됨\n",
    "    \n",
    "    def __init__(self, source):\n",
    "        self.__dict__ = self.__class__._attributes\n",
    "        super().__init__(source)\n",
    "        \n",
    "    def pull(self):\n",
    "        logger.info(f\"Pull at branch {self.source}\")\n",
    "        return f\"Branch = {self.source}\"    "
   ]
  },
  {
   "cell_type": "markdown",
   "metadata": {},
   "source": [
    "속성을 저장할 사전을 클래스 속성으로 지정하고, 객체를 초기화할 때 모든 객체에서 바로 이 동일한 사전을 참조하도록 해야 한다."
   ]
  },
  {
   "cell_type": "code",
   "execution_count": 8,
   "metadata": {},
   "outputs": [
    {
     "name": "stdout",
     "output_type": "stream",
     "text": [
      "{'source': 0.2}\n",
      "[<class '__main__.TagFetcher'>, <class '__main__.SharedAllMixin'>, <class '__main__.BaseFetcher'>, <class 'object'>]\n",
      "[<class '__main__.TagFetcher'>, <class '__main__.BranchFetcher'>]\n"
     ]
    }
   ],
   "source": [
    "class SharedAllMixin:\n",
    "    def __init__(self, *args, **kwargs):\n",
    "        try:\n",
    "            self.__class__._attributes\n",
    "        except AttributeError:\n",
    "            self.__class__._attributes = {}\n",
    "\n",
    "        self.__dict__ = self.__class__._attributes\n",
    "        super().__init__(*args, **kwargs)\n",
    "\n",
    "\n",
    "class BaseFetcher:\n",
    "    def __init__(self, source):\n",
    "        self.source = source\n",
    "\n",
    "\n",
    "\n",
    "class TagFetcher(SharedAllMixin, BaseFetcher):\n",
    "    def pull(self):\n",
    "        logger.info(\"pulling from tag %s\", self.source)\n",
    "        return f\"Tag = {self.source}\"\n",
    "\n",
    "\n",
    "class BranchFetcher(SharedAllMixin, BaseFetcher):\n",
    "    def pull(self):\n",
    "        logger.info(\"pulling from branch %s\", self.source)\n",
    "        return f\"Branch = {self.source}\"\n",
    "\n",
    "    \n",
    "if __name__ == \"__main__\":\n",
    "    f1 = TagFetcher(0.1)\n",
    "    f2 = TagFetcher(0.2)\n",
    "    \n",
    "    print(f2.__dict__)\n",
    "    print(TagFetcher.mro())\n",
    "    print(SharedAllMixin.__subclasses__())\n",
    "    \n",
    "    f2.pull()\n",
    "    f1.pull()"
   ]
  },
  {
   "cell_type": "markdown",
   "metadata": {},
   "source": [
    "##### 빌더\n",
    "- 필요로 하는 모든 객체를 직접 생성해주는 하나의 복잡한 객체를 만들어야 함\n",
    "- 한 번에 모든 것을 처리해주는 추상화를 해야 한다는 것"
   ]
  },
  {
   "cell_type": "markdown",
   "metadata": {},
   "source": [
    "##### 구조페턴\n",
    "- 여러 개의 객체를 조합하여  만듬 -> 향상된 기능을 깔끔하게 구현"
   ]
  },
  {
   "cell_type": "markdown",
   "metadata": {},
   "source": [
    "##### 어댑터 패턴\n",
    "구현 방법\n",
    "- 사용하려는 클래스를 상속 받는 클래스를 만드는 것  \n",
    "    개념적으로 상속은 is a 관계로 적용하는 것이 바람직  \n",
    "    (cuz : 얼마나 많은 외부라이브러리를 가져올지 정확히 알기 어려우므로)"
   ]
  },
  {
   "cell_type": "code",
   "execution_count": null,
   "metadata": {},
   "outputs": [],
   "source": [
    "class UsernameLookup:\n",
    "    def search(self, user_namespace):\n",
    "        logger.info(\"looking for %s\", user_namespace)"
   ]
  },
  {
   "cell_type": "code",
   "execution_count": null,
   "metadata": {},
   "outputs": [],
   "source": [
    "class UserSource(UsernameLookup):\n",
    "    def fetch(self, user_id, username):\n",
    "        user_namespace = self._adapt_arguments(user_id, username)\n",
    "        return self.search(user_namespace)\n",
    "\n",
    "    @staticmethod\n",
    "    def _adapt_arguments(user_id, username):\n",
    "        return f\"{user_id}:{username}\""
   ]
  },
  {
   "cell_type": "markdown",
   "metadata": {},
   "source": [
    "- 컴포지션 사용 (더 나은 방법)"
   ]
  },
  {
   "cell_type": "code",
   "execution_count": null,
   "metadata": {},
   "outputs": [],
   "source": [
    "class UserSource:\n",
    "    def __init__(self, username_lookup: UsernameLookup) -> None:\n",
    "        self.username_lookup = username_lookup\n",
    "\n",
    "    def fetch(self, user_id, username):\n",
    "        user_namespace = self._adapt_arguments(user_id, username)\n",
    "        return self.username_lookup.search(user_namespace)\n",
    "\n",
    "    @staticmethod\n",
    "    def _adapt_arguments(user_id, username):\n",
    "        return f\"{user_id}:{username}\""
   ]
  },
  {
   "cell_type": "markdown",
   "metadata": {},
   "source": [
    "#### 컴포지트\n",
    "- 객체는 구조화된 트리 형태, 기본 객체 : 리프노드 | 컨테이너 객체 : 중간 노드\n",
    "- 클라이언트는 이중에 아무거나 호출하여 결과를 얻고자 함\n",
    "- 컴포지트 객체도 클라이언트처럼 동작\n",
    "- 리프 노드인지 중간 노드인지 상관없이 해당 요청을 관련 노드가 처리할 수 있을 때까지 계속 전달"
   ]
  },
  {
   "cell_type": "code",
   "execution_count": 1,
   "metadata": {},
   "outputs": [],
   "source": [
    "from typing import Iterable, Union\n",
    "\n",
    "\n",
    "class Product:\n",
    "    def __init__(self, name, price):\n",
    "        self._name = name\n",
    "        self._price = price\n",
    "        \n",
    "    @property\n",
    "    def price(self):\n",
    "        return self._price\n",
    "    \n",
    "    \n",
    "class ProductBundle:\n",
    "    def __init__(\n",
    "        self,\n",
    "        name,\n",
    "        perc_discount,\n",
    "        *products: Iterable[Union[Product, \"ProductBundle\"]]\n",
    "    ) -> None:\n",
    "        self._name = name\n",
    "        self._perc_discount = perc_discount\n",
    "        self._products = products\n",
    "\n",
    "    @property\n",
    "    def price(self):\n",
    "        total = sum(p.price for p in self._products)\n",
    "        return total * (1 - self._perc_discount)"
   ]
  },
  {
   "cell_type": "markdown",
   "metadata": {},
   "source": [
    "#### 데코레이터(패턴)\n",
    "- 5장 데코레이터랑은 유사점 있지만 다른 개념\n",
    "- 상속을 하지 않고도 객체의 기능을 동적으로 확장가능\n"
   ]
  },
  {
   "cell_type": "code",
   "execution_count": 2,
   "metadata": {},
   "outputs": [],
   "source": [
    "class DictQuery:\n",
    "    def __init__(self, **kwargs):\n",
    "        self._raw_query = kwargs\n",
    "        \n",
    "    def render(self)->dict:\n",
    "        return self._raw_query\n",
    "    "
   ]
  },
  {
   "cell_type": "code",
   "execution_count": 3,
   "metadata": {},
   "outputs": [],
   "source": [
    "class QueryEnhancer:\n",
    "    def __init__(self, query: DictQuery):\n",
    "        self.decorated = query\n",
    "\n",
    "    def render(self):\n",
    "        return self.decorated.render()\n",
    "\n",
    "\n",
    "class RemoveEmpty(QueryEnhancer):\n",
    "    def render(self):\n",
    "        original = super().render()                     # 오리지널을 받아서\n",
    "        return {k: v for k, v in original.items() if v} # 새로운 형식으로 리턴함\n",
    "\n",
    "\n",
    "class CaseInsensitive(QueryEnhancer):\n",
    "    def render(self):\n",
    "        original = super().render()\n",
    "        return {k: v.lower() for k, v in original.items()}"
   ]
  },
  {
   "cell_type": "code",
   "execution_count": 4,
   "metadata": {},
   "outputs": [],
   "source": [
    "original = DictQuery(foo=\"bar\", empty=\"\", none=None, upper=\"UPPERCASE\", title=\"Title\")\n",
    "new_query = CaseInsensitive(RemoveEmpty(original))"
   ]
  },
  {
   "cell_type": "code",
   "execution_count": 5,
   "metadata": {},
   "outputs": [
    {
     "data": {
      "text/plain": [
       "{'foo': 'bar',\n",
       " 'empty': '',\n",
       " 'none': None,\n",
       " 'upper': 'UPPERCASE',\n",
       " 'title': 'Title'}"
      ]
     },
     "execution_count": 5,
     "metadata": {},
     "output_type": "execute_result"
    }
   ],
   "source": [
    "original.render()"
   ]
  },
  {
   "cell_type": "code",
   "execution_count": 6,
   "metadata": {},
   "outputs": [
    {
     "data": {
      "text/plain": [
       "{'foo': 'bar', 'upper': 'uppercase', 'title': 'title'}"
      ]
     },
     "execution_count": 6,
     "metadata": {},
     "output_type": "execute_result"
    }
   ],
   "source": [
    "new_query.render()"
   ]
  },
  {
   "cell_type": "markdown",
   "metadata": {},
   "source": [
    "##### # 파이썬의 동적인 특성을 활요한 다른 방법"
   ]
  },
  {
   "cell_type": "code",
   "execution_count": 9,
   "metadata": {},
   "outputs": [],
   "source": [
    "from typing import Callable, Dict, Iterable\n",
    "\n",
    "class QueryEnhancer:\n",
    "    def __init__(\n",
    "        self,\n",
    "        query: DictQuery,\n",
    "        *decorators: Iterable[Callable[[Dict[str, str]], Dict[str, str]]]\n",
    "    )-> None:\n",
    "        self._decorated = query\n",
    "        self._decorators = decorators\n",
    "        \n",
    "    def render(self):\n",
    "        current_result = self._decorated.render()\n",
    "        for deco in self._decorators:\n",
    "            current_result = deco(current_result)\n",
    "        return current_result\n",
    "    \n",
    "def remove_empty(original: dict) -> dict:\n",
    "    return {k: v for k, v in original.items() if v}\n",
    "\n",
    "def case_insensitive(original: dict)-> dict:\n",
    "    return {k: v.lower() for k, v in original.items()}"
   ]
  },
  {
   "cell_type": "code",
   "execution_count": 10,
   "metadata": {},
   "outputs": [
    {
     "data": {
      "text/plain": [
       "{'foo': 'bar', 'upper': 'uppercase', 'title': 'title'}"
      ]
     },
     "execution_count": 10,
     "metadata": {},
     "output_type": "execute_result"
    }
   ],
   "source": [
    "QueryEnhancer(original, remove_empty, case_insensitive).render()"
   ]
  },
  {
   "cell_type": "markdown",
   "metadata": {},
   "source": [
    "#### 파사드(Facade)\n",
    "- 객체 간 상호 작용을 단순화하려는 많은 상황에서 유용\n",
    "- 각각의 객체에 대한 모든 연결을 만드는 대신 파사드 역할을 하는 중간 객체를 만듬\n",
    "- _ _init_ _.py 파일이 모듈의 루트로서 파사드와 같은 역할을 함."
   ]
  },
  {
   "cell_type": "markdown",
   "metadata": {},
   "source": [
    "##### 행동(behavioral) 패턴\n",
    ": 어떤 패턴을 사용하든지 간에 결국에는 중복을 피하거나 행동을 캡슐화하는 추상화를 통해 모델 간 결합력을 낮추는 방법"
   ]
  },
  {
   "cell_type": "markdown",
   "metadata": {},
   "source": [
    "##### 책임 연쇄 패턴\n",
    "- 후계자(successor)라는 개념 추가: 현재 이번트가 처리할 수 없는 경우를 대비한 다음 이벤트 객체\n",
    "- 직접 처리가 가능한 경우 결과를 반환, 처리가 불가능하면 후계자에게 전달하고 이러한 과정 반복"
   ]
  },
  {
   "cell_type": "code",
   "execution_count": 11,
   "metadata": {},
   "outputs": [],
   "source": [
    "import re\n",
    "\n",
    "class Event:\n",
    "    pattern = None\n",
    "\n",
    "    def __init__(self, next_event=None):\n",
    "        self.successor = next_event\n",
    "\n",
    "    def process(self, logline: str):\n",
    "        if self.can_process(logline):\n",
    "            return self._process(logline)\n",
    "\n",
    "        if self.successor is not None:\n",
    "            return self.successor.process(logline)\n",
    "\n",
    "    def _process(self, logline: str) -> dict:\n",
    "        parsed_data = self._parse_data(logline)\n",
    "        return {\n",
    "            \"type\": self.__class__.__name__,\n",
    "            \"id\": parsed_data[\"id\"],\n",
    "            \"value\": parsed_data[\"value\"],\n",
    "        }\n",
    "\n",
    "    @classmethod\n",
    "    def can_process(cls, logline: str) -> bool:\n",
    "        return cls.pattern.match(logline) is not None\n",
    "\n",
    "    @classmethod\n",
    "    def _parse_data(cls, logline: str) -> dict:\n",
    "        return cls.pattern.match(logline).groupdict()\n",
    "\n",
    "\n",
    "class LoginEvent(Event):\n",
    "    pattern = re.compile(r\"(?P<id>\\d+):\\s+login\\s+(?P<value>\\S+)\")\n",
    "\n",
    "\n",
    "class LogoutEvent(Event):\n",
    "    pattern = re.compile(r\"(?P<id>\\d+):\\s+logout\\s+(?P<value>\\S+)\")\n",
    "\n",
    "#로그인과 로그아웃 이벤트를 둘 다 처리할 수 있는 타입을 추가\n",
    "class SessionEvent(Event):\n",
    "    pattern = re.compile(r\"(?P<id>\\d+):\\s+log(in|out)\\s+(?P<value>\\S+)\")"
   ]
  },
  {
   "cell_type": "code",
   "execution_count": 12,
   "metadata": {},
   "outputs": [
    {
     "data": {
      "text/plain": [
       "{'type': 'LoginEvent', 'id': '567', 'value': 'User'}"
      ]
     },
     "execution_count": 12,
     "metadata": {},
     "output_type": "execute_result"
    }
   ],
   "source": [
    "chain = LogoutEvent(LoginEvent())\n",
    "chain.process(\"567: login User\")\n",
    "#사전은 LoginEvent가 생성한 것이다. 로그인"
   ]
  },
  {
   "cell_type": "code",
   "execution_count": null,
   "metadata": {},
   "outputs": [],
   "source": [
    "# 애플리케이션에서LoginEvent 전에SessionEvent 를먼저처리하고싶은경우\n",
    "chain = SessionEvent (LoginEvent (LogoutEvent()))"
   ]
  },
  {
   "cell_type": "markdown",
   "metadata": {},
   "source": [
    "#### 템플릿 메서드 패턴(template method pattern)\n",
    "#참고 : p296.  \n",
    "코드 재사용성을 높여주고 객체를 유현하게 하여 다형성 유지 + 코드 쉽게 수정\n",
    "\n",
    "주요 개념 : 어떤 행위를 정의할 때 특정한 형태의 클래스 계층구조 만듬"
   ]
  },
  {
   "cell_type": "markdown",
   "metadata": {},
   "source": [
    "##### 커맨드(command pattern)\n",
    ": 수행해야 할 작업을 요청한 순간부터 실행 시까지 분리할 수 있는 기능 제공,  \n",
    "클라이언트가 발행한 원래 요청을 수신자와 분리도 가능\n",
    "\n",
    "- 실행될 명령의 파라미터를 저장하는 객체를 만드는 것\n",
    "- 명령에 필요한 파라미터에 필터를 더하거나 제거하는 것처럼 상호작용할 수 있는 메서드 제공\n",
    "- 마지막으로 실제로 작업을 수행할 객체를 만듬"
   ]
  },
  {
   "cell_type": "markdown",
   "metadata": {},
   "source": [
    "#### 상태(state) 패턴\n",
    ": 상태(state) 패턴은 구체화(reification) 을 도와주는 패턴.  \n",
    "상태별로 작은 객체를 만들어 각각의 객체가 적은 책임을 갖게 하는 것"
   ]
  },
  {
   "cell_type": "code",
   "execution_count": 22,
   "metadata": {},
   "outputs": [],
   "source": [
    "import abc\n",
    "\n",
    "import logging\n",
    "\n",
    "logging.basicConfig()\n",
    "logger = logging.getLogger(__name__)\n",
    "\n",
    "class InvalidTransitionError(Exception):\n",
    "    \"\"\"Raised when trying to move to a target state from an unreachable sourcer\"\"\"\n",
    "    \n",
    "\n",
    "class MergeRequestState(abc.ABC):\n",
    "    def __init__(self, merge_request):\n",
    "        self._merge_request = merge_request\n",
    "        \n",
    "    @abc.abstractclassmethod\n",
    "    def open(self):\n",
    "        ...\n",
    "    \n",
    "    @abc.abstractclassmethod\n",
    "    def close(self):\n",
    "        ...\n",
    "    \n",
    "    @abc.abstractclassmethod\n",
    "    def merge(self):\n",
    "        ...\n",
    "        \n",
    "    def __str__(self):\n",
    "        return self.__class__.__name__\n",
    "    \n",
    "class Open(MergeRequestState):\n",
    "    def open(self):\n",
    "        self._merge_request.approvals = 0\n",
    "\n",
    "    def close(self):\n",
    "        self._merge_request.approvals = 0\n",
    "        self._merge_request.state = Closed \n",
    "\n",
    "    def merge(self):\n",
    "        logger.info(\"merging %s\", self._merge_request)\n",
    "        logger.info(\"deleting branch %s\", self._merge_request.source_branch)\n",
    "        self._merge_request.state = Merged \n",
    "        \n",
    "        \n",
    "class Closed(MergeRequestState):\n",
    "    def open(self):\n",
    "        logger.info(\"reopening closed merge request %s\", self._merge_request)\n",
    "        self._merge_request.state = Open # 상태를 전환하는 코드\n",
    "\n",
    "    def close(self):\n",
    "        \"\"\"Current state.\"\"\"\n",
    "\n",
    "    def merge(self):\n",
    "        raise InvalidTransitionError(\"can't merge a closed request\")\n",
    "    \n",
    "class Merged(MergeRequestState):\n",
    "    def open(self):\n",
    "        raise InvalidTransitionError(\"already merged request\")\n",
    "\n",
    "    def close(self):\n",
    "        raise InvalidTransitionError(\"already merged request\")\n",
    "\n",
    "    def merge(self):\n",
    "        \"\"\"Current state.\"\"\"\n",
    "        \n",
    "        \n",
    "\n",
    "class MergeRequest:\n",
    "    def __init__(self, source_branch: str, target_branch: str) -> None:\n",
    "        self.source_branch = source_branch\n",
    "        self.target_branch = target_branch\n",
    "        self._state = None\n",
    "        self.approvals = 0\n",
    "        self.state = Open\n",
    "\n",
    "    @property\n",
    "    def state(self):\n",
    "        return self._state\n",
    "\n",
    "    @state.setter\n",
    "    def state(self, new_state_cls):\n",
    "        print(\"calling setter\", new_state_cls)\n",
    "        self._state = new_state_cls(self)\n",
    "\n",
    "    def open(self):\n",
    "        return self.state.open()\n",
    "\n",
    "    def close(self):\n",
    "        return self.state.close()\n",
    "\n",
    "    def merge(self):\n",
    "        return self.state.merge()\n",
    "\n",
    "    def __str__(self):\n",
    "        return f\"{self.target_branch}:{self.source_branch}\"\n"
   ]
  },
  {
   "cell_type": "code",
   "execution_count": 23,
   "metadata": {},
   "outputs": [
    {
     "name": "stdout",
     "output_type": "stream",
     "text": [
      "calling setter <class '__main__.Open'>\n"
     ]
    },
    {
     "data": {
      "text/plain": [
       "0"
      ]
     },
     "execution_count": 23,
     "metadata": {},
     "output_type": "execute_result"
    }
   ],
   "source": [
    "mr = MergeRequest(\"develop\", \"master\")\n",
    "mr.open()\n",
    "mr.approvals"
   ]
  },
  {
   "cell_type": "code",
   "execution_count": 24,
   "metadata": {},
   "outputs": [
    {
     "name": "stdout",
     "output_type": "stream",
     "text": [
      "calling setter <class '__main__.Closed'>\n"
     ]
    },
    {
     "data": {
      "text/plain": [
       "0"
      ]
     },
     "execution_count": 24,
     "metadata": {},
     "output_type": "execute_result"
    }
   ],
   "source": [
    "mr.approvals = 3\n",
    "mr.close()\n",
    "mr.approvals"
   ]
  },
  {
   "cell_type": "code",
   "execution_count": 25,
   "metadata": {},
   "outputs": [
    {
     "name": "stdout",
     "output_type": "stream",
     "text": [
      "calling setter <class '__main__.Open'>\n"
     ]
    }
   ],
   "source": [
    "mr.open()"
   ]
  },
  {
   "cell_type": "code",
   "execution_count": 26,
   "metadata": {},
   "outputs": [
    {
     "name": "stdout",
     "output_type": "stream",
     "text": [
      "calling setter <class '__main__.Merged'>\n"
     ]
    }
   ],
   "source": [
    "mr.merge()"
   ]
  },
  {
   "cell_type": "code",
   "execution_count": 27,
   "metadata": {},
   "outputs": [
    {
     "ename": "InvalidTransitionError",
     "evalue": "already merged request",
     "output_type": "error",
     "traceback": [
      "\u001b[0;31m---------------------------------------------------------------------------\u001b[0m",
      "\u001b[0;31mInvalidTransitionError\u001b[0m                    Traceback (most recent call last)",
      "\u001b[1;32m/Users/jangseokhee/workspace/P/Clean-Code-in-Python/CH09/ch09-common-design-patterns.ipynb Cell 47\u001b[0m in \u001b[0;36m<cell line: 1>\u001b[0;34m()\u001b[0m\n\u001b[0;32m----> <a href='vscode-notebook-cell:/Users/jangseokhee/workspace/P/Clean-Code-in-Python/CH09/ch09-common-design-patterns.ipynb#Y101sZmlsZQ%3D%3D?line=0'>1</a>\u001b[0m mr\u001b[39m.\u001b[39;49mclose()\n",
      "\u001b[1;32m/Users/jangseokhee/workspace/P/Clean-Code-in-Python/CH09/ch09-common-design-patterns.ipynb Cell 47\u001b[0m in \u001b[0;36mMergeRequest.close\u001b[0;34m(self)\u001b[0m\n\u001b[1;32m     <a href='vscode-notebook-cell:/Users/jangseokhee/workspace/P/Clean-Code-in-Python/CH09/ch09-common-design-patterns.ipynb#Y101sZmlsZQ%3D%3D?line=87'>88</a>\u001b[0m \u001b[39mdef\u001b[39;00m \u001b[39mclose\u001b[39m(\u001b[39mself\u001b[39m):\n\u001b[0;32m---> <a href='vscode-notebook-cell:/Users/jangseokhee/workspace/P/Clean-Code-in-Python/CH09/ch09-common-design-patterns.ipynb#Y101sZmlsZQ%3D%3D?line=88'>89</a>\u001b[0m     \u001b[39mreturn\u001b[39;00m \u001b[39mself\u001b[39;49m\u001b[39m.\u001b[39;49mstate\u001b[39m.\u001b[39;49mclose()\n",
      "\u001b[1;32m/Users/jangseokhee/workspace/P/Clean-Code-in-Python/CH09/ch09-common-design-patterns.ipynb Cell 47\u001b[0m in \u001b[0;36mMerged.close\u001b[0;34m(self)\u001b[0m\n\u001b[1;32m     <a href='vscode-notebook-cell:/Users/jangseokhee/workspace/P/Clean-Code-in-Python/CH09/ch09-common-design-patterns.ipynb#Y101sZmlsZQ%3D%3D?line=59'>60</a>\u001b[0m \u001b[39mdef\u001b[39;00m \u001b[39mclose\u001b[39m(\u001b[39mself\u001b[39m):\n\u001b[0;32m---> <a href='vscode-notebook-cell:/Users/jangseokhee/workspace/P/Clean-Code-in-Python/CH09/ch09-common-design-patterns.ipynb#Y101sZmlsZQ%3D%3D?line=60'>61</a>\u001b[0m     \u001b[39mraise\u001b[39;00m InvalidTransitionError(\u001b[39m\"\u001b[39m\u001b[39malready merged request\u001b[39m\u001b[39m\"\u001b[39m)\n",
      "\u001b[0;31mInvalidTransitionError\u001b[0m: already merged request"
     ]
    }
   ],
   "source": [
    "mr.close()"
   ]
  },
  {
   "cell_type": "markdown",
   "metadata": {},
   "source": [
    "#### Null 객체 패턴\n",
    "\n",
    "- 함수나 메서드는 일관된 탑입을 반환해야 함\n",
    "\n",
    "Ex) 사용자를 조회했는데 사용자가 없을 때\n",
    "- 예외 발생\n",
    "- UserUnknown 타입을 반환\n",
    "\n",
    "그 어떠한 경우에도 None을 반환하면 안됨  \n",
    "None이라는 문구는 방금 일어난 일에 대한 아무것도 설명해주지 않으며  \n",
    "호출자는 특별한 공지가 없으면 아무 생각없이 반환 객체에 대해 메서드를 호출할 것이므로.  \n",
    "결국 AttributeError가 발생( None -> AttributeError까지 이어짐)"
   ]
  }
 ],
 "metadata": {
  "kernelspec": {
   "display_name": "base",
   "language": "python",
   "name": "python3"
  },
  "language_info": {
   "codemirror_mode": {
    "name": "ipython",
    "version": 3
   },
   "file_extension": ".py",
   "mimetype": "text/x-python",
   "name": "python",
   "nbconvert_exporter": "python",
   "pygments_lexer": "ipython3",
   "version": "3.9.13"
  },
  "orig_nbformat": 4
 },
 "nbformat": 4,
 "nbformat_minor": 2
}
